{
 "cells": [
  {
   "cell_type": "code",
   "execution_count": 1,
   "id": "10cc9062",
   "metadata": {},
   "outputs": [
    {
     "name": "stdout",
     "output_type": "stream",
     "text": [
      "(3888, 209)\n"
     ]
    },
    {
     "data": {
      "text/html": [
       "<div>\n",
       "<style scoped>\n",
       "    .dataframe tbody tr th:only-of-type {\n",
       "        vertical-align: middle;\n",
       "    }\n",
       "\n",
       "    .dataframe tbody tr th {\n",
       "        vertical-align: top;\n",
       "    }\n",
       "\n",
       "    .dataframe thead th {\n",
       "        text-align: right;\n",
       "    }\n",
       "</style>\n",
       "<table border=\"1\" class=\"dataframe\">\n",
       "  <thead>\n",
       "    <tr style=\"text-align: right;\">\n",
       "      <th></th>\n",
       "      <th>FighterID</th>\n",
       "      <th>OpponentID</th>\n",
       "      <th>oldFighterEloAD</th>\n",
       "      <th>oldOpponentEloAD</th>\n",
       "      <th>predTargetAD</th>\n",
       "      <th>targetAD</th>\n",
       "      <th>Date</th>\n",
       "      <th>newFighterEloAD</th>\n",
       "      <th>newOpponentEloAD</th>\n",
       "      <th>oldEloDiffAD</th>\n",
       "      <th>...</th>\n",
       "      <th>imp_height_opp</th>\n",
       "      <th>age</th>\n",
       "      <th>age_opp</th>\n",
       "      <th>age_diff</th>\n",
       "      <th>reach_diff</th>\n",
       "      <th>weight_diff</th>\n",
       "      <th>log_weight_diff</th>\n",
       "      <th>height_diff</th>\n",
       "      <th>log_t_since_last_fight</th>\n",
       "      <th>log_t_since_last_fight_opp</th>\n",
       "    </tr>\n",
       "  </thead>\n",
       "  <tbody>\n",
       "    <tr>\n",
       "      <th>0</th>\n",
       "      <td>2335635/jason-delucia</td>\n",
       "      <td>2335757/trent-jenkins</td>\n",
       "      <td>0.0</td>\n",
       "      <td>0.0</td>\n",
       "      <td>0.0</td>\n",
       "      <td>1.000000</td>\n",
       "      <td>1993-11-12</td>\n",
       "      <td>0.20000</td>\n",
       "      <td>-0.20000</td>\n",
       "      <td>0.0</td>\n",
       "      <td>...</td>\n",
       "      <td>75.854283</td>\n",
       "      <td>NaN</td>\n",
       "      <td>NaN</td>\n",
       "      <td>0.0</td>\n",
       "      <td>-5.273051</td>\n",
       "      <td>-64.4375</td>\n",
       "      <td>-0.298069</td>\n",
       "      <td>-4.64658</td>\n",
       "      <td>6.593045</td>\n",
       "      <td>6.593045</td>\n",
       "    </tr>\n",
       "    <tr>\n",
       "      <th>1</th>\n",
       "      <td>2335738/gerard-gordeau</td>\n",
       "      <td>2504081/teila-tuli</td>\n",
       "      <td>0.0</td>\n",
       "      <td>0.0</td>\n",
       "      <td>0.0</td>\n",
       "      <td>0.000000</td>\n",
       "      <td>1993-11-12</td>\n",
       "      <td>0.00000</td>\n",
       "      <td>0.00000</td>\n",
       "      <td>0.0</td>\n",
       "      <td>...</td>\n",
       "      <td>75.854283</td>\n",
       "      <td>34.646575</td>\n",
       "      <td>NaN</td>\n",
       "      <td>0.0</td>\n",
       "      <td>0.000000</td>\n",
       "      <td>0.0000</td>\n",
       "      <td>0.000000</td>\n",
       "      <td>0.00000</td>\n",
       "      <td>6.593045</td>\n",
       "      <td>6.593045</td>\n",
       "    </tr>\n",
       "    <tr>\n",
       "      <th>2</th>\n",
       "      <td>2335728/zane-frazier</td>\n",
       "      <td>2504082/kevin-rosier</td>\n",
       "      <td>0.0</td>\n",
       "      <td>0.0</td>\n",
       "      <td>0.0</td>\n",
       "      <td>0.000000</td>\n",
       "      <td>1993-11-12</td>\n",
       "      <td>0.00000</td>\n",
       "      <td>0.00000</td>\n",
       "      <td>0.0</td>\n",
       "      <td>...</td>\n",
       "      <td>69.868379</td>\n",
       "      <td>27.345205</td>\n",
       "      <td>NaN</td>\n",
       "      <td>0.0</td>\n",
       "      <td>0.000000</td>\n",
       "      <td>0.0000</td>\n",
       "      <td>0.000000</td>\n",
       "      <td>0.00000</td>\n",
       "      <td>6.593045</td>\n",
       "      <td>6.593045</td>\n",
       "    </tr>\n",
       "    <tr>\n",
       "      <th>3</th>\n",
       "      <td>2335738/gerard-gordeau</td>\n",
       "      <td>2504082/kevin-rosier</td>\n",
       "      <td>0.0</td>\n",
       "      <td>0.0</td>\n",
       "      <td>0.0</td>\n",
       "      <td>0.000000</td>\n",
       "      <td>1993-11-12</td>\n",
       "      <td>0.00000</td>\n",
       "      <td>0.00000</td>\n",
       "      <td>0.0</td>\n",
       "      <td>...</td>\n",
       "      <td>69.868379</td>\n",
       "      <td>34.646575</td>\n",
       "      <td>NaN</td>\n",
       "      <td>0.0</td>\n",
       "      <td>0.000000</td>\n",
       "      <td>0.0000</td>\n",
       "      <td>0.000000</td>\n",
       "      <td>0.00000</td>\n",
       "      <td>6.593045</td>\n",
       "      <td>6.593045</td>\n",
       "    </tr>\n",
       "    <tr>\n",
       "      <th>4</th>\n",
       "      <td>2335635/jason-delucia</td>\n",
       "      <td>2951141/scott-baker</td>\n",
       "      <td>0.2</td>\n",
       "      <td>0.0</td>\n",
       "      <td>0.2</td>\n",
       "      <td>0.267949</td>\n",
       "      <td>1994-03-11</td>\n",
       "      <td>0.21359</td>\n",
       "      <td>-0.01359</td>\n",
       "      <td>0.2</td>\n",
       "      <td>...</td>\n",
       "      <td>75.854283</td>\n",
       "      <td>NaN</td>\n",
       "      <td>NaN</td>\n",
       "      <td>0.0</td>\n",
       "      <td>-5.273051</td>\n",
       "      <td>-64.4375</td>\n",
       "      <td>-0.298069</td>\n",
       "      <td>-4.64658</td>\n",
       "      <td>4.779123</td>\n",
       "      <td>6.593045</td>\n",
       "    </tr>\n",
       "  </tbody>\n",
       "</table>\n",
       "<p>5 rows × 209 columns</p>\n",
       "</div>"
      ],
      "text/plain": [
       "                FighterID             OpponentID  oldFighterEloAD  \\\n",
       "0   2335635/jason-delucia  2335757/trent-jenkins              0.0   \n",
       "1  2335738/gerard-gordeau     2504081/teila-tuli              0.0   \n",
       "2    2335728/zane-frazier   2504082/kevin-rosier              0.0   \n",
       "3  2335738/gerard-gordeau   2504082/kevin-rosier              0.0   \n",
       "4   2335635/jason-delucia    2951141/scott-baker              0.2   \n",
       "\n",
       "   oldOpponentEloAD  predTargetAD  targetAD       Date  newFighterEloAD  \\\n",
       "0               0.0           0.0  1.000000 1993-11-12          0.20000   \n",
       "1               0.0           0.0  0.000000 1993-11-12          0.00000   \n",
       "2               0.0           0.0  0.000000 1993-11-12          0.00000   \n",
       "3               0.0           0.0  0.000000 1993-11-12          0.00000   \n",
       "4               0.0           0.2  0.267949 1994-03-11          0.21359   \n",
       "\n",
       "   newOpponentEloAD  oldEloDiffAD  ...  imp_height_opp        age  age_opp  \\\n",
       "0          -0.20000           0.0  ...       75.854283        NaN      NaN   \n",
       "1           0.00000           0.0  ...       75.854283  34.646575      NaN   \n",
       "2           0.00000           0.0  ...       69.868379  27.345205      NaN   \n",
       "3           0.00000           0.0  ...       69.868379  34.646575      NaN   \n",
       "4          -0.01359           0.2  ...       75.854283        NaN      NaN   \n",
       "\n",
       "   age_diff  reach_diff  weight_diff  log_weight_diff  height_diff  \\\n",
       "0       0.0   -5.273051     -64.4375        -0.298069     -4.64658   \n",
       "1       0.0    0.000000       0.0000         0.000000      0.00000   \n",
       "2       0.0    0.000000       0.0000         0.000000      0.00000   \n",
       "3       0.0    0.000000       0.0000         0.000000      0.00000   \n",
       "4       0.0   -5.273051     -64.4375        -0.298069     -4.64658   \n",
       "\n",
       "   log_t_since_last_fight  log_t_since_last_fight_opp  \n",
       "0                6.593045                    6.593045  \n",
       "1                6.593045                    6.593045  \n",
       "2                6.593045                    6.593045  \n",
       "3                6.593045                    6.593045  \n",
       "4                4.779123                    6.593045  \n",
       "\n",
       "[5 rows x 209 columns]"
      ]
     },
     "execution_count": 1,
     "metadata": {},
     "output_type": "execute_result"
    }
   ],
   "source": [
    "import numpy as np\n",
    "import pandas as pd\n",
    "import matplotlib.pyplot as plt\n",
    "import seaborn as sns\n",
    "from tqdm import tqdm \n",
    "\n",
    "feat_df = pd.read_csv(\"data/symmetric_model_features.csv\")\n",
    "feat_df[\"Date\"] = pd.to_datetime(feat_df[\"Date\"])\n",
    "print(feat_df.shape)\n",
    "feat_df.head()"
   ]
  },
  {
   "cell_type": "code",
   "execution_count": 2,
   "id": "a840d41d",
   "metadata": {},
   "outputs": [
    {
     "data": {
      "image/png": "[encoded data removed]",
      "text/plain": [
       "<Figure size 432x288 with 1 Axes>"
      ]
     },
     "metadata": {
      "needs_background": "light"
     },
     "output_type": "display_data"
    }
   ],
   "source": [
    "# i think this makes sense - hard to estimate a probability when the money is that imbalanced?\n",
    "ml_df = pd.read_csv(\"data/clean_stats_plus_ml.csv\")\n",
    "ml_df[\"Date\"] = pd.to_datetime(ml_df[\"Date\"])\n",
    "sns.scatterplot(x=\"FighterOpen\", y=\"OpponentOpen\", data=ml_df)\n",
    "plt.show()"
   ]
  },
  {
   "cell_type": "code",
   "execution_count": 3,
   "id": "46e71a3c",
   "metadata": {},
   "outputs": [
    {
     "data": {
      "image/png": "[encoded data removed]",
      "text/plain": [
       "<Figure size 432x288 with 1 Axes>"
      ]
     },
     "metadata": {
      "needs_background": "light"
     },
     "output_type": "display_data"
    },
    {
     "data": {
      "image/png": "[encoded data removed]",
      "text/plain": [
       "<Figure size 432x288 with 1 Axes>"
      ]
     },
     "metadata": {
      "needs_background": "light"
     },
     "output_type": "display_data"
    },
    {
     "data": {
      "image/png": "[encoded data removed]",
      "text/plain": [
       "<Figure size 432x288 with 1 Axes>"
      ]
     },
     "metadata": {
      "needs_background": "light"
     },
     "output_type": "display_data"
    }
   ],
   "source": [
    "def parse_american_odds(x:pd.Series):\n",
    "    fav_inds = x <= 0\n",
    "    dog_inds = x > 0\n",
    "    y = pd.Series(0, index=x.index)\n",
    "    y.loc[fav_inds] = -1 * x / (100 - x)\n",
    "    y.loc[dog_inds] = 100 / (100 + x)\n",
    "    return y\n",
    "\n",
    "ml_df[\"p_fighter\"] = parse_american_odds(ml_df[\"FighterOpen\"])\n",
    "ml_df[\"p_opponent\"] = parse_american_odds(ml_df[\"OpponentOpen\"])\n",
    "ml_df[\"p_fighter_midpoint\"] = (ml_df[\"p_fighter\"] + 1 - ml_df[\"p_opponent\"]) / 2\n",
    "ml_df[\"p_fighter_implied\"] = ml_df[\"p_fighter\"] / (ml_df[\"p_fighter\"] + ml_df[\"p_opponent\"])\n",
    "\n",
    "sns.histplot(ml_df[\"p_fighter_implied\"])\n",
    "plt.show()\n",
    "\n",
    "sns.scatterplot(x=\"p_fighter\", y=\"p_opponent\", data=ml_df)\n",
    "plt.show()\n",
    "\n",
    "sns.histplot(ml_df[\"p_fighter\"] - (1 - ml_df[\"p_opponent\"]))\n",
    "plt.title(\"Distribution of house juice\")\n",
    "plt.show()"
   ]
  },
  {
   "cell_type": "code",
   "execution_count": 4,
   "id": "f8cb2bf2",
   "metadata": {},
   "outputs": [
    {
     "data": {
      "text/plain": [
       "0    1993-11-12__2335757/trent-jenkins__2335635/jas...\n",
       "1    1993-11-12__2504081/teila-tuli__2335738/gerard...\n",
       "2    1993-11-12__2504082/kevin-rosier__2335728/zane...\n",
       "3    1993-11-12__2504082/kevin-rosier__2335738/gera...\n",
       "4    1994-03-11__2951141/scott-baker__2335635/jason...\n",
       "Name: fight_id, dtype: object"
      ]
     },
     "execution_count": 4,
     "metadata": {},
     "output_type": "execute_result"
    }
   ],
   "source": [
    "def get_fight_id_vec(df):\n",
    "    fighter_A = df[[\"FighterID\", \"OpponentID\"]].fillna(\"missing\").max(1)\n",
    "    fighter_B = df[[\"FighterID\", \"OpponentID\"]].fillna(\"missing\").min(1)\n",
    "    fight_ids = df[\"Date\"].astype(str) + \"__\" + fighter_A + \"__\" + fighter_B\n",
    "    return fight_ids\n",
    "\n",
    "ml_df[\"fight_id\"] = get_fight_id_vec(ml_df)\n",
    "feat_df[\"fight_id\"] = get_fight_id_vec(feat_df)\n",
    "feat_df[\"fight_id\"].head()"
   ]
  },
  {
   "cell_type": "code",
   "execution_count": 5,
   "id": "bbab4962",
   "metadata": {},
   "outputs": [
    {
     "data": {
      "text/plain": [
       "(3220, 216)"
      ]
     },
     "execution_count": 5,
     "metadata": {},
     "output_type": "execute_result"
    }
   ],
   "source": [
    "feat_ml_df = feat_df.merge(\n",
    "    ml_df[[#\"FighterID\", \"OpponentID\", \"Date\", \n",
    "        \"fight_id\",\n",
    "           \"FighterOpen\", \"OpponentOpen\", \"p_fighter_implied\",\n",
    "           \"p_fighter\", \"p_opponent\", \"p_fighter_midpoint\"]],\n",
    "    #on=[\"FighterID\", \"OpponentID\", \"Date\"],\n",
    "    on=\"fight_id\",\n",
    "    how=\"inner\"\n",
    ")\n",
    "feat_ml_df.shape"
   ]
  },
  {
   "cell_type": "code",
   "execution_count": 6,
   "id": "585b2940",
   "metadata": {},
   "outputs": [
    {
     "data": {
      "text/plain": [
       "<AxesSubplot:xlabel='ml_logit', ylabel='p_fighter_implied'>"
      ]
     },
     "execution_count": 6,
     "metadata": {},
     "output_type": "execute_result"
    },
    {
     "data": {
      "image/png": "[encoded data removed]",
      "text/plain": [
       "<Figure size 432x288 with 1 Axes>"
      ]
     },
     "metadata": {
      "needs_background": "light"
     },
     "output_type": "display_data"
    }
   ],
   "source": [
    "def logit(x):\n",
    "    return np.log(x) - np.log(1-x)\n",
    "\n",
    "feat_ml_df[\"ml_logit\"] = logit(feat_ml_df[\"p_fighter_implied\"])\n",
    "\n",
    "sns.scatterplot(x=\"ml_logit\", y=\"p_fighter_implied\", data=feat_ml_df)"
   ]
  },
  {
   "cell_type": "code",
   "execution_count": 7,
   "id": "df9d10f6",
   "metadata": {},
   "outputs": [
    {
     "data": {
      "text/plain": [
       "0.6403726708074534"
      ]
     },
     "execution_count": 7,
     "metadata": {},
     "output_type": "execute_result"
    }
   ],
   "source": [
    "((feat_ml_df[\"ml_logit\"] >= 0) == feat_ml_df[\"targetWin\"]).mean()"
   ]
  },
  {
   "cell_type": "code",
   "execution_count": 8,
   "id": "9b9d4630",
   "metadata": {},
   "outputs": [
    {
     "data": {
      "text/plain": [
       "0.6332568353320942"
      ]
     },
     "execution_count": 8,
     "metadata": {},
     "output_type": "execute_result"
    }
   ],
   "source": [
    "from sklearn.metrics import log_loss, accuracy_score\n",
    "\n",
    "log_loss(y_pred=feat_ml_df[\"p_fighter_implied\"], y_true=feat_ml_df[\"targetWin\"])"
   ]
  },
  {
   "cell_type": "code",
   "execution_count": null,
   "id": "31fe81b7",
   "metadata": {},
   "outputs": [],
   "source": []
  },
  {
   "cell_type": "code",
   "execution_count": null,
   "id": "2898d70a",
   "metadata": {},
   "outputs": [],
   "source": []
  },
  {
   "cell_type": "code",
   "execution_count": 9,
   "id": "5ead0ca7",
   "metadata": {},
   "outputs": [
    {
     "data": {
      "text/plain": [
       "((2888, 30), (331, 30))"
      ]
     },
     "execution_count": 9,
     "metadata": {},
     "output_type": "execute_result"
    }
   ],
   "source": [
    "feat_cols = [\n",
    "    \"oldEloDiffordinal_fighter_result\", \n",
    "    \"oldEloDiffsubmission_fighter_result\",\n",
    "    \"oldEloDifftko_ko_fighter_result\",\n",
    "    \"oldEloDiffdecision_fighter_result\",\n",
    "    \"oldEloDifffinish_fighter_result\",\n",
    "#     \"oldEloDifffighter_result_time_left\",\n",
    "    \n",
    "#     'oldEloDiffAD', \n",
    "    'oldEloDiffADTB', \n",
    "    'oldEloDiffADTM', \n",
    "    'oldEloDiffKD',\n",
    "    'oldEloDiffRV', \n",
    "#     'oldEloDiffSCBL', \n",
    "#     'oldEloDiffSCHL', \n",
    "    'oldEloDiffSGBL',\n",
    "    'oldEloDiffSGHL', \n",
    "    'oldEloDiffSM', 'oldEloDiffSSL', 'oldEloDiffTDL',\n",
    "    'oldEloDiffTDS', \n",
    "    'oldEloDiffTD_fails', \n",
    "    'oldEloDiffTSL',\n",
    "    'oldEloDiffclinch_strikes_landed', \n",
    "    'oldEloDiffdistance_strikes_landed',\n",
    "    'oldEloDiffground_strikes_landed', \n",
    "    'oldEloDiffstanding_strikes',\n",
    "    \n",
    "    'oldEloDiffWin',\n",
    "    \n",
    "    \"t_since_last_fight_log_diff\", \n",
    "#     \"t_since_last_fight_diff\",\n",
    "    \"total_fights_sqrt_diff\", \n",
    "    \"total_ufc_fights_diff\",\n",
    "    \n",
    "    \"age_diff\", \"reach_diff\", \n",
    "    \"weight_diff\", \n",
    "    \"log_weight_diff\",\n",
    "    \"height_diff\",\n",
    "]\n",
    "\n",
    "feat_ml_df[feat_cols].isnull().any()\n",
    "# min_train_dt = pd.to_datetime(\"2012-01-01\")\n",
    "min_train_dt = pd.to_datetime(\"2000-01-01\")\n",
    "max_train_dt = pd.to_datetime(\"2021-07-01\")\n",
    "\n",
    "train_inds = (feat_ml_df[\"Date\"] <= max_train_dt) & (feat_ml_df[\"Date\"] >= min_train_dt)\n",
    "test_inds = (feat_ml_df[\"Date\"] > max_train_dt)\n",
    "\n",
    "train_df = feat_ml_df.loc[train_inds].dropna(subset=[*feat_cols, \"targetWin\"])\n",
    "test_df = feat_ml_df.loc[test_inds].dropna(subset=[*feat_cols, \"targetWin\"])\n",
    "\n",
    "X_train = train_df[feat_cols]\n",
    "X_test = test_df[feat_cols]\n",
    "ml_logit_train = train_df[\"ml_logit\"]\n",
    "ml_logit_test = test_df[\"ml_logit\"]\n",
    "y_train = train_df[\"targetWin\"]\n",
    "y_test = test_df[\"targetWin\"]\n",
    "X_train.shape, X_test.shape"
   ]
  },
  {
   "cell_type": "code",
   "execution_count": 10,
   "id": "d57fee6e",
   "metadata": {},
   "outputs": [
    {
     "name": "stdout",
     "output_type": "stream",
     "text": [
      "SimpleSymmetricModel(\n",
      "  (linear): Linear(in_features=30, out_features=1, bias=False)\n",
      "  (softmax): Sigmoid()\n",
      ")\n"
     ]
    },
    {
     "data": {
      "image/png": "[encoded data removed]",
      "text/plain": [
       "<Figure size 432x288 with 1 Axes>"
      ]
     },
     "metadata": {
      "needs_background": "light"
     },
     "output_type": "display_data"
    },
    {
     "data": {
      "text/html": [
       "<div>\n",
       "<style scoped>\n",
       "    .dataframe tbody tr th:only-of-type {\n",
       "        vertical-align: middle;\n",
       "    }\n",
       "\n",
       "    .dataframe tbody tr th {\n",
       "        vertical-align: top;\n",
       "    }\n",
       "\n",
       "    .dataframe thead th {\n",
       "        text-align: right;\n",
       "    }\n",
       "</style>\n",
       "<table border=\"1\" class=\"dataframe\">\n",
       "  <thead>\n",
       "    <tr style=\"text-align: right;\">\n",
       "      <th></th>\n",
       "      <th>train_acc</th>\n",
       "      <th>train_bce</th>\n",
       "      <th>test_acc</th>\n",
       "      <th>test_bce</th>\n",
       "      <th>epoch</th>\n",
       "    </tr>\n",
       "  </thead>\n",
       "  <tbody>\n",
       "    <tr>\n",
       "      <th>115</th>\n",
       "      <td>0.656856</td>\n",
       "      <td>0.621462</td>\n",
       "      <td>0.646526</td>\n",
       "      <td>0.608161</td>\n",
       "      <td>115</td>\n",
       "    </tr>\n",
       "    <tr>\n",
       "      <th>119</th>\n",
       "      <td>0.659626</td>\n",
       "      <td>0.621413</td>\n",
       "      <td>0.649547</td>\n",
       "      <td>0.608682</td>\n",
       "      <td>119</td>\n",
       "    </tr>\n",
       "    <tr>\n",
       "      <th>109</th>\n",
       "      <td>0.656510</td>\n",
       "      <td>0.621408</td>\n",
       "      <td>0.646526</td>\n",
       "      <td>0.608736</td>\n",
       "      <td>109</td>\n",
       "    </tr>\n",
       "    <tr>\n",
       "      <th>148</th>\n",
       "      <td>0.656163</td>\n",
       "      <td>0.621440</td>\n",
       "      <td>0.649547</td>\n",
       "      <td>0.608743</td>\n",
       "      <td>148</td>\n",
       "    </tr>\n",
       "    <tr>\n",
       "      <th>16</th>\n",
       "      <td>0.652355</td>\n",
       "      <td>0.622552</td>\n",
       "      <td>0.643505</td>\n",
       "      <td>0.608745</td>\n",
       "      <td>16</td>\n",
       "    </tr>\n",
       "  </tbody>\n",
       "</table>\n",
       "</div>"
      ],
      "text/plain": [
       "     train_acc  train_bce  test_acc  test_bce  epoch\n",
       "115   0.656856   0.621462  0.646526  0.608161    115\n",
       "119   0.659626   0.621413  0.649547  0.608682    119\n",
       "109   0.656510   0.621408  0.646526  0.608736    109\n",
       "148   0.656163   0.621440  0.649547  0.608743    148\n",
       "16    0.652355   0.622552  0.643505  0.608745     16"
      ]
     },
     "execution_count": 10,
     "metadata": {},
     "output_type": "execute_result"
    }
   ],
   "source": [
    "import torch\n",
    "from sklearn.utils import shuffle, gen_batches\n",
    "from sklearn.preprocessing import StandardScaler\n",
    "\n",
    "class SimpleSymmetricModel(torch.nn.Module):\n",
    "    \"\"\"\n",
    "    Just symmetric logistic regression\n",
    "    \"\"\"\n",
    "    \n",
    "    def __init__(self, input_dim):\n",
    "        super().__init__()\n",
    "        self.linear = torch.nn.Linear(input_dim, 1, bias=False)\n",
    "        self.softmax = torch.nn.Sigmoid()\n",
    "        \n",
    "    def forward(self, ml_logit, x):\n",
    "        x = self.linear(x)\n",
    "        x = self.softmax(ml_logit + x)\n",
    "        return x\n",
    "    \n",
    "\n",
    "class SymmetricModel(torch.nn.Module):\n",
    "    \n",
    "    def __init__(self, input_dim, width_1, width_2):\n",
    "        super().__init__()\n",
    "        self.linear1 = torch.nn.Linear(input_dim, width_1, bias=False)\n",
    "        self.activation = torch.nn.Tanh() # tanh(x) = -tanh(-x)\n",
    "        self.linear2 = torch.nn.Linear(width_1, width_2, bias=False)\n",
    "        self.linear3 = torch.nn.Linear(width_2, 1, bias=False)\n",
    "#         self.linear3 = torch.nn.Linear(width_2, width_3, bias=False)\n",
    "#         self.linear4 = torch.nn.Linear(width_3, 1, bias=False)\n",
    "        self.softmax = torch.nn.Sigmoid()\n",
    "        \n",
    "    def forward(self, ml_logit, x):\n",
    "        x = self.linear1(x)\n",
    "        x = self.activation(x)\n",
    "        x = self.linear2(x)\n",
    "        x = self.activation(x)\n",
    "        x = self.linear3(x)\n",
    "#         x = self.activation(x)\n",
    "#         x = self.linear4(x)\n",
    "        x = self.softmax(ml_logit + x)\n",
    "        return x\n",
    "\n",
    "# sym_model = SymmetricModel(len(feat_cols), 16, 16)\n",
    "sym_model = SimpleSymmetricModel(len(feat_cols))\n",
    "print(sym_model)\n",
    "\n",
    "optimizer = torch.optim.Adam(sym_model.parameters(), lr=0.001)\n",
    "batch_size = 64\n",
    "\n",
    "loss_fn = torch.nn.BCELoss() # binary cross entropy\n",
    "    \n",
    "metric_vals = []\n",
    "\n",
    "scaler = StandardScaler(with_mean=False)\n",
    "scaled_X = scaler.fit_transform(train_df[feat_cols])\n",
    "scaled_y = train_df[\"targetWin\"].values\n",
    "scaled_test_X = scaler.transform(test_df[feat_cols])\n",
    "\n",
    "for epoch in range(200):\n",
    "    # shuffle dataset\n",
    "    shuffle_inds = shuffle(range(scaled_X.shape[0]))\n",
    "    X_train = torch.Tensor(scaled_X[shuffle_inds,:])\n",
    "    ml_train = torch.Tensor(ml_logit_train.iloc[shuffle_inds].values).view(-1,1)\n",
    "    y_train = torch.Tensor(scaled_y[shuffle_inds]).view(-1,1)\n",
    "    #y_train = torch.Tensor(train_df.iloc[shuffle_inds, \"targetWin\"].values).view(-1,1)\n",
    "    for batch_inds in gen_batches(scaled_X.shape[0], batch_size):\n",
    "        optimizer.zero_grad()\n",
    "        y_hat = sym_model(ml_train[batch_inds], X_train[batch_inds])\n",
    "        #print(ml_train[batch_inds].shape, y_train[batch_inds].shape, y_hat.shape)\n",
    "        loss = loss_fn(y_hat, y_train[batch_inds])\n",
    "        loss.backward()\n",
    "        optimizer.step()\n",
    "        \n",
    "    y_hat = sym_model(ml_train, X_train)\n",
    "    y_true = y_train\n",
    "#     foo = torch.Tensor(ml_logit_train.values)\n",
    "#     fee = torch.Tensor(scaled_X)\n",
    "#     y_hat = sym_model(foo, fee)\n",
    "#     y_true = torch.Tensor(train_df[\"targetWin\"].values).view(-1, 1)\n",
    "#     print(foo.shape, fee.shape)\n",
    "    train_acc = (y_hat.round() == y_true).double().mean()\n",
    "    train_bce = loss_fn(y_hat, y_true)\n",
    "    \n",
    "    y_hat = sym_model(torch.Tensor(ml_logit_test.values).view(-1,1), torch.Tensor(scaled_test_X))\n",
    "    y_true = torch.Tensor(test_df[\"targetWin\"].values).view(-1, 1)\n",
    "    test_acc = (y_hat.round() == y_true).double().mean()\n",
    "    test_bce = loss_fn(y_hat, y_true)\n",
    "    \n",
    "    metric_vals.append({\n",
    "        \"train_acc\": float(train_acc),\n",
    "        \"train_bce\": float(train_bce),\n",
    "        \"test_acc\": float(test_acc),\n",
    "        \"test_bce\": float(test_bce),\n",
    "        \"epoch\": epoch,\n",
    "    })\n",
    "    \n",
    "metric_df = pd.DataFrame(metric_vals)\n",
    "sns.lineplot(x=\"epoch\", y=\"test_bce\", label=\"bce\", data=metric_df)\n",
    "sns.lineplot(x=\"epoch\", y=\"test_acc\", label=\"acc\", data=metric_df)\n",
    "plt.show()\n",
    "metric_df.sort_values(\"test_bce\").head()"
   ]
  },
  {
   "cell_type": "code",
   "execution_count": 11,
   "id": "7b29fb26",
   "metadata": {},
   "outputs": [
    {
     "data": {
      "text/plain": [
       "0.6081610918045044"
      ]
     },
     "execution_count": 11,
     "metadata": {},
     "output_type": "execute_result"
    }
   ],
   "source": [
    "metric_df[\"test_bce\"].min()"
   ]
  },
  {
   "cell_type": "code",
   "execution_count": 12,
   "id": "07cfbcbf",
   "metadata": {},
   "outputs": [
    {
     "data": {
      "text/plain": [
       "0.6586102719033232"
      ]
     },
     "execution_count": 12,
     "metadata": {},
     "output_type": "execute_result"
    }
   ],
   "source": [
    "metric_df[\"test_acc\"].max()"
   ]
  },
  {
   "cell_type": "code",
   "execution_count": 13,
   "id": "0761d29f",
   "metadata": {},
   "outputs": [
    {
     "data": {
      "text/plain": [
       "0.6169001683494999"
      ]
     },
     "execution_count": 13,
     "metadata": {},
     "output_type": "execute_result"
    }
   ],
   "source": [
    "log_loss(y_pred=test_df[\"p_fighter_implied\"], y_true=test_df[\"targetWin\"])"
   ]
  },
  {
   "cell_type": "code",
   "execution_count": 14,
   "id": "80766d16",
   "metadata": {},
   "outputs": [
    {
     "data": {
      "text/plain": [
       "0.649546827794562"
      ]
     },
     "execution_count": 14,
     "metadata": {},
     "output_type": "execute_result"
    }
   ],
   "source": [
    "accuracy_score(y_pred=test_df[\"p_fighter_implied\"].round(), y_true=test_df[\"targetWin\"])"
   ]
  },
  {
   "cell_type": "code",
   "execution_count": 15,
   "id": "e1d3c018",
   "metadata": {},
   "outputs": [
    {
     "data": {
      "text/plain": [
       "<AxesSubplot:ylabel='Count'>"
      ]
     },
     "execution_count": 15,
     "metadata": {},
     "output_type": "execute_result"
    },
    {
     "data": {
      "image/png": "[encoded data removed]",
      "text/plain": [
       "<Figure size 432x288 with 1 Axes>"
      ]
     },
     "metadata": {
      "needs_background": "light"
     },
     "output_type": "display_data"
    }
   ],
   "source": [
    "y_pred = sym_model(torch.Tensor(ml_logit_test.values).view(-1,1), \n",
    "                   torch.Tensor(scaled_test_X))\n",
    "y_pred = (y_pred[:,0]).detach().numpy()\n",
    "sns.histplot(y_pred)"
   ]
  },
  {
   "cell_type": "code",
   "execution_count": 16,
   "id": "6d149cfd",
   "metadata": {},
   "outputs": [
    {
     "data": {
      "text/plain": [
       "<matplotlib.collections.PathCollection at 0x7fa960941b20>"
      ]
     },
     "execution_count": 16,
     "metadata": {},
     "output_type": "execute_result"
    },
    {
     "data": {
      "image/png": "[encoded data removed]",
      "text/plain": [
       "<Figure size 432x288 with 1 Axes>"
      ]
     },
     "metadata": {
      "needs_background": "light"
     },
     "output_type": "display_data"
    }
   ],
   "source": [
    "plt.scatter(test_df[\"p_fighter_implied\"], y_pred)"
   ]
  },
  {
   "cell_type": "code",
   "execution_count": 17,
   "id": "03409809",
   "metadata": {},
   "outputs": [
    {
     "data": {
      "text/plain": [
       "0.6104390766145239"
      ]
     },
     "execution_count": 17,
     "metadata": {},
     "output_type": "execute_result"
    }
   ],
   "source": [
    "log_loss(y_pred=y_pred, y_true=test_df[\"targetWin\"])"
   ]
  },
  {
   "cell_type": "code",
   "execution_count": 18,
   "id": "6d6859f7",
   "metadata": {},
   "outputs": [
    {
     "name": "stdout",
     "output_type": "stream",
     "text": [
      "number of bets on f: 103\n",
      "number of bets on o: 162\n",
      "number of bets on both f and o (should be zero): 0\n",
      "% of fights i bet on at all:  0.8006042296072508\n"
     ]
    },
    {
     "data": {
      "text/plain": [
       "1.5190482330595523"
      ]
     },
     "execution_count": 18,
     "metadata": {},
     "output_type": "execute_result"
    }
   ],
   "source": [
    "def eval_preds_dumb(y_pred, test_df):\n",
    "    # bet a fixed amount on the predicted winner if I think it's profitable\n",
    "    # I'll say that payout includes wager\n",
    "    f_payout = 1/test_df[\"p_fighter\"]\n",
    "    o_payout = 1/test_df[\"p_opponent\"]\n",
    "    # expected return is positive\n",
    "    f_bet = y_pred * f_payout > 1 \n",
    "    o_bet = (1 - y_pred) * o_payout > 1\n",
    "    print(\"number of bets on f:\", f_bet.sum())\n",
    "    print(\"number of bets on o:\", o_bet.sum())\n",
    "    print(\"number of bets on both f and o (should be zero):\", (f_bet & o_bet).sum())\n",
    "    print(\"% of fights i bet on at all: \", (f_bet | o_bet).mean())\n",
    "    \n",
    "    f_won = test_df[\"targetWin\"] == 1\n",
    "    o_won = test_df[\"targetWin\"] == 0\n",
    "    f_returns = f_bet * (f_payout * f_won - o_won)\n",
    "    o_returns = o_bet * (o_payout * o_won - f_won)\n",
    "    # TODO this HAS to be wrong...\n",
    "    growth_rates = f_returns + o_returns + 1\n",
    "    return np.mean(growth_rates)\n",
    "    \n",
    "eval_preds_dumb(y_pred, test_df)"
   ]
  },
  {
   "cell_type": "code",
   "execution_count": 19,
   "id": "f908c538",
   "metadata": {},
   "outputs": [
    {
     "data": {
      "text/plain": [
       "1.2222329743371991"
      ]
     },
     "execution_count": 19,
     "metadata": {},
     "output_type": "execute_result"
    }
   ],
   "source": [
    "def eval_kelly(y_pred, test_df):\n",
    "    # b is % of wager gained on a win (not counting original wager)\n",
    "    b_fighter = (1/test_df[\"p_fighter\"]) - 1\n",
    "    b_opponent = (1/test_df[\"p_opponent\"]) - 1\n",
    "    \n",
    "    kelly_bet_fighter = y_pred + ((y_pred - 1) / b_fighter)\n",
    "    kelly_bet_opponent = (1 - y_pred) + ((1 - y_pred - 1) / b_opponent)\n",
    "    kelly_bet_fighter = np.maximum(0, kelly_bet_fighter)\n",
    "    kelly_bet_opponent = np.maximum(0, kelly_bet_opponent)\n",
    "    \n",
    "    f_won = test_df[\"targetWin\"] == 1\n",
    "    o_won = test_df[\"targetWin\"] == 0\n",
    "    \n",
    "    fighter_return = (kelly_bet_fighter * b_fighter * f_won) - (kelly_bet_fighter * o_won)\n",
    "    opponent_return = (kelly_bet_opponent * b_opponent * o_won) - (kelly_bet_opponent * f_won)\n",
    "    \n",
    "    total_returns = 1 + fighter_return + opponent_return\n",
    "    return np.prod(total_returns)\n",
    "\n",
    "eval_kelly(y_pred, test_df)"
   ]
  },
  {
   "cell_type": "code",
   "execution_count": 20,
   "id": "8b6e5916",
   "metadata": {},
   "outputs": [
    {
     "data": {
      "text/plain": [
       "Timedelta('259 days 00:00:00')"
      ]
     },
     "execution_count": 20,
     "metadata": {},
     "output_type": "execute_result"
    }
   ],
   "source": [
    "test_df[\"Date\"].max() - test_df[\"Date\"].min()"
   ]
  },
  {
   "cell_type": "markdown",
   "id": "075b34ee",
   "metadata": {},
   "source": [
    "# alright, so a 50% increase in money after 259 days. honestly not that bad.\n",
    "\n",
    "I don't think I can directly compare the results of the $1 per bet vs the kelly criterion results. The Kelly criterion assumes a fixed bankroll. \n",
    "\n",
    "# Slightly more interesting architecture"
   ]
  },
  {
   "cell_type": "code",
   "execution_count": 21,
   "id": "d9cc3ce3",
   "metadata": {},
   "outputs": [],
   "source": [
    "opp_elo_cols = train_df.columns[train_df.columns.str.startswith(\"oldOpponentElo\")]\n",
    "fighter_elo_cols = [\"oldFighter\" + col[len(\"oldOpponent\"):] for col in opp_elo_cols]\n",
    "# fighter_elo_cols = train_df.columns[train_df.columns.str.startswith(\"oldFighterElo\")]\n",
    "opp_feat_cols = ['total_fights_opp', 'total_ufc_fights_opp', \n",
    "                 #'t_since_last_fight_opp',\n",
    "                 'log_t_since_last_fight_opp',\n",
    "                 'imp_reach_opp', 'imp_weight_opp', 'imp_height_opp', \n",
    "#                  'age_opp' # i'll figure out what to do with this later. have to impute\n",
    "                ]\n",
    "fighter_feat_cols = [col[:-len(\"_opp\")] for col in opp_feat_cols]\n",
    "\n",
    "fighter_cols = list(fighter_elo_cols) + fighter_feat_cols\n",
    "opp_cols = list(opp_elo_cols) + opp_feat_cols"
   ]
  },
  {
   "cell_type": "code",
   "execution_count": 22,
   "id": "21a547f4",
   "metadata": {},
   "outputs": [
    {
     "data": {
      "text/plain": [
       "((2888, 31), (2888, 31))"
      ]
     },
     "execution_count": 22,
     "metadata": {},
     "output_type": "execute_result"
    }
   ],
   "source": [
    "# oh geez so I need raw feature values for both the fighter and the opponent...\n",
    "scaler = StandardScaler(with_mean=True, with_std=True)\n",
    "\n",
    "temp_X = np.concatenate([train_df[fighter_cols], train_df[opp_cols]])\n",
    "scaler.fit(temp_X)\n",
    "\n",
    "X_f_scaled_train = scaler.transform(train_df[fighter_cols].values)\n",
    "X_o_scaled_train = scaler.transform(train_df[opp_cols].values)\n",
    "\n",
    "X_f_scaled_test = scaler.transform(test_df[fighter_cols].values)\n",
    "X_o_scaled_test = scaler.transform(test_df[opp_cols].values)\n",
    "\n",
    "n_train = X_f_scaled_train.shape[0]\n",
    "\n",
    "X_f_scaled_train.shape, X_o_scaled_train.shape"
   ]
  },
  {
   "cell_type": "code",
   "execution_count": null,
   "id": "6adaaa8f",
   "metadata": {},
   "outputs": [],
   "source": [
    "for epoch in range(200):\n",
    "    # shuffle dataset\n",
    "    shuffle_inds = shuffle(range(scaled_X.shape[0]))\n",
    "    X_train = torch.Tensor(scaled_X[shuffle_inds,:])\n",
    "    ml_train = torch.Tensor(ml_logit_train.iloc[shuffle_inds].values).view(-1,1)\n",
    "    y_train = torch.Tensor(scaled_y[shuffle_inds]).view(-1,1)\n",
    "    #y_train = torch.Tensor(train_df.iloc[shuffle_inds, \"targetWin\"].values).view(-1,1)\n",
    "    for batch_inds in gen_batches(scaled_X.shape[0], batch_size):\n",
    "        optimizer.zero_grad()\n",
    "        y_hat = sym_model(ml_train[batch_inds], X_train[batch_inds])\n",
    "        #print(ml_train[batch_inds].shape, y_train[batch_inds].shape, y_hat.shape)\n",
    "        loss = loss_fn(y_hat, y_train[batch_inds])\n",
    "        loss.backward()\n",
    "        optimizer.step()\n",
    "        \n",
    "    y_hat = sym_model(ml_train, X_train)\n",
    "    y_true = y_train\n",
    "#     foo = torch.Tensor(ml_logit_train.values)\n",
    "#     fee = torch.Tensor(scaled_X)\n",
    "#     y_hat = sym_model(foo, fee)\n",
    "#     y_true = torch.Tensor(train_df[\"targetWin\"].values).view(-1, 1)\n",
    "#     print(foo.shape, fee.shape)\n",
    "    train_acc = (y_hat.round() == y_true).double().mean()\n",
    "    train_bce = loss_fn(y_hat, y_true)\n",
    "    \n",
    "    y_hat = sym_model(torch.Tensor(ml_logit_test.values).view(-1,1), torch.Tensor(scaled_test_X))\n"
   ]
  },
  {
   "cell_type": "code",
   "execution_count": 29,
   "id": "fbe58cbb",
   "metadata": {},
   "outputs": [
    {
     "name": "stderr",
     "output_type": "stream",
     "text": [
      "100%|███████████████████████████████████████████| 50/50 [00:01<00:00, 34.94it/s]\n"
     ]
    },
    {
     "data": {
      "image/png": "[encoded data removed]",
      "text/plain": [
       "<Figure size 432x288 with 1 Axes>"
      ]
     },
     "metadata": {
      "needs_background": "light"
     },
     "output_type": "display_data"
    },
    {
     "data": {
      "text/html": [
       "<div>\n",
       "<style scoped>\n",
       "    .dataframe tbody tr th:only-of-type {\n",
       "        vertical-align: middle;\n",
       "    }\n",
       "\n",
       "    .dataframe tbody tr th {\n",
       "        vertical-align: top;\n",
       "    }\n",
       "\n",
       "    .dataframe thead th {\n",
       "        text-align: right;\n",
       "    }\n",
       "</style>\n",
       "<table border=\"1\" class=\"dataframe\">\n",
       "  <thead>\n",
       "    <tr style=\"text-align: right;\">\n",
       "      <th></th>\n",
       "      <th>train_acc</th>\n",
       "      <th>train_bce</th>\n",
       "      <th>test_acc</th>\n",
       "      <th>test_bce</th>\n",
       "      <th>epoch</th>\n",
       "    </tr>\n",
       "  </thead>\n",
       "  <tbody>\n",
       "    <tr>\n",
       "      <th>5</th>\n",
       "      <td>0.644044</td>\n",
       "      <td>0.626362</td>\n",
       "      <td>0.655589</td>\n",
       "      <td>0.612141</td>\n",
       "      <td>5</td>\n",
       "    </tr>\n",
       "    <tr>\n",
       "      <th>3</th>\n",
       "      <td>0.644391</td>\n",
       "      <td>0.628443</td>\n",
       "      <td>0.658610</td>\n",
       "      <td>0.612696</td>\n",
       "      <td>3</td>\n",
       "    </tr>\n",
       "    <tr>\n",
       "      <th>4</th>\n",
       "      <td>0.645083</td>\n",
       "      <td>0.627327</td>\n",
       "      <td>0.655589</td>\n",
       "      <td>0.612908</td>\n",
       "      <td>4</td>\n",
       "    </tr>\n",
       "    <tr>\n",
       "      <th>6</th>\n",
       "      <td>0.646814</td>\n",
       "      <td>0.625840</td>\n",
       "      <td>0.658610</td>\n",
       "      <td>0.613494</td>\n",
       "      <td>6</td>\n",
       "    </tr>\n",
       "    <tr>\n",
       "      <th>9</th>\n",
       "      <td>0.650623</td>\n",
       "      <td>0.624426</td>\n",
       "      <td>0.658610</td>\n",
       "      <td>0.613870</td>\n",
       "      <td>9</td>\n",
       "    </tr>\n",
       "  </tbody>\n",
       "</table>\n",
       "</div>"
      ],
      "text/plain": [
       "   train_acc  train_bce  test_acc  test_bce  epoch\n",
       "5   0.644044   0.626362  0.655589  0.612141      5\n",
       "3   0.644391   0.628443  0.658610  0.612696      3\n",
       "4   0.645083   0.627327  0.655589  0.612908      4\n",
       "6   0.646814   0.625840  0.658610  0.613494      6\n",
       "9   0.650623   0.624426  0.658610  0.613870      9"
      ]
     },
     "execution_count": 29,
     "metadata": {},
     "output_type": "execute_result"
    }
   ],
   "source": [
    "from tqdm import tqdm \n",
    "\n",
    "class AugEloModel(torch.nn.Module):\n",
    "    \"\"\"\n",
    "    Calculate embeddings for fighter and opponent, take the difference, plug into logistic reg\n",
    "    Result should be guaranteed \"symmetric\" in the sense that f(x) = 1 - f(-x)\n",
    "    \"\"\"\n",
    "    \n",
    "    def __init__(self, input_dim, hidden_dim, embed_dim):\n",
    "        super().__init__()\n",
    "        self.linear1 = torch.nn.Linear(input_dim, hidden_dim)\n",
    "        self.activation = torch.nn.Tanh()\n",
    "#         self.activation = torch.nn.ReLU() # tanh(x) = -tanh(-x)\n",
    "        #self.activation = torch.nn.LeakyReLU()\n",
    "        self.linear2 = torch.nn.Linear(hidden_dim, embed_dim)\n",
    "        # logistic regression on differences in embeddings \n",
    "        self.linear_on_embed = torch.nn.Linear(embed_dim, 1, bias=False)\n",
    "        self.softmax = torch.nn.Sigmoid()\n",
    "        \n",
    "        \n",
    "    def forward(self, ml_logit, fighter_x, opp_x):\n",
    "        # get embeddings for fighter\n",
    "        f_x = self.linear1(fighter_x)\n",
    "        f_x = self.activation(f_x)\n",
    "        f_x = self.linear2(f_x)\n",
    "        f_x = self.activation(f_x)\n",
    "        # get embeddings for opponent\n",
    "        o_x = self.linear1(opp_x)\n",
    "        o_x = self.activation(o_x)\n",
    "        o_x = self.linear2(o_x)\n",
    "        o_x = self.activation(o_x)\n",
    "        # logistic regression on (f_embed - o_embed)\n",
    "        diff_x = o_x - f_x\n",
    "        #diff_x = f_x - o_x # hopefully torch knows what to do with this\n",
    "        x = self.linear_on_embed(ml_logit + diff_x)\n",
    "        x = self.softmax(x)\n",
    "        return x\n",
    "    \n",
    "aug_model = AugEloModel(X_f_scaled_train.shape[1], 8, 8)\n",
    "\n",
    "optimizer = torch.optim.Adam(aug_model.parameters(), lr=0.001)\n",
    "batch_size = 64\n",
    "\n",
    "loss_fn = torch.nn.BCELoss() # binary cross entropy\n",
    "\n",
    "metric_vals = []\n",
    "\n",
    "for epoch in tqdm(range(50)):\n",
    "    # shuffle dataset\n",
    "    shuffle_inds = shuffle(range(n_train))\n",
    "    \n",
    "    ml_train = torch.Tensor(ml_logit_train.iloc[shuffle_inds].values).view(-1,1)\n",
    "    X_f = torch.Tensor(X_f_scaled_train[shuffle_inds,:])\n",
    "    X_o = torch.Tensor(X_o_scaled_train[shuffle_inds,:])\n",
    "    y_train = torch.Tensor(train_df[\"targetWin\"].values[shuffle_inds]).view(-1,1)\n",
    "\n",
    "    for batch_inds in gen_batches(n_train, batch_size):\n",
    "        optimizer.zero_grad()\n",
    "        y_hat = aug_model(ml_train[batch_inds], X_f[batch_inds], X_o[batch_inds])\n",
    "        loss = loss_fn(y_hat, y_train[batch_inds])\n",
    "        loss.backward()\n",
    "        optimizer.step()\n",
    "        \n",
    "    y_hat = aug_model(ml_train, X_f, X_o)\n",
    "    y_true = y_train\n",
    "    train_acc = (y_hat.round() == y_true).double().mean()\n",
    "    train_bce = loss_fn(y_hat, y_true)\n",
    "    \n",
    "    ml_test = torch.Tensor(ml_logit_test.values).view(-1,1)\n",
    "    X_f = torch.Tensor(X_f_scaled_test)\n",
    "    X_o = torch.Tensor(X_o_scaled_test)\n",
    "    y_hat = aug_model(ml_test, X_f, X_o)\n",
    "    y_true = torch.Tensor(test_df[\"targetWin\"].values).view(-1, 1)\n",
    "    test_acc = (y_hat.round() == y_true).double().mean()\n",
    "    test_bce = loss_fn(y_hat, y_true)\n",
    "    \n",
    "    metric_vals.append({\n",
    "        \"train_acc\": float(train_acc),\n",
    "        \"train_bce\": float(train_bce),\n",
    "        \"test_acc\": float(test_acc),\n",
    "        \"test_bce\": float(test_bce),\n",
    "        \"epoch\": epoch,\n",
    "    })\n",
    "    \n",
    "metric_df = pd.DataFrame(metric_vals)\n",
    "sns.lineplot(x=\"epoch\", y=\"test_bce\", label=\"bce\", data=metric_df)\n",
    "sns.lineplot(x=\"epoch\", y=\"test_acc\", label=\"acc\", data=metric_df)\n",
    "plt.show()\n",
    "\n",
    "metric_df.sort_values(\"test_bce\").head()"
   ]
  },
  {
   "cell_type": "code",
   "execution_count": null,
   "id": "fefd1b3d",
   "metadata": {},
   "outputs": [],
   "source": []
  }
 ],
 "metadata": {
  "kernelspec": {
   "display_name": "Python 3",
   "language": "python",
   "name": "python3"
  },
  "language_info": {
   "codemirror_mode": {
    "name": "ipython",
    "version": 3
   },
   "file_extension": ".py",
   "mimetype": "text/x-python",
   "name": "python",
   "nbconvert_exporter": "python",
   "pygments_lexer": "ipython3",
   "version": "3.9.12"
  }
 },
 "nbformat": 4,
 "nbformat_minor": 5
}
