{
 "cells": [
  {
   "cell_type": "code",
   "execution_count": 1,
   "metadata": {},
   "outputs": [],
   "source": [
    "import sys\n",
    "sys.path.append('/Users/john/play/sports/') # add parent directory to path"
   ]
  },
  {
   "cell_type": "code",
   "execution_count": 2,
   "metadata": {},
   "outputs": [],
   "source": [
    "from wrangle.join_datasets import load_the_historical_odds_df, join_the_odds_espn\n",
    "import pandas as pd\n",
    "import numpy as np\n",
    "from db import base_db_interface"
   ]
  },
  {
   "cell_type": "code",
   "execution_count": 8,
   "metadata": {},
   "outputs": [
    {
     "name": "stdout",
     "output_type": "stream",
     "text": [
      "load bfo_espn_ufc_features\n",
      "(65514, 248)\n",
      "load the_odds_df\n",
      "load the_odds_to_espn_map\n",
      "loading espn data\n",
      "loading the-odds data\n",
      "iteration 0 of 20. map has size 930 fighters mapped\n",
      "frontier of map has size 29 fights\n",
      "iteration 1 of 20. map has size 954 fighters mapped\n",
      "frontier of map has size 2 fights\n",
      "iteration 2 of 20. map has size 956 fighters mapped\n",
      "frontier of map has size 0 fights\n",
      "no more fights in frontier to add to map. map has size                       956 fighters mapped.                       154 fights left unaccounted for.\n",
      "okay, now we finally include tournament fights\n",
      "iteration 0 of 20. map has size 956 fighters mapped\n",
      "iteration 1 of 20. map has size 1012 fighters mapped\n",
      "iteration 2 of 20. map has size 1024 fighters mapped\n",
      "no more fights to map. map has size                       1024 fighters mapped.                       92 fights left unaccounted for.\n",
      "merge the_odds_to_espn_map with the_odds_df\n",
      "(762, 22) (65514, 248)\n",
      "merge the_odds_df with bfo_espn_ufc_features\n",
      "(65514, 262)\n"
     ]
    },
    {
     "data": {
      "text/html": [
       "<div>\n",
       "<style scoped>\n",
       "    .dataframe tbody tr th:only-of-type {\n",
       "        vertical-align: middle;\n",
       "    }\n",
       "\n",
       "    .dataframe tbody tr th {\n",
       "        vertical-align: top;\n",
       "    }\n",
       "\n",
       "    .dataframe thead th {\n",
       "        text-align: right;\n",
       "    }\n",
       "</style>\n",
       "<table border=\"1\" class=\"dataframe\">\n",
       "  <thead>\n",
       "    <tr style=\"text-align: right;\">\n",
       "      <th></th>\n",
       "      <th>fight_id</th>\n",
       "      <th>Date</th>\n",
       "      <th>FighterResult</th>\n",
       "      <th>Decision</th>\n",
       "      <th>Rnd</th>\n",
       "      <th>Time</th>\n",
       "      <th>Event</th>\n",
       "      <th>OpponentID_espn</th>\n",
       "      <th>FighterID_espn</th>\n",
       "      <th>TSL</th>\n",
       "      <th>...</th>\n",
       "      <th>open_timestamp</th>\n",
       "      <th>home_team</th>\n",
       "      <th>away_team</th>\n",
       "      <th>open_fighter_decimal_odds</th>\n",
       "      <th>open_opponent_decimal_odds</th>\n",
       "      <th>close_timestamp</th>\n",
       "      <th>close_fighter_decimal_odds</th>\n",
       "      <th>close_opponent_decimal_odds</th>\n",
       "      <th>FighterID</th>\n",
       "      <th>OpponentID</th>\n",
       "    </tr>\n",
       "  </thead>\n",
       "  <tbody>\n",
       "    <tr>\n",
       "      <th>0</th>\n",
       "      <td>1991-09-26_2354059_2558095</td>\n",
       "      <td>1991-09-26</td>\n",
       "      <td>L</td>\n",
       "      <td>TKO (Injury)</td>\n",
       "      <td>1</td>\n",
       "      <td>4:42</td>\n",
       "      <td>Desafio: Jiu-Jitsu vs. Luta Livre</td>\n",
       "      <td>2354059</td>\n",
       "      <td>2558095</td>\n",
       "      <td>NaN</td>\n",
       "      <td>...</td>\n",
       "      <td>NaN</td>\n",
       "      <td>NaN</td>\n",
       "      <td>NaN</td>\n",
       "      <td>NaN</td>\n",
       "      <td>NaN</td>\n",
       "      <td>NaN</td>\n",
       "      <td>NaN</td>\n",
       "      <td>NaN</td>\n",
       "      <td>NaN</td>\n",
       "      <td>NaN</td>\n",
       "    </tr>\n",
       "    <tr>\n",
       "      <th>1</th>\n",
       "      <td>1992-01-01_2354119_2501396</td>\n",
       "      <td>1992-01-01</td>\n",
       "      <td>W</td>\n",
       "      <td>Submission (Rear Naked Choke)</td>\n",
       "      <td>1</td>\n",
       "      <td>7:03</td>\n",
       "      <td>Desafio: Gracie Vale Tudo</td>\n",
       "      <td>2501396</td>\n",
       "      <td>2354119</td>\n",
       "      <td>NaN</td>\n",
       "      <td>...</td>\n",
       "      <td>NaN</td>\n",
       "      <td>NaN</td>\n",
       "      <td>NaN</td>\n",
       "      <td>NaN</td>\n",
       "      <td>NaN</td>\n",
       "      <td>NaN</td>\n",
       "      <td>NaN</td>\n",
       "      <td>NaN</td>\n",
       "      <td>NaN</td>\n",
       "      <td>NaN</td>\n",
       "    </tr>\n",
       "    <tr>\n",
       "      <th>2</th>\n",
       "      <td>1993-08-29_2354132_3107994</td>\n",
       "      <td>1993-08-29</td>\n",
       "      <td>L</td>\n",
       "      <td>Submission (Strikes)</td>\n",
       "      <td>1</td>\n",
       "      <td>2:46</td>\n",
       "      <td>CP X CB: Capoeira vs. Chute Boxe</td>\n",
       "      <td>2354132</td>\n",
       "      <td>3107994</td>\n",
       "      <td>NaN</td>\n",
       "      <td>...</td>\n",
       "      <td>NaN</td>\n",
       "      <td>NaN</td>\n",
       "      <td>NaN</td>\n",
       "      <td>NaN</td>\n",
       "      <td>NaN</td>\n",
       "      <td>NaN</td>\n",
       "      <td>NaN</td>\n",
       "      <td>NaN</td>\n",
       "      <td>NaN</td>\n",
       "      <td>NaN</td>\n",
       "    </tr>\n",
       "    <tr>\n",
       "      <th>3</th>\n",
       "      <td>1993-09-21_2335653_2557846</td>\n",
       "      <td>1993-09-21</td>\n",
       "      <td>L</td>\n",
       "      <td>Submission (Rear Naked Choke)</td>\n",
       "      <td>1</td>\n",
       "      <td>6:15</td>\n",
       "      <td>Pancrase: Yes, We Are Hybrid Wrestlers 1</td>\n",
       "      <td>2335653</td>\n",
       "      <td>2557846</td>\n",
       "      <td>NaN</td>\n",
       "      <td>...</td>\n",
       "      <td>NaN</td>\n",
       "      <td>NaN</td>\n",
       "      <td>NaN</td>\n",
       "      <td>NaN</td>\n",
       "      <td>NaN</td>\n",
       "      <td>NaN</td>\n",
       "      <td>NaN</td>\n",
       "      <td>NaN</td>\n",
       "      <td>NaN</td>\n",
       "      <td>NaN</td>\n",
       "    </tr>\n",
       "    <tr>\n",
       "      <th>4</th>\n",
       "      <td>1993-10-14_2335653_2431322</td>\n",
       "      <td>1993-10-14</td>\n",
       "      <td>L</td>\n",
       "      <td>Submission (Heel Hook)</td>\n",
       "      <td>1</td>\n",
       "      <td>12:23</td>\n",
       "      <td>Pancrase: Yes, We Are Hybrid Wrestlers 2</td>\n",
       "      <td>2335653</td>\n",
       "      <td>2431322</td>\n",
       "      <td>NaN</td>\n",
       "      <td>...</td>\n",
       "      <td>NaN</td>\n",
       "      <td>NaN</td>\n",
       "      <td>NaN</td>\n",
       "      <td>NaN</td>\n",
       "      <td>NaN</td>\n",
       "      <td>NaN</td>\n",
       "      <td>NaN</td>\n",
       "      <td>NaN</td>\n",
       "      <td>NaN</td>\n",
       "      <td>NaN</td>\n",
       "    </tr>\n",
       "  </tbody>\n",
       "</table>\n",
       "<p>5 rows × 262 columns</p>\n",
       "</div>"
      ],
      "text/plain": [
       "                     fight_id       Date FighterResult  \\\n",
       "0  1991-09-26_2354059_2558095 1991-09-26             L   \n",
       "1  1992-01-01_2354119_2501396 1992-01-01             W   \n",
       "2  1993-08-29_2354132_3107994 1993-08-29             L   \n",
       "3  1993-09-21_2335653_2557846 1993-09-21             L   \n",
       "4  1993-10-14_2335653_2431322 1993-10-14             L   \n",
       "\n",
       "                        Decision Rnd   Time  \\\n",
       "0                   TKO (Injury)   1   4:42   \n",
       "1  Submission (Rear Naked Choke)   1   7:03   \n",
       "2           Submission (Strikes)   1   2:46   \n",
       "3  Submission (Rear Naked Choke)   1   6:15   \n",
       "4         Submission (Heel Hook)   1  12:23   \n",
       "\n",
       "                                      Event OpponentID_espn FighterID_espn  \\\n",
       "0         Desafio: Jiu-Jitsu vs. Luta Livre         2354059        2558095   \n",
       "1                 Desafio: Gracie Vale Tudo         2501396        2354119   \n",
       "2          CP X CB: Capoeira vs. Chute Boxe         2354132        3107994   \n",
       "3  Pancrase: Yes, We Are Hybrid Wrestlers 1         2335653        2557846   \n",
       "4  Pancrase: Yes, We Are Hybrid Wrestlers 2         2335653        2431322   \n",
       "\n",
       "   TSL  ...  open_timestamp  home_team  away_team open_fighter_decimal_odds  \\\n",
       "0  NaN  ...             NaN        NaN        NaN                       NaN   \n",
       "1  NaN  ...             NaN        NaN        NaN                       NaN   \n",
       "2  NaN  ...             NaN        NaN        NaN                       NaN   \n",
       "3  NaN  ...             NaN        NaN        NaN                       NaN   \n",
       "4  NaN  ...             NaN        NaN        NaN                       NaN   \n",
       "\n",
       "   open_opponent_decimal_odds  close_timestamp  close_fighter_decimal_odds  \\\n",
       "0                         NaN              NaN                         NaN   \n",
       "1                         NaN              NaN                         NaN   \n",
       "2                         NaN              NaN                         NaN   \n",
       "3                         NaN              NaN                         NaN   \n",
       "4                         NaN              NaN                         NaN   \n",
       "\n",
       "   close_opponent_decimal_odds  FighterID  OpponentID  \n",
       "0                          NaN        NaN         NaN  \n",
       "1                          NaN        NaN         NaN  \n",
       "2                          NaN        NaN         NaN  \n",
       "3                          NaN        NaN         NaN  \n",
       "4                          NaN        NaN         NaN  \n",
       "\n",
       "[5 rows x 262 columns]"
      ]
     },
     "execution_count": 8,
     "metadata": {},
     "output_type": "execute_result"
    }
   ],
   "source": [
    "def load_joined_datasets(bookmaker_name=\"DraftKings\"):\n",
    "    print(\"load bfo_espn_ufc_features\")\n",
    "    df = base_db_interface.read(\"bfo_espn_ufc_features\")\n",
    "    for dt_col in [\"Date\", \"DOB\", \"DOB_opp\"]:\n",
    "        df[dt_col] = pd.to_datetime(df[dt_col])\n",
    "    # df[\"FigherOpen\"] = df[\"FighterOpen\"].astype()\n",
    "    df[[\"FighterOpen\", \"OpponentOpen\"]] = df[[\"FighterOpen\", \"OpponentOpen\"]].astype(float)\n",
    "        \n",
    "    df = df.drop_duplicates(subset=[\"fight_id\"])\n",
    "    #.dropna(subset=[\"FighterID_espn_espn\", \"OpponentID_espn\"])\n",
    "    df[\"FighterID_espn\"] = df[\"FighterID_espn\"].fillna(\"unknown\")\n",
    "    df[\"OpponentID_espn\"] = df[\"OpponentID_espn\"].fillna(\"unknown\")\n",
    "    print(df.shape)\n",
    "    print(\"load the_odds_df\")\n",
    "    the_odds_df = load_the_historical_odds_df()\n",
    "    print(\"load the_odds_to_espn_map\")\n",
    "    the_odds_to_espn_map = join_the_odds_espn()\n",
    "    print(\"merge the_odds_to_espn_map with the_odds_df\")\n",
    "    the_odds_df = the_odds_df.merge(\n",
    "        the_odds_to_espn_map,\n",
    "        how='inner',\n",
    "        left_on=[\"FighterName\", \"OpponentName\", \"Date\"],\n",
    "        right_on=[\"FighterID_the_odds\", \"OpponentID_the_odds\", \"Date_the_odds\"]\n",
    "    )\n",
    "    # filter the_odds_df by bookmaker_name, drop irrelevant rows\n",
    "    the_odds_df = the_odds_df.query(\n",
    "        \"bookmaker_name == '{bookmaker_name}' & market_name == 'h2h'\".format(\n",
    "            bookmaker_name=bookmaker_name\n",
    "        )\n",
    "    ).sort_values(\"commence_time\")\\\n",
    "        .groupby([\"FighterID_espn\", \"OpponentID_espn\", \"Date_espn\"])\\\n",
    "        .last().reset_index()\n",
    "    print(the_odds_df.shape, df.shape)\n",
    "    print(\"merge the_odds_df with bfo_espn_ufc_features\")\n",
    "    df = df.merge(\n",
    "        the_odds_df.drop(columns=[\n",
    "            \"FighterName\", \"OpponentName\", \"Date\",\n",
    "            \"FighterID_the_odds\", \"OpponentID_the_odds\", \"Date_the_odds\"\n",
    "        ]),\n",
    "        how='left',\n",
    "        left_on=[\"FighterID_espn\", \"OpponentID_espn\", \"Date\"],\n",
    "        right_on=[\"FighterID_espn\", \"OpponentID_espn\", \"Date_espn\"]\n",
    "    )\n",
    "    return df\n",
    "\n",
    "df = load_joined_datasets(bookmaker_name=\"Betfair\")\n",
    "print(df.shape)\n",
    "df.head()"
   ]
  },
  {
   "cell_type": "code",
   "execution_count": 9,
   "metadata": {},
   "outputs": [
    {
     "data": {
      "text/plain": [
       "FighterClose_implied_prob       369\n",
       "OpponentClose_implied_prob      369\n",
       "close_fighter_american_odds     369\n",
       "close_opponent_american_odds    369\n",
       "dtype: int64"
      ]
     },
     "execution_count": 9,
     "metadata": {},
     "output_type": "execute_result"
    }
   ],
   "source": [
    "# okay how do I convert decimal odds to implied probability?\n",
    "# and also to american odds\n",
    "\n",
    "def decimal_to_implied_prob(decimal_odds):\n",
    "    # decimal odds represent the payout if you bet $1\n",
    "    return 1 / decimal_odds\n",
    "\n",
    "def decimal_to_american_odds(decimal_odds):\n",
    "    american_odds = pd.Series(np.nan, index=decimal_odds.index, dtype=float)\n",
    "    fav_inds = decimal_odds < 2\n",
    "    dog_inds = decimal_odds >= 2\n",
    "    american_odds.loc[fav_inds] = -100 / (decimal_odds.loc[fav_inds] - 1)\n",
    "    american_odds.loc[dog_inds] = 100 * (decimal_odds.loc[dog_inds] - 1)\n",
    "    return american_odds\n",
    "    \n",
    "df[\"FighterOpen_implied_prob\"] = decimal_to_implied_prob(df[\"open_fighter_decimal_odds\"])\n",
    "df[\"OpponentOpen_implied_prob\"] = decimal_to_implied_prob(df[\"open_opponent_decimal_odds\"])\n",
    "df[\"open_fighter_american_odds\"] = decimal_to_american_odds(df[\"open_fighter_decimal_odds\"])\n",
    "df[\"open_opponent_american_odds\"] = decimal_to_american_odds(df[\"open_opponent_decimal_odds\"])\n",
    "df[[\n",
    "    \"FighterOpen_implied_prob\",\n",
    "    \"OpponentOpen_implied_prob\",\n",
    "    \"open_fighter_american_odds\",\n",
    "    \"open_opponent_american_odds\"\n",
    "]].notnull().sum()"
   ]
  },
  {
   "cell_type": "code",
   "execution_count": null,
   "metadata": {},
   "outputs": [],
   "source": []
  },
  {
   "cell_type": "code",
   "execution_count": 10,
   "metadata": {},
   "outputs": [],
   "source": [
    "from sklearn.decomposition import PCA\n",
    "# OKAY PCA HAPPENS HERE. Just do everything in-sample for now. \n",
    "stat_cols = [\n",
    "    'TSL', 'TSA', 'SSL',\n",
    "    'SSA', #'TSL-TSA', \n",
    "    'KD', #'%BODY', '%HEAD', '%LEG', \n",
    "    'SCBL',\n",
    "    'SCBA', 'SCHL', 'SCHA', 'SCLL', 'SCLA', 'RV', 'TDL', 'TDA', 'TDS',\n",
    "    # 'TK ACC', 'SR', # I don't believe in ratio features in PCA, \n",
    "    # # because of the possibility of division by zero and heteroskedasticity\n",
    "    'SGBL', 'SGBA', 'SGHL', 'SGHA', 'SGLL', 'SGLA', 'AD', 'ADTB',\n",
    "    'ADHG', 'ADTM', 'ADTS', 'SM', 'SDBL', 'SDBA', 'SDHL',\n",
    "    'SDHA', 'SDLL', 'SDLA',\n",
    "    #'time_seconds',\n",
    "    # 'TD_fails', #'submission_rate',\n",
    "    'TD_fail', # formerly 'TD_fails'\n",
    "    'SDL', 'SCL', # formerly 'distance_strikes_landed', 'clinch_strikes_landed',\n",
    "    #'KD_power', \n",
    "    'SGL', # formerly 'ground_strikes_landed'\n",
    "]\n",
    "df[[\"KD\", \"KD_opp\"]] = df[[\"KD\", \"KD_opp\"]].astype(float) \n",
    "# convert from string to float. rather annoying"
   ]
  },
  {
   "cell_type": "code",
   "execution_count": 11,
   "metadata": {},
   "outputs": [],
   "source": [
    "n_pca = 14\n",
    "bin_elo_alpha = 0.45\n",
    "acc_elo_alpha = 0.45\n",
    "pca_elo_alpha = 0.45"
   ]
  },
  {
   "cell_type": "code",
   "execution_count": 12,
   "metadata": {},
   "outputs": [],
   "source": [
    "stat_diff_df = {\n",
    "    \"FighterID_espn\": df[\"FighterID_espn\"],\n",
    "    \"OpponentID_espn\": df[\"OpponentID_espn\"],\n",
    "    \"Date\": df[\"Date\"],\n",
    "    \"gender\": df[\"gender\"],\n",
    "    \"fight_id\": df[\"fight_id\"],\n",
    "}\n",
    "diff_cols = [col+\"_diff\" for col in stat_cols]\n",
    "for col, diff_col in zip(stat_cols, diff_cols):\n",
    "    stat_diff_df[diff_col] = (\n",
    "        np.sqrt(df[col]) - np.sqrt(df[col+\"_opp\"])\n",
    "    ) # TODO try fillna(0)\n",
    "# stat_diff_df = pd.DataFrame(stat_diff_df).dropna(subset=diff_cols).reset_index()\n",
    "stat_diff_df = pd.DataFrame(stat_diff_df).reset_index()"
   ]
  },
  {
   "cell_type": "code",
   "execution_count": 13,
   "metadata": {},
   "outputs": [
    {
     "name": "stdout",
     "output_type": "stream",
     "text": [
      "getting elo features for PC_0\n"
     ]
    },
    {
     "name": "stderr",
     "output_type": "stream",
     "text": [
      "100%|██████████| 3987/3987 [00:01<00:00, 3011.89it/s]\n",
      "100%|██████████| 1684/1684 [00:35<00:00, 47.30it/s]\n"
     ]
    },
    {
     "name": "stdout",
     "output_type": "stream",
     "text": [
      "getting elo features for PC_1\n"
     ]
    },
    {
     "name": "stderr",
     "output_type": "stream",
     "text": [
      "100%|██████████| 3987/3987 [00:01<00:00, 3040.33it/s]\n",
      "100%|██████████| 1684/1684 [00:34<00:00, 49.12it/s]\n"
     ]
    },
    {
     "name": "stdout",
     "output_type": "stream",
     "text": [
      "getting elo features for PC_2\n"
     ]
    },
    {
     "name": "stderr",
     "output_type": "stream",
     "text": [
      "100%|██████████| 3987/3987 [00:01<00:00, 3099.91it/s]\n",
      "100%|██████████| 1684/1684 [00:40<00:00, 41.35it/s]\n"
     ]
    },
    {
     "name": "stdout",
     "output_type": "stream",
     "text": [
      "getting elo features for PC_3\n"
     ]
    },
    {
     "name": "stderr",
     "output_type": "stream",
     "text": [
      "100%|██████████| 3987/3987 [00:01<00:00, 3032.75it/s]\n",
      "100%|██████████| 1684/1684 [00:40<00:00, 41.16it/s]\n"
     ]
    },
    {
     "name": "stdout",
     "output_type": "stream",
     "text": [
      "getting elo features for PC_4\n"
     ]
    },
    {
     "name": "stderr",
     "output_type": "stream",
     "text": [
      "100%|██████████| 3987/3987 [00:01<00:00, 3074.35it/s]\n",
      "100%|██████████| 1684/1684 [00:34<00:00, 49.38it/s]\n"
     ]
    },
    {
     "name": "stdout",
     "output_type": "stream",
     "text": [
      "getting elo features for PC_5\n"
     ]
    },
    {
     "name": "stderr",
     "output_type": "stream",
     "text": [
      "100%|██████████| 3987/3987 [00:01<00:00, 3130.05it/s]\n",
      "100%|██████████| 1684/1684 [00:40<00:00, 41.47it/s]\n"
     ]
    },
    {
     "name": "stdout",
     "output_type": "stream",
     "text": [
      "getting elo features for PC_6\n"
     ]
    },
    {
     "name": "stderr",
     "output_type": "stream",
     "text": [
      "100%|██████████| 3987/3987 [00:01<00:00, 3096.30it/s]\n",
      "100%|██████████| 1684/1684 [00:34<00:00, 49.24it/s]\n"
     ]
    },
    {
     "name": "stdout",
     "output_type": "stream",
     "text": [
      "getting elo features for PC_7\n"
     ]
    },
    {
     "name": "stderr",
     "output_type": "stream",
     "text": [
      "100%|██████████| 3987/3987 [00:01<00:00, 3123.29it/s]\n",
      "100%|██████████| 1684/1684 [00:32<00:00, 51.08it/s]\n"
     ]
    },
    {
     "name": "stdout",
     "output_type": "stream",
     "text": [
      "getting elo features for PC_8\n"
     ]
    },
    {
     "name": "stderr",
     "output_type": "stream",
     "text": [
      "100%|██████████| 3987/3987 [00:01<00:00, 3156.20it/s]\n",
      "100%|██████████| 1684/1684 [00:33<00:00, 50.60it/s]\n"
     ]
    },
    {
     "name": "stdout",
     "output_type": "stream",
     "text": [
      "getting elo features for PC_9\n"
     ]
    },
    {
     "name": "stderr",
     "output_type": "stream",
     "text": [
      "100%|██████████| 3987/3987 [00:01<00:00, 3140.71it/s]\n",
      "100%|██████████| 1684/1684 [00:32<00:00, 51.34it/s]\n"
     ]
    },
    {
     "name": "stdout",
     "output_type": "stream",
     "text": [
      "getting elo features for PC_10\n"
     ]
    },
    {
     "name": "stderr",
     "output_type": "stream",
     "text": [
      "100%|██████████| 3987/3987 [00:01<00:00, 3136.67it/s]\n",
      "100%|██████████| 1684/1684 [00:32<00:00, 51.38it/s]\n"
     ]
    },
    {
     "name": "stdout",
     "output_type": "stream",
     "text": [
      "getting elo features for PC_11\n"
     ]
    },
    {
     "name": "stderr",
     "output_type": "stream",
     "text": [
      "100%|██████████| 3987/3987 [00:01<00:00, 3138.86it/s]\n",
      "100%|██████████| 1684/1684 [00:32<00:00, 51.44it/s]\n"
     ]
    },
    {
     "name": "stdout",
     "output_type": "stream",
     "text": [
      "getting elo features for PC_12\n"
     ]
    },
    {
     "name": "stderr",
     "output_type": "stream",
     "text": [
      "100%|██████████| 3987/3987 [00:01<00:00, 3159.08it/s]\n",
      "100%|██████████| 1684/1684 [00:32<00:00, 51.38it/s]\n"
     ]
    },
    {
     "name": "stdout",
     "output_type": "stream",
     "text": [
      "getting elo features for PC_13\n"
     ]
    },
    {
     "name": "stderr",
     "output_type": "stream",
     "text": [
      "100%|██████████| 3987/3987 [00:01<00:00, 3162.68it/s]\n",
      "100%|██████████| 1684/1684 [00:32<00:00, 51.43it/s]\n"
     ]
    },
    {
     "data": {
      "text/html": [
       "<div>\n",
       "<style scoped>\n",
       "    .dataframe tbody tr th:only-of-type {\n",
       "        vertical-align: middle;\n",
       "    }\n",
       "\n",
       "    .dataframe tbody tr th {\n",
       "        vertical-align: top;\n",
       "    }\n",
       "\n",
       "    .dataframe thead th {\n",
       "        text-align: right;\n",
       "    }\n",
       "</style>\n",
       "<table border=\"1\" class=\"dataframe\">\n",
       "  <thead>\n",
       "    <tr style=\"text-align: right;\">\n",
       "      <th></th>\n",
       "      <th>fight_id</th>\n",
       "      <th>pred_PC_0</th>\n",
       "      <th>pred_PC_1</th>\n",
       "      <th>pred_PC_2</th>\n",
       "      <th>pred_PC_3</th>\n",
       "      <th>pred_PC_4</th>\n",
       "      <th>pred_PC_5</th>\n",
       "      <th>pred_PC_6</th>\n",
       "      <th>pred_PC_7</th>\n",
       "      <th>pred_PC_8</th>\n",
       "      <th>pred_PC_9</th>\n",
       "      <th>pred_PC_10</th>\n",
       "      <th>pred_PC_11</th>\n",
       "      <th>pred_PC_12</th>\n",
       "      <th>pred_PC_13</th>\n",
       "    </tr>\n",
       "  </thead>\n",
       "  <tbody>\n",
       "    <tr>\n",
       "      <th>0</th>\n",
       "      <td>1991-09-26_2354059_2558095</td>\n",
       "      <td>0.000000</td>\n",
       "      <td>0.000000</td>\n",
       "      <td>0.000000</td>\n",
       "      <td>0.000000</td>\n",
       "      <td>0.000000</td>\n",
       "      <td>0.000000</td>\n",
       "      <td>0.000000</td>\n",
       "      <td>0.000000</td>\n",
       "      <td>0.000000</td>\n",
       "      <td>0.000000</td>\n",
       "      <td>0.000000</td>\n",
       "      <td>0.000000</td>\n",
       "      <td>0.000000</td>\n",
       "      <td>0.000000</td>\n",
       "    </tr>\n",
       "    <tr>\n",
       "      <th>1</th>\n",
       "      <td>1992-01-01_2354119_2501396</td>\n",
       "      <td>0.000000</td>\n",
       "      <td>0.000000</td>\n",
       "      <td>0.000000</td>\n",
       "      <td>0.000000</td>\n",
       "      <td>0.000000</td>\n",
       "      <td>0.000000</td>\n",
       "      <td>0.000000</td>\n",
       "      <td>0.000000</td>\n",
       "      <td>0.000000</td>\n",
       "      <td>0.000000</td>\n",
       "      <td>0.000000</td>\n",
       "      <td>0.000000</td>\n",
       "      <td>0.000000</td>\n",
       "      <td>0.000000</td>\n",
       "    </tr>\n",
       "    <tr>\n",
       "      <th>2</th>\n",
       "      <td>1993-08-29_2354132_3107994</td>\n",
       "      <td>0.000000</td>\n",
       "      <td>0.000000</td>\n",
       "      <td>0.000000</td>\n",
       "      <td>0.000000</td>\n",
       "      <td>0.000000</td>\n",
       "      <td>0.000000</td>\n",
       "      <td>0.000000</td>\n",
       "      <td>0.000000</td>\n",
       "      <td>0.000000</td>\n",
       "      <td>0.000000</td>\n",
       "      <td>0.000000</td>\n",
       "      <td>0.000000</td>\n",
       "      <td>0.000000</td>\n",
       "      <td>0.000000</td>\n",
       "    </tr>\n",
       "    <tr>\n",
       "      <th>3</th>\n",
       "      <td>1993-09-21_2335653_2557846</td>\n",
       "      <td>0.000000</td>\n",
       "      <td>0.000000</td>\n",
       "      <td>0.000000</td>\n",
       "      <td>0.000000</td>\n",
       "      <td>0.000000</td>\n",
       "      <td>0.000000</td>\n",
       "      <td>0.000000</td>\n",
       "      <td>0.000000</td>\n",
       "      <td>0.000000</td>\n",
       "      <td>0.000000</td>\n",
       "      <td>0.000000</td>\n",
       "      <td>0.000000</td>\n",
       "      <td>0.000000</td>\n",
       "      <td>0.000000</td>\n",
       "    </tr>\n",
       "    <tr>\n",
       "      <th>4</th>\n",
       "      <td>1993-10-14_2335653_2431322</td>\n",
       "      <td>0.000000</td>\n",
       "      <td>0.000000</td>\n",
       "      <td>0.000000</td>\n",
       "      <td>0.000000</td>\n",
       "      <td>0.000000</td>\n",
       "      <td>0.000000</td>\n",
       "      <td>0.000000</td>\n",
       "      <td>0.000000</td>\n",
       "      <td>0.000000</td>\n",
       "      <td>0.000000</td>\n",
       "      <td>0.000000</td>\n",
       "      <td>0.000000</td>\n",
       "      <td>0.000000</td>\n",
       "      <td>0.000000</td>\n",
       "    </tr>\n",
       "    <tr>\n",
       "      <th>...</th>\n",
       "      <td>...</td>\n",
       "      <td>...</td>\n",
       "      <td>...</td>\n",
       "      <td>...</td>\n",
       "      <td>...</td>\n",
       "      <td>...</td>\n",
       "      <td>...</td>\n",
       "      <td>...</td>\n",
       "      <td>...</td>\n",
       "      <td>...</td>\n",
       "      <td>...</td>\n",
       "      <td>...</td>\n",
       "      <td>...</td>\n",
       "      <td>...</td>\n",
       "      <td>...</td>\n",
       "    </tr>\n",
       "    <tr>\n",
       "      <th>65509</th>\n",
       "      <td>2023-04-08_4285679_4705658</td>\n",
       "      <td>-0.341921</td>\n",
       "      <td>-0.088334</td>\n",
       "      <td>1.067890</td>\n",
       "      <td>1.092260</td>\n",
       "      <td>0.450601</td>\n",
       "      <td>-0.108177</td>\n",
       "      <td>-0.962124</td>\n",
       "      <td>0.258863</td>\n",
       "      <td>0.477849</td>\n",
       "      <td>-0.860573</td>\n",
       "      <td>-0.679584</td>\n",
       "      <td>-0.451410</td>\n",
       "      <td>0.488411</td>\n",
       "      <td>0.273071</td>\n",
       "    </tr>\n",
       "    <tr>\n",
       "      <th>65510</th>\n",
       "      <td>2023-04-08_2960757_3952937</td>\n",
       "      <td>-0.128027</td>\n",
       "      <td>-0.390322</td>\n",
       "      <td>0.750910</td>\n",
       "      <td>0.067939</td>\n",
       "      <td>0.316046</td>\n",
       "      <td>-0.841531</td>\n",
       "      <td>-0.323566</td>\n",
       "      <td>-0.445951</td>\n",
       "      <td>-0.247004</td>\n",
       "      <td>0.780972</td>\n",
       "      <td>-0.264382</td>\n",
       "      <td>-0.220599</td>\n",
       "      <td>-0.208816</td>\n",
       "      <td>-0.445222</td>\n",
       "    </tr>\n",
       "    <tr>\n",
       "      <th>65511</th>\n",
       "      <td>2023-04-08_3023804_4781218</td>\n",
       "      <td>-0.188122</td>\n",
       "      <td>0.088724</td>\n",
       "      <td>0.009845</td>\n",
       "      <td>0.806075</td>\n",
       "      <td>0.167074</td>\n",
       "      <td>0.540790</td>\n",
       "      <td>0.068239</td>\n",
       "      <td>-0.389010</td>\n",
       "      <td>-0.443532</td>\n",
       "      <td>0.101686</td>\n",
       "      <td>-0.583707</td>\n",
       "      <td>-0.561181</td>\n",
       "      <td>0.669425</td>\n",
       "      <td>0.235585</td>\n",
       "    </tr>\n",
       "    <tr>\n",
       "      <th>65512</th>\n",
       "      <td>2023-04-08_3090451_3998248</td>\n",
       "      <td>0.268043</td>\n",
       "      <td>-0.997145</td>\n",
       "      <td>-0.022250</td>\n",
       "      <td>-0.233398</td>\n",
       "      <td>1.707252</td>\n",
       "      <td>0.707835</td>\n",
       "      <td>-1.170451</td>\n",
       "      <td>0.080151</td>\n",
       "      <td>-0.445071</td>\n",
       "      <td>0.073867</td>\n",
       "      <td>1.417583</td>\n",
       "      <td>0.943387</td>\n",
       "      <td>-0.243191</td>\n",
       "      <td>0.410462</td>\n",
       "    </tr>\n",
       "    <tr>\n",
       "      <th>65513</th>\n",
       "      <td>2023-04-15_2614933_3902098</td>\n",
       "      <td>0.982853</td>\n",
       "      <td>-0.952478</td>\n",
       "      <td>0.870958</td>\n",
       "      <td>-0.620305</td>\n",
       "      <td>0.903809</td>\n",
       "      <td>-0.687449</td>\n",
       "      <td>-1.007944</td>\n",
       "      <td>0.409100</td>\n",
       "      <td>0.066981</td>\n",
       "      <td>1.559091</td>\n",
       "      <td>-0.133681</td>\n",
       "      <td>0.216092</td>\n",
       "      <td>0.220018</td>\n",
       "      <td>0.576430</td>\n",
       "    </tr>\n",
       "  </tbody>\n",
       "</table>\n",
       "<p>65514 rows × 15 columns</p>\n",
       "</div>"
      ],
      "text/plain": [
       "                         fight_id  pred_PC_0  pred_PC_1  pred_PC_2  pred_PC_3  \\\n",
       "0      1991-09-26_2354059_2558095   0.000000   0.000000   0.000000   0.000000   \n",
       "1      1992-01-01_2354119_2501396   0.000000   0.000000   0.000000   0.000000   \n",
       "2      1993-08-29_2354132_3107994   0.000000   0.000000   0.000000   0.000000   \n",
       "3      1993-09-21_2335653_2557846   0.000000   0.000000   0.000000   0.000000   \n",
       "4      1993-10-14_2335653_2431322   0.000000   0.000000   0.000000   0.000000   \n",
       "...                           ...        ...        ...        ...        ...   \n",
       "65509  2023-04-08_4285679_4705658  -0.341921  -0.088334   1.067890   1.092260   \n",
       "65510  2023-04-08_2960757_3952937  -0.128027  -0.390322   0.750910   0.067939   \n",
       "65511  2023-04-08_3023804_4781218  -0.188122   0.088724   0.009845   0.806075   \n",
       "65512  2023-04-08_3090451_3998248   0.268043  -0.997145  -0.022250  -0.233398   \n",
       "65513  2023-04-15_2614933_3902098   0.982853  -0.952478   0.870958  -0.620305   \n",
       "\n",
       "       pred_PC_4  pred_PC_5  pred_PC_6  pred_PC_7  pred_PC_8  pred_PC_9  \\\n",
       "0       0.000000   0.000000   0.000000   0.000000   0.000000   0.000000   \n",
       "1       0.000000   0.000000   0.000000   0.000000   0.000000   0.000000   \n",
       "2       0.000000   0.000000   0.000000   0.000000   0.000000   0.000000   \n",
       "3       0.000000   0.000000   0.000000   0.000000   0.000000   0.000000   \n",
       "4       0.000000   0.000000   0.000000   0.000000   0.000000   0.000000   \n",
       "...          ...        ...        ...        ...        ...        ...   \n",
       "65509   0.450601  -0.108177  -0.962124   0.258863   0.477849  -0.860573   \n",
       "65510   0.316046  -0.841531  -0.323566  -0.445951  -0.247004   0.780972   \n",
       "65511   0.167074   0.540790   0.068239  -0.389010  -0.443532   0.101686   \n",
       "65512   1.707252   0.707835  -1.170451   0.080151  -0.445071   0.073867   \n",
       "65513   0.903809  -0.687449  -1.007944   0.409100   0.066981   1.559091   \n",
       "\n",
       "       pred_PC_10  pred_PC_11  pred_PC_12  pred_PC_13  \n",
       "0        0.000000    0.000000    0.000000    0.000000  \n",
       "1        0.000000    0.000000    0.000000    0.000000  \n",
       "2        0.000000    0.000000    0.000000    0.000000  \n",
       "3        0.000000    0.000000    0.000000    0.000000  \n",
       "4        0.000000    0.000000    0.000000    0.000000  \n",
       "...           ...         ...         ...         ...  \n",
       "65509   -0.679584   -0.451410    0.488411    0.273071  \n",
       "65510   -0.264382   -0.220599   -0.208816   -0.445222  \n",
       "65511   -0.583707   -0.561181    0.669425    0.235585  \n",
       "65512    1.417583    0.943387   -0.243191    0.410462  \n",
       "65513   -0.133681    0.216092    0.220018    0.576430  \n",
       "\n",
       "[65514 rows x 15 columns]"
      ]
     },
     "execution_count": 13,
     "metadata": {},
     "output_type": "execute_result"
    }
   ],
   "source": [
    "from model.mma_features import PcaEloWrapper, BinaryEloWrapper\n",
    "\n",
    "pca_ew = PcaEloWrapper(\n",
    "    n_pca=n_pca, target_cols=diff_cols, alpha=pca_elo_alpha,\n",
    "    conditional_var_col=None, # for consistency\n",
    ")\n",
    "pca_elo_feat_df = pca_ew.fit_transform_all(stat_diff_df)\n",
    "pca_elo_feat_df"
   ]
  },
  {
   "cell_type": "code",
   "execution_count": 14,
   "metadata": {},
   "outputs": [
    {
     "data": {
      "text/plain": [
       "Index(['Decision', 'decision_clean'], dtype='object')"
      ]
     },
     "execution_count": 14,
     "metadata": {},
     "output_type": "execute_result"
    }
   ],
   "source": [
    "df.columns[df.columns.str.lower().str.contains(\"decision\")]"
   ]
  },
  {
   "attachments": {},
   "cell_type": "markdown",
   "metadata": {},
   "source": [
    "## Result of the fight"
   ]
  },
  {
   "cell_type": "code",
   "execution_count": 15,
   "metadata": {},
   "outputs": [
    {
     "data": {
      "text/plain": [
       "tko/ko                  23942\n",
       "submission              20799\n",
       "decision - unanimous    15098\n",
       "decision - split         3857\n",
       "draw                      804\n",
       "nc                        408\n",
       "                          338\n",
       "dq                        237\n",
       "technical decision         31\n",
       "Name: decision_clean, dtype: int64"
      ]
     },
     "execution_count": 15,
     "metadata": {},
     "output_type": "execute_result"
    }
   ],
   "source": [
    "df[\"decision_clean\"].value_counts()"
   ]
  },
  {
   "cell_type": "code",
   "execution_count": 16,
   "metadata": {},
   "outputs": [
    {
     "data": {
      "text/plain": [
       "0.0"
      ]
     },
     "execution_count": 16,
     "metadata": {},
     "output_type": "execute_result"
    }
   ],
   "source": [
    "df[\"decision_clean\"].isnull().mean()"
   ]
  },
  {
   "cell_type": "code",
   "execution_count": 17,
   "metadata": {},
   "outputs": [],
   "source": [
    "def parse_decision(s):\n",
    "    if (s.startswith(\"submission\") or \n",
    "        s.startswith(\"sumission\") or\n",
    "        s.startswith(\"technical submission\")\n",
    "    ):\n",
    "        return \"submission\"\n",
    "    if (s.startswith(\"tko\") or \n",
    "        s.startswith(\"ko\") or\n",
    "        (s == 'could not continue')\n",
    "    ):\n",
    "        return \"tko_ko\"\n",
    "    if \"decision\" in s:\n",
    "        return \"decision\"\n",
    "    return \"other\"\n",
    "\n",
    "temp_decision = df[\"Decision\"].fillna(\"-\").str.lower().str.strip()\n",
    "decision_clean = temp_decision.apply(parse_decision)\n",
    "result_sign = df[\"FighterResult\"].map({\"W\": 1, \"L\":-1, \"D\": 0})\n",
    "decision_score = decision_clean.map({\"tko_ko\":2, \"submission\":2, \n",
    "                                                    \"decision\":1, \"other\":0})\n",
    "df[\"ordinal_fighter_result\"] = result_sign * decision_score\n",
    "submission_score = decision_clean.map({\"submission\":1, \"decision\":0, \n",
    "                                            \"other\":0, \"tko_ko\":0})\n",
    "tko_ko_score = decision_clean.map({\"submission\":0, \"decision\":0, \n",
    "                                            \"other\":0, \"tko_ko\":1})\n",
    "decision_score = decision_clean.map({\"submission\":0, \"decision\":1, \n",
    "                                            \"other\":0, \"tko_ko\":0})\n",
    "finish_score = decision_clean.map({\"submission\":1, \"decision\":0, \n",
    "                                            \"other\":0, \"tko_ko\":1})\n",
    "df[\"submission_fighter_result\"] = result_sign * submission_score\n",
    "df[\"tko_ko_fighter_result\"] = result_sign * tko_ko_score\n",
    "df[\"decision_fighter_result\"] = result_sign * decision_score\n",
    "df[\"finish_fighter_result\"] = result_sign * finish_score"
   ]
  },
  {
   "cell_type": "code",
   "execution_count": 18,
   "metadata": {},
   "outputs": [
    {
     "data": {
      "text/plain": [
       "0.0    22380\n",
       "1.0    22361\n",
       "Name: win_target_finish, dtype: int64"
      ]
     },
     "execution_count": 18,
     "metadata": {},
     "output_type": "execute_result"
    }
   ],
   "source": [
    "df[\"win_target\"] = df[\"FighterResult\"].replace({\"W\":1, \"L\":0, \"D\":np.nan})\n",
    "df[\"win_target_finish\"] = df[\"win_target\"] * decision_clean.map({\n",
    "    \"submission\":1, \"tko_ko\":1,\n",
    "    \"decision\":np.nan, \"other\":np.nan, \n",
    "})\n",
    "df[\"win_target_finish\"].value_counts()"
   ]
  },
  {
   "cell_type": "code",
   "execution_count": 19,
   "metadata": {},
   "outputs": [
    {
     "name": "stdout",
     "output_type": "stream",
     "text": [
      "(65514, 1)\n",
      "getting elo features for win_target\n"
     ]
    },
    {
     "name": "stderr",
     "output_type": "stream",
     "text": [
      "100%|██████████| 65514/65514 [00:22<00:00, 2922.19it/s]\n"
     ]
    },
    {
     "name": "stdout",
     "output_type": "stream",
     "text": [
      "getting elo features for win_target_finish\n"
     ]
    },
    {
     "name": "stderr",
     "output_type": "stream",
     "text": [
      "100%|██████████| 65514/65514 [00:22<00:00, 2902.80it/s]"
     ]
    },
    {
     "name": "stdout",
     "output_type": "stream",
     "text": [
      "(65514, 5)\n"
     ]
    },
    {
     "name": "stderr",
     "output_type": "stream",
     "text": [
      "\n"
     ]
    },
    {
     "data": {
      "text/html": [
       "<div>\n",
       "<style scoped>\n",
       "    .dataframe tbody tr th:only-of-type {\n",
       "        vertical-align: middle;\n",
       "    }\n",
       "\n",
       "    .dataframe tbody tr th {\n",
       "        vertical-align: top;\n",
       "    }\n",
       "\n",
       "    .dataframe thead th {\n",
       "        text-align: right;\n",
       "    }\n",
       "</style>\n",
       "<table border=\"1\" class=\"dataframe\">\n",
       "  <thead>\n",
       "    <tr style=\"text-align: right;\">\n",
       "      <th></th>\n",
       "      <th>fight_id</th>\n",
       "      <th>pred_win_target</th>\n",
       "      <th>pred_win_target_logit</th>\n",
       "      <th>pred_win_target_finish</th>\n",
       "      <th>pred_win_target_finish_logit</th>\n",
       "    </tr>\n",
       "  </thead>\n",
       "  <tbody>\n",
       "    <tr>\n",
       "      <th>0</th>\n",
       "      <td>1991-09-26_2354059_2558095</td>\n",
       "      <td>0.500000</td>\n",
       "      <td>0.0000</td>\n",
       "      <td>0.500000</td>\n",
       "      <td>0.0000</td>\n",
       "    </tr>\n",
       "    <tr>\n",
       "      <th>1</th>\n",
       "      <td>1992-01-01_2354119_2501396</td>\n",
       "      <td>0.500000</td>\n",
       "      <td>0.0000</td>\n",
       "      <td>0.500000</td>\n",
       "      <td>0.0000</td>\n",
       "    </tr>\n",
       "    <tr>\n",
       "      <th>2</th>\n",
       "      <td>1993-08-29_2354132_3107994</td>\n",
       "      <td>0.500000</td>\n",
       "      <td>0.0000</td>\n",
       "      <td>0.500000</td>\n",
       "      <td>0.0000</td>\n",
       "    </tr>\n",
       "    <tr>\n",
       "      <th>3</th>\n",
       "      <td>1993-09-21_2335653_2557846</td>\n",
       "      <td>0.500000</td>\n",
       "      <td>0.0000</td>\n",
       "      <td>0.500000</td>\n",
       "      <td>0.0000</td>\n",
       "    </tr>\n",
       "    <tr>\n",
       "      <th>4</th>\n",
       "      <td>1993-10-14_2335653_2431322</td>\n",
       "      <td>0.471905</td>\n",
       "      <td>-0.1125</td>\n",
       "      <td>0.471905</td>\n",
       "      <td>-0.1125</td>\n",
       "    </tr>\n",
       "  </tbody>\n",
       "</table>\n",
       "</div>"
      ],
      "text/plain": [
       "                     fight_id  pred_win_target  pred_win_target_logit  \\\n",
       "0  1991-09-26_2354059_2558095         0.500000                 0.0000   \n",
       "1  1992-01-01_2354119_2501396         0.500000                 0.0000   \n",
       "2  1993-08-29_2354132_3107994         0.500000                 0.0000   \n",
       "3  1993-09-21_2335653_2557846         0.500000                 0.0000   \n",
       "4  1993-10-14_2335653_2431322         0.471905                -0.1125   \n",
       "\n",
       "   pred_win_target_finish  pred_win_target_finish_logit  \n",
       "0                0.500000                        0.0000  \n",
       "1                0.500000                        0.0000  \n",
       "2                0.500000                        0.0000  \n",
       "3                0.500000                        0.0000  \n",
       "4                0.471905                       -0.1125  "
      ]
     },
     "execution_count": 19,
     "metadata": {},
     "output_type": "execute_result"
    }
   ],
   "source": [
    "from model.mma_features import RealEloWrapper\n",
    "\n",
    "real_elo_target_cols = [\n",
    "#     \"fighter_result_time_left\", \n",
    "#     \"ml_logit_mvmt\",\n",
    "    # \"ordinal_fighter_result\",\n",
    "    # \"submission_fighter_result\",\n",
    "    # \"tko_ko_fighter_result\",\n",
    "    # \"decision_fighter_result\",\n",
    "    # \"finish_fighter_result\",\n",
    "]\n",
    "diff_elo_target_cols = [\n",
    "]\n",
    "\n",
    "binary_elo_target_cols = [\"win_target\", \"win_target_finish\"]\n",
    "\n",
    "elo_alphas = {\n",
    "    col: 0.45 for col in (real_elo_target_cols + diff_elo_target_cols)\n",
    "}\n",
    "# elo_alphas[\"ml_logit_mvmt\"] = 0.225\n",
    "\n",
    "real_ew = RealEloWrapper(elo_alphas=elo_alphas)\n",
    "real_elo_feat_df = real_ew.fit_transform_all(df)\n",
    "print(real_elo_feat_df.shape)\n",
    "real_elo_feat_df.head()\n",
    "\n",
    "elo_alphas = {\n",
    "    col: 0.45 for col in binary_elo_target_cols\n",
    "}\n",
    "bin_ew = BinaryEloWrapper(elo_alphas=elo_alphas)\n",
    "bin_elo_feat_df = bin_ew.fit_transform_all(df)\n",
    "print(bin_elo_feat_df.shape)\n",
    "bin_elo_feat_df.head()\n",
    "# feat_ml_df[\"log_height_diff\"] = np.log(feat_ml_df[\"imp_height\"]) - np.log(feat_ml_df[\"imp_height_opp\"])\n",
    "# feat_ml_df[\"log_age_diff\"] = np.log(feat_ml_df[\"age\"]) - np.log(feat_ml_df[\"age_opp\"])\n",
    "# feat_ml_df[\"log_reach_diff\"] = np.log(feat_ml_df[\"imp_reach\"]) - np.log(feat_ml_df[\"imp_reach_opp\"])\n",
    "# feat_ml_df[\"log_reach_diff\"] = feat_ml_df[\"log_reach_diff\"].fillna(0)"
   ]
  },
  {
   "cell_type": "code",
   "execution_count": 20,
   "metadata": {},
   "outputs": [],
   "source": [
    "feat_ml_df = df.merge(\n",
    "    pca_elo_feat_df, \n",
    "    how=\"left\", \n",
    "    on=[\"fight_id\"]\n",
    ").merge(\n",
    "    real_elo_feat_df,\n",
    "    how=\"left\",\n",
    "    on=[\"fight_id\"]\n",
    ").merge(\n",
    "    bin_elo_feat_df,\n",
    "    how=\"left\",\n",
    "    on=[\"fight_id\"]\n",
    ")"
   ]
  },
  {
   "cell_type": "code",
   "execution_count": 21,
   "metadata": {},
   "outputs": [
    {
     "data": {
      "text/plain": [
       "Index([], dtype='object')"
      ]
     },
     "execution_count": 21,
     "metadata": {},
     "output_type": "execute_result"
    }
   ],
   "source": [
    "feat_ml_df.columns[feat_ml_df.columns.str.lower().str.contains(\"t_since_last\")]"
   ]
  },
  {
   "cell_type": "code",
   "execution_count": 22,
   "metadata": {},
   "outputs": [
    {
     "name": "stderr",
     "output_type": "stream",
     "text": [
      "100%|██████████| 5143/5143 [00:39<00:00, 130.71it/s]\n"
     ]
    },
    {
     "name": "stdout",
     "output_type": "stream",
     "text": [
      "(65514, 15) (65514, 291)\n"
     ]
    }
   ],
   "source": [
    "from model.mma_elo_model import unknown_fighter_id\n",
    "from tqdm import tqdm\n",
    "\n",
    "\n",
    "def _get_simple_features(df):\n",
    "    # simple things that i needn't get from the fighter stats page\n",
    "    # eg number of fights, t_since_last_fight\n",
    "    df = df.assign(\n",
    "        is_ufc=df[\"Event\"].fillna(\"\").str.contains(\"UFC\"),\n",
    "        Date=pd.to_datetime(df[\"Date\"]),\n",
    "    )\n",
    "    df = df.sort_values(\"Date\")\n",
    "    fighters = set(df[\"FighterID_espn\"]) | set(df[\"OpponentID_espn\"])\n",
    "    total_fight_counter = pd.Series(0, index=sorted(fighters))\n",
    "    total_ufc_fight_counter = pd.Series(0, index=sorted(fighters))\n",
    "    last_fight_counter = pd.Series(pd.to_datetime(\"1900-01-01\"), index=sorted(fighters))\n",
    "    # arbitrary date to start with - like starting with np.inf\n",
    "    first_fight_dt_map = pd.Series(pd.to_datetime(\"2100-01-01\"), index=sorted(fighters))\n",
    "    feat_df_list = [] # concat this at the end\n",
    "    for curr_dt, grp in tqdm(df.groupby(\"Date\")):\n",
    "        fid_vec = grp[\"FighterID_espn\"]\n",
    "        oid_vec = grp[\"OpponentID_espn\"]\n",
    "        is_ufc = grp[\"is_ufc\"]\n",
    "        first_fight_dt_map[fid_vec] = np.minimum(pd.Series(curr_dt, index=fid_vec), \n",
    "                                                    first_fight_dt_map[fid_vec])\n",
    "        first_fight_dt_map[oid_vec] = np.minimum(pd.Series(curr_dt, index=oid_vec), \n",
    "                                                    first_fight_dt_map[oid_vec])\n",
    "        feat_df_list.append(pd.DataFrame({\n",
    "            \"FighterID_espn\":fid_vec,\n",
    "            \"OpponentID_espn\":oid_vec,\n",
    "            \"Date\":grp[\"Date\"],\n",
    "            \"total_fights\":fid_vec.map(total_fight_counter),\n",
    "            \"total_ufc_fights\":fid_vec.map(total_ufc_fight_counter),\n",
    "            \"t_since_last_fight\":(curr_dt - fid_vec.map(last_fight_counter)).dt.days,\n",
    "            # \"t_since_first_fight\":(curr_dt - fid_vec.map(first_fight_dt_map)).dt.days,\n",
    "            \"total_fights_opp\":oid_vec.map(total_fight_counter),\n",
    "            \"total_ufc_fights_opp\":oid_vec.map(total_ufc_fight_counter),\n",
    "            \"t_since_last_fight_opp\":(curr_dt - oid_vec.map(last_fight_counter)).dt.days,\n",
    "            # \"t_since_first_fight_opp\":(curr_dt - oid_vec.map(first_fight_dt_map)).dt.days,\n",
    "        }))\n",
    "        # if somehow this guy takes multiple fights in the same day,\n",
    "        # just count it as one fight. \n",
    "        total_fight_counter[fid_vec] += 1\n",
    "        total_fight_counter[oid_vec] += 1\n",
    "        last_fight_counter[fid_vec] = curr_dt\n",
    "        last_fight_counter[oid_vec] = curr_dt\n",
    "        ufc_grp = grp.loc[is_ufc]\n",
    "        total_ufc_fight_counter[ufc_grp[\"FighterID_espn\"]] += 1\n",
    "        total_ufc_fight_counter[ufc_grp[\"OpponentID_espn\"]] += 1\n",
    "        # make sure unknown_fighter_id stays unknown!\n",
    "        total_fight_counter[unknown_fighter_id] = 0\n",
    "        total_ufc_fight_counter[unknown_fighter_id] = 0\n",
    "        last_fight_counter[unknown_fighter_id] = pd.to_datetime(\"1900-01-01\")\n",
    "        first_fight_dt_map[unknown_fighter_id] = curr_dt\n",
    "    feat_df = pd.concat(feat_df_list)\n",
    "    # cap t_since_last_fight, which can go really long\n",
    "    # note that because last_fight_counter is initialized to a really early date,\n",
    "    # this will handle the case where total_fights=0\n",
    "    feat_df[\"t_since_last_fight\"] = np.minimum(2*365, feat_df[\"t_since_last_fight\"])\n",
    "    feat_df[\"t_since_last_fight_opp\"] = np.minimum(2*365, feat_df[\"t_since_last_fight_opp\"])\n",
    "    # compute diffs (idk how i want to --- this...)\n",
    "    feat_df[\"t_since_last_fight_diff\"] = (feat_df[\"t_since_last_fight\"] - \n",
    "                                            feat_df[\"t_since_last_fight_opp\"])\n",
    "    feat_df[\"t_since_last_fight_log_diff\"] = (np.log(feat_df[\"t_since_last_fight\"]) - \n",
    "                                                np.log(feat_df[\"t_since_last_fight_opp\"]))\n",
    "    feat_df[\"total_fights_diff\"] = (feat_df[\"total_fights\"] - \n",
    "                                    feat_df[\"total_fights_opp\"])\n",
    "    feat_df[\"total_fights_sqrt_diff\"] = (np.sqrt(feat_df[\"total_fights\"]) - \n",
    "                                        np.sqrt(feat_df[\"total_fights_opp\"]))\n",
    "    feat_df[\"total_ufc_fights_diff\"] = (feat_df[\"total_ufc_fights\"] - \n",
    "                                        feat_df[\"total_ufc_fights_opp\"])\n",
    "    feat_df[\"total_ufc_fights_sqrt_diff\"] = (np.sqrt(feat_df[\"total_ufc_fights\"]) - \n",
    "                                                np.sqrt(feat_df[\"total_ufc_fights_opp\"]))\n",
    "    # feat_df[\"t_since_first_fight_diff\"] = (feat_df[\"t_since_first_fight\"] -\n",
    "    #                                         feat_df[\"t_since_first_fight_opp\"])\n",
    "    # feat_df[\"t_since_first_fight_log_diff\"] = (np.log(feat_df[\"t_since_first_fight\"]) -\n",
    "    #                                             np.log(feat_df[\"t_since_first_fight_opp\"]))\n",
    "    return feat_df\n",
    "\n",
    "simple_feat_df = _get_simple_features(feat_ml_df)\n",
    "print(simple_feat_df.shape, feat_ml_df.shape)"
   ]
  },
  {
   "cell_type": "code",
   "execution_count": 23,
   "metadata": {},
   "outputs": [
    {
     "data": {
      "text/plain": [
       "Index(['FighterName', 'OpponentName', 'FighterName_ufc', 'OpponentName_ufc',\n",
       "       'FighterName_bfo', 'OpponentName_bfo'],\n",
       "      dtype='object')"
      ]
     },
     "execution_count": 23,
     "metadata": {},
     "output_type": "execute_result"
    }
   ],
   "source": [
    "feat_ml_df.columns[feat_ml_df.columns.str.contains(\"Name\")]"
   ]
  },
  {
   "cell_type": "code",
   "execution_count": 25,
   "metadata": {},
   "outputs": [
    {
     "data": {
      "text/plain": [
       "['pred_PC_0',\n",
       " 'pred_PC_1',\n",
       " 'pred_PC_2',\n",
       " 'pred_PC_3',\n",
       " 'pred_PC_4',\n",
       " 'pred_PC_5',\n",
       " 'pred_PC_6',\n",
       " 'pred_PC_7',\n",
       " 'pred_PC_8',\n",
       " 'pred_PC_9',\n",
       " 'pred_PC_10',\n",
       " 'pred_PC_11',\n",
       " 'pred_PC_12',\n",
       " 'pred_PC_13',\n",
       " 'pred_win_target',\n",
       " 'pred_win_target_finish',\n",
       " 'age_diff',\n",
       " 'log_reach_diff',\n",
       " 'weight_diff',\n",
       " 'height_diff',\n",
       " 'log_t_since_prev_fight_diff']"
      ]
     },
     "execution_count": 25,
     "metadata": {},
     "output_type": "execute_result"
    }
   ],
   "source": [
    "feat_ml_df = feat_ml_df.merge(\n",
    "    simple_feat_df, \n",
    "    how=\"left\",\n",
    "    on=[\"FighterID_espn\", \"OpponentID_espn\", \"Date\"]\n",
    ")\n",
    "\n",
    "feat_ml_df[\"age_diff\"] = (feat_ml_df[\"DOB\"] - feat_ml_df[\"DOB_opp\"]).dt.days / 365\n",
    "feat_ml_df[\"age_diff\"] = feat_ml_df[\"age_diff\"].fillna(0)\n",
    "\n",
    "feat_ml_df[\"log_reach_diff\"] = (\n",
    "    np.log(feat_ml_df[\"ReachInches\"]) - np.log(feat_ml_df[\"ReachInches_opp\"])\n",
    ").fillna(0)\n",
    "feat_ml_df[\"weight_diff\"] = (\n",
    "    feat_ml_df[\"min_weight\"] - feat_ml_df[\"min_weight_opp\"]\n",
    ").fillna(0)\n",
    "feat_ml_df[\"height_diff\"] = (\n",
    "    feat_ml_df[\"HeightInches\"] - feat_ml_df[\"HeightInches_opp\"]\n",
    ").fillna(0)\n",
    "# feat_ml_df[\"reach_diff\"] = feat_ml_df[\"imp_reach\"] - feat_ml_df[\"imp_reach_opp\"]\n",
    "# feat_ml_df[\"log_reach_diff\"] = np.log(feat_ml_df[\"imp_reach\"]) - np.log(feat_ml_df[\"imp_reach_opp\"])\n",
    "# feat_ml_df[\"weight_diff\"] = feat_ml_df[\"imp_weight\"] - feat_ml_df[\"imp_weight_opp\"]\n",
    "# feat_ml_df[\"log_weight_diff\"] = np.log(feat_ml_df[\"imp_weight\"]) - np.log(feat_ml_df[\"imp_weight_opp\"])\n",
    "# feat_ml_df[\"height_diff\"] = feat_ml_df[\"imp_height\"] - feat_ml_df[\"imp_height_opp\"]\n",
    "\n",
    "feat_ml_df[\"t_since_first_fight_diff\"] = (\n",
    "    feat_ml_df[\"t_since_first_fight\"] - feat_ml_df[\"t_since_first_fight_opp\"]\n",
    ").fillna(0)\n",
    "feat_ml_df[\"log_t_since_first_fight_diff\"] = (\n",
    "    np.log(1 + feat_ml_df[\"t_since_first_fight\"]) - \n",
    "    np.log(1 + feat_ml_df[\"t_since_first_fight_opp\"])\n",
    ").fillna(0)\n",
    "\n",
    "feat_ml_df[\"log_t_since_prev_fight_diff\"] = (\n",
    "    np.log(1 + feat_ml_df[\"t_since_prev_fight\"]) -\n",
    "    np.log(1 + feat_ml_df[\"t_since_prev_fight_opp\"])\n",
    ").fillna(0)\n",
    "\n",
    "# money line features\n",
    "# feat_ml_df[\"ml_mvmt\"] = \n",
    "#         .str.replace(\"▼\", \"\").str.replace(\"▲\", \"\").astype(float)\n",
    "# ml_increased = feat_ml_df[\"DraftKings_fighter\"].str.endswith(\"▲\")\n",
    "# ml_decreased = feat_ml_df[\"DraftKings_fighter\"].str.endswith(\"▼\")\n",
    "# feat_ml_df[\"ml_mvmt\"] =(\n",
    "#     ml_increased.fillna(0).astype(int) - \n",
    "#     ml_decreased.fillna(0).astype(int)\n",
    "# )\n",
    "\n",
    "feat_ml_df[\"is_main_event\"] = feat_ml_df[\"fight_rank_on_card\"] == 1\n",
    "\n",
    "\n",
    "\n",
    "real_elo_target_cols = [\n",
    "#     \"fighter_result_time_left\", \n",
    "#     \"ml_logit_mvmt\",\n",
    "#     \"ordinal_fighter_result\",\n",
    "#     \"submission_fighter_result\",\n",
    "#     \"tko_ko_fighter_result\",\n",
    "#     \"decision_fighter_result\",\n",
    "    # \"finish_fighter_result\",\n",
    "    # *[col for col in stat_pca_df.columns \n",
    "    #   if col not in [\"FighterID_espn\", \"OpponentID_espn\", \"Date\"]],\n",
    "]\n",
    "\n",
    "feat_cols = [\n",
    "    *[f\"pred_PC_{i}\" for i in range(n_pca)],\n",
    "\n",
    "    *[\"pred_\"+c for c in [*diff_elo_target_cols, \n",
    "                               *real_elo_target_cols, \n",
    "                               *binary_elo_target_cols]],\n",
    "    \n",
    "    # \"t_since_last_fight_log_diff\", \n",
    "#     \"fights_per_day_diff\",\n",
    "#     \"t_since_last_fight_diff\",\n",
    "#     \"total_fights_sqrt_diff\", \n",
    "#     \"total_ufc_fights_diff\",\n",
    "    \n",
    "    \"age_diff\", \n",
    "#     \"log_age_diff\",\n",
    "#     \"reach_diff\", \n",
    "    \"log_reach_diff\",\n",
    "    \"weight_diff\", \n",
    "#     \"log_weight_diff\",\n",
    "    \"height_diff\",\n",
    "#     \"log_height_diff\",\n",
    "#     \"ml_logit_mvmt\",\n",
    "    \"log_t_since_prev_fight_diff\",\n",
    "#     \"quad_log_t_since_first_fight_diff\",\n",
    "\n",
    "    # \"ml_mvmt\",\n",
    "]\n",
    "\n",
    "# new_feat_cols = [*feat_cols, \"ml_logit\"]\n",
    "feat_cols"
   ]
  },
  {
   "cell_type": "code",
   "execution_count": 26,
   "metadata": {},
   "outputs": [
    {
     "data": {
      "text/plain": [
       "pred_PC_0                      65514\n",
       "pred_PC_1                      65514\n",
       "pred_PC_2                      65514\n",
       "pred_PC_3                      65514\n",
       "pred_PC_4                      65514\n",
       "pred_PC_5                      65514\n",
       "pred_PC_6                      65514\n",
       "pred_PC_7                      65514\n",
       "pred_PC_8                      65514\n",
       "pred_PC_9                      65514\n",
       "pred_PC_10                     65514\n",
       "pred_PC_11                     65514\n",
       "pred_PC_12                     65514\n",
       "pred_PC_13                     65514\n",
       "pred_win_target                65514\n",
       "pred_win_target_finish         65514\n",
       "age_diff                       65514\n",
       "log_reach_diff                 65514\n",
       "weight_diff                    65514\n",
       "height_diff                    65514\n",
       "log_t_since_prev_fight_diff    65514\n",
       "dtype: int64"
      ]
     },
     "execution_count": 26,
     "metadata": {},
     "output_type": "execute_result"
    }
   ],
   "source": [
    "feat_ml_df[feat_cols].notnull().sum()"
   ]
  },
  {
   "cell_type": "code",
   "execution_count": 27,
   "metadata": {},
   "outputs": [
    {
     "data": {
      "text/plain": [
       "0.9988552065207437"
      ]
     },
     "execution_count": 27,
     "metadata": {},
     "output_type": "execute_result"
    }
   ],
   "source": [
    "feat_ml_df[\"finish_fighter_result\"].notnull().mean()"
   ]
  },
  {
   "cell_type": "code",
   "execution_count": 28,
   "metadata": {},
   "outputs": [
    {
     "data": {
      "text/plain": [
       "65514"
      ]
     },
     "execution_count": 28,
     "metadata": {},
     "output_type": "execute_result"
    }
   ],
   "source": [
    "feat_ml_df[[\"pred_PC_0\", \"pred_PC_1\", \n",
    "            \"pred_win_target_finish\"]].notnull().all(1).sum()"
   ]
  },
  {
   "cell_type": "code",
   "execution_count": 29,
   "metadata": {},
   "outputs": [
    {
     "data": {
      "text/plain": [
       "65514"
      ]
     },
     "execution_count": 29,
     "metadata": {},
     "output_type": "execute_result"
    }
   ],
   "source": [
    "feat_ml_df[feat_cols].notnull().all(1).sum()"
   ]
  },
  {
   "cell_type": "code",
   "execution_count": 53,
   "metadata": {},
   "outputs": [],
   "source": [
    "from model.mma_log_reg_stan import SimpleSymmetricModel\n",
    "\n",
    "mod = SimpleSymmetricModel(feat_cols=feat_cols, target_col=\"win_target\", \n",
    "                           p_fighter_implied_col=\"FighterOpen_implied_prob\",\n",
    "                           beta_prior_std=1.0, \n",
    "                            # beta_prior_std=0.1,\n",
    "                           mcmc=False)\n",
    "# y_hat = mod.fit_predict(train_df, test_df)\n",
    "# y_hat.shape"
   ]
  },
  {
   "cell_type": "code",
   "execution_count": 54,
   "metadata": {},
   "outputs": [
    {
     "data": {
      "text/plain": [
       "Index(['p_fighter_open_implied', 'p_fighter_close_implied'], dtype='object')"
      ]
     },
     "execution_count": 54,
     "metadata": {},
     "output_type": "execute_result"
    }
   ],
   "source": [
    "feat_ml_df.columns[feat_ml_df.columns.str.contains(\"p_fighter\")]"
   ]
  },
  {
   "cell_type": "code",
   "execution_count": 55,
   "metadata": {},
   "outputs": [
    {
     "name": "stdout",
     "output_type": "stream",
     "text": [
      "training on date range: 2021-06-12 2021-06-12\n",
      "Initial log joint probability = -24.6664\n",
      "    Iter      log prob        ||dx||      ||grad||       alpha      alpha0  # evals  Notes \n",
      "      12      -1.10192    7.7003e-05   6.29302e-05           1           1       15   \n",
      "Optimization terminated normally: \n",
      "  Convergence detected: relative gradient magnitude is below tolerance\n",
      "training on date range: 2021-06-12 2021-06-19\n",
      "Initial log joint probability = -46.7059\n",
      "training on date range:    Iter      log prob        ||dx||      ||grad||       alpha      alpha0  # evals  Notes \n",
      "      17      -2.97906   3.41793e-05   6.86969e-05      0.6897      0.6897       20   \n",
      "Optimization terminated normally: \n",
      "  Convergence detected: relative gradient magnitude is below tolerance\n",
      " 2021-06-12 2021-06-26\n",
      "training on date range:Initial log joint probability = -51.4353\n",
      "    Iter      log prob        ||dx||      ||grad||       alpha      alpha0  # evals  Notes \n",
      "      19      -4.91933   7.52981e-05   0.000118051           1           1       23   \n",
      "Optimization terminated normally: \n",
      "  Convergence detected: relative gradient magnitude is below tolerance\n",
      " 2021-06-12 2021-07-10\n",
      "Initial log joint probability = -66.5442\n",
      "training on date range:    Iter      log prob        ||dx||      ||grad||       alpha      alpha0  # evals  Notes \n",
      "      19      -7.00486   0.000126536   0.000227184           1           1       23   \n",
      "    Iter      log prob        ||dx||      ||grad||       alpha      alpha0  # evals  Notes \n",
      "      20      -7.00486   8.42813e-05   0.000215454           1           1       24   \n",
      "Optimization terminated normally: \n",
      "  Convergence detected: relative gradient magnitude is below tolerance\n",
      " 2021-06-12 2021-07-17\n",
      "Initial log joint probability = -68.7214\n",
      "    Iter      log prob        ||dx||      ||grad||       alpha      alpha0  # evals  Notes \n",
      "training on date range: 2021-06-12 2021-07-24\n",
      "      19      -8.46567   0.000369463    0.00111685           1           1       22   \n",
      "    Iter      log prob        ||dx||      ||grad||       alpha      alpha0  # evals  Notes \n",
      "      23      -8.46567   5.33337e-05   0.000108085           1           1       26   \n",
      "Optimization terminated normally: \n",
      "  Convergence detected: relative gradient magnitude is below tolerance\n",
      "Initial log joint probability = -125.477\n",
      "    Iter      log prob        ||dx||      ||grad||       alpha      alpha0  # evals  Notes \n",
      "      19      -13.8152    0.00157398    0.00926292           1           1       24   \n",
      "    Iter      log prob        ||dx||      ||grad||       alpha      alpha0  # evals  Notes \n",
      "      24      -13.8152   0.000130924   0.000426928      0.4516      0.9657       30   \n",
      "Optimization terminated normally: \n",
      "  Convergence detected: relative gradient magnitude is below tolerance\n",
      "training on date range: 2021-06-12 2021-07-31\n",
      "Initial log joint probability = -80.1103\n",
      "    Iter      log prob        ||dx||      ||grad||       alpha      alpha0  # evals  Notes \n",
      "      19      -14.9242    0.00525981     0.0220306           1           1       23   \n",
      "    Iter      log prob        ||dx||      ||grad||       alpha      alpha0  # evals  Notes \n",
      "      26      -14.9242   4.18334e-05   0.000397418      0.6799      0.6799       30   \n",
      "Optimization terminated normally: \n",
      "  Convergence detected: relative gradient magnitude is below tolerance\n",
      "training on date range: 2021-06-12 2021-08-07\n",
      "Initial log joint probability = -90.3055\n",
      "    Iter      log prob        ||dx||      ||grad||       alpha      alpha0  # evals  Notes \n",
      "      19      -20.5382     0.0014098    0.00543026           1           1       22   \n",
      "    Iter      log prob        ||dx||      ||grad||       alpha      alpha0  # evals  Notes \n",
      "      25      -20.5382   8.12463e-05   0.000346642      0.7181      0.7181       28   \n",
      "Optimization terminated normally: \n",
      "  Convergence detected: relative gradient magnitude is below tolerance\n",
      "training on date range: 2021-06-12 2021-08-21\n",
      "Initial log joint probability = -112.547\n",
      "    Iter      log prob        ||dx||      ||grad||       alpha      alpha0  # evals  Notes \n",
      "      19      -23.5483    0.00151053    0.00600378           1           1       24   \n",
      "    Iter      log prob        ||dx||      ||grad||       alpha      alpha0  # evals  Notes \n",
      "      27      -23.5483   0.000151868   0.000196361           1           1       33   \n",
      "Optimization terminated normally: \n",
      "  Convergence detected: relative gradient magnitude is below tolerance\n",
      "training on date range: 2021-06-12 2021-08-28\n",
      "Initial log joint probability = -152.471\n",
      "training on date range: 2021-06-12 2021-09-04\n",
      "    Iter      log prob        ||dx||      ||grad||       alpha      alpha0  # evals  Notes \n",
      "      19      -28.4781    0.00174562    0.00971076       0.886       0.886       23   \n",
      "    Iter      log prob        ||dx||      ||grad||       alpha      alpha0  # evals  Notes \n",
      "      24      -28.4781   6.68454e-05   0.000579385      0.6586      0.6586       28   \n",
      "Optimization terminated normally: \n",
      "  Convergence detected: relative gradient magnitude is below tolerance\n",
      "Initial log joint probability = -110.651\n",
      "    Iter      log prob        ||dx||      ||grad||       alpha      alpha0  # evals  Notes \n",
      "      19      -31.6923    0.00547015      0.012948           1           1       24   \n",
      "    Iter      log prob        ||dx||      ||grad||       alpha      alpha0  # evals  Notes \n",
      "      26      -31.6923    0.00020637   0.000929334           1           1       31   \n",
      "Optimization terminated normally: \n",
      "  Convergence detected: relative gradient magnitude is below tolerance\n",
      "training on date range: 2021-06-12 2021-09-18\n",
      "Initial log joint probability = -126.268\n",
      "    Iter      log prob        ||dx||      ||grad||       alpha      alpha0  # evals  Notes \n",
      "      19      -35.6877    0.00288399     0.0273152           1           1       23   \n",
      "    Iter      log prob        ||dx||      ||grad||       alpha      alpha0  # evals  Notes \n",
      "      26      -35.6876   9.75342e-05    0.00101461      0.4876      0.4876       32   \n",
      "Optimization terminated normally: \n",
      "  Convergence detected: relative gradient magnitude is below tolerance\n",
      "training on date range: 2021-06-12 2021-09-25\n",
      "Initial log joint probability = -142.109\n",
      "    Iter      log prob        ||dx||      ||grad||       alpha      alpha0  # evals  Notes \n",
      "      19      -40.2164    0.00334721     0.0307806      0.4457           1       24   \n",
      "    Iter      log prob        ||dx||      ||grad||       alpha      alpha0  # evals  Notes \n",
      "      24      -40.2164   0.000181523   0.000838409           1           1       29   \n",
      "Optimization terminated normally: \n",
      "  Convergence detected: relative gradient magnitude is below tolerance\n",
      "training on date range: 2021-06-12 2021-10-02\n",
      "Initial log joint probability = -166.629\n",
      "    Iter      log prob        ||dx||      ||grad||       alpha      alpha0  # evals  Notes \n",
      "      19       -41.031    0.00995597     0.0238637           1           1       23   \n",
      "    Iter      log prob        ||dx||      ||grad||       alpha      alpha0  # evals  Notes \n",
      "      27      -41.0309   0.000430665   0.000644825           1           1       32   \n",
      "Optimization terminated normally: \n",
      "  Convergence detected: relative gradient magnitude is below tolerance\n",
      "training on date range: 2021-06-12 2021-10-09\n",
      "Initial log joint probability = -136.097\n",
      "    Iter      log prob        ||dx||      ||grad||       alpha      alpha0  # evals  Notes \n",
      "      19       -41.795    0.00532095     0.0234446           1           1       23   \n",
      "    Iter      log prob        ||dx||      ||grad||       alpha      alpha0  # evals  Notes \n",
      "      24      -41.7949   0.000194297   0.000872762           1           1       29   \n",
      "Optimization terminated normally: \n",
      "  Convergence detected: relative gradient magnitude is below tolerance\n",
      "training on date range: 2021-06-12 2021-10-16\n",
      "Initial log joint probability = -209.37\n",
      "    Iter      log prob        ||dx||      ||grad||       alpha      alpha0  # evals  Notes \n",
      "      19      -42.5263    0.00130447    0.00529132           1           1       24   \n",
      "    Iter      log prob        ||dx||      ||grad||       alpha      alpha0  # evals  Notes \n",
      "      24      -42.5263   5.32181e-05   0.000897214      0.6939      0.6939       29   \n",
      "Optimization terminated normally: \n",
      "  Convergence detected: relative gradient magnitude is below tolerance\n",
      "training on date range: 2021-06-12 2021-10-23\n",
      "Initial log joint probability = -149.491\n",
      "    Iter      log prob        ||dx||      ||grad||       alpha      alpha0  # evals  Notes \n",
      "      19      -46.3865    0.00100298     0.0121252           1           1       22   \n",
      "    Iter      log prob        ||dx||      ||grad||       alpha      alpha0  # evals  Notes \n",
      "      25      -46.3865   0.000164244   0.000874336           1           1       29   \n",
      "Optimization terminated normally: \n",
      "  Convergence detected: relative gradient magnitude is below tolerance\n",
      "training on date range: 2021-06-12 2021-10-30\n",
      "Initial log joint probability = -201.95\n",
      "    Iter      log prob        ||dx||      ||grad||       alpha      alpha0  # evals  Notes \n",
      "      19      -48.8053    0.00660462     0.0571363           1           1       22   \n",
      "    Iter      log prob        ||dx||      ||grad||       alpha      alpha0  # evals  Notes \n",
      "      26      -48.8052   0.000481494    0.00109657           1           1       30   \n",
      "Optimization terminated normally: \n",
      "  Convergence detected: relative gradient magnitude is below tolerance\n",
      "training on date range: 2021-06-12 2021-11-06\n",
      "Initial log joint probability = -197.986\n",
      "    Iter      log prob        ||dx||      ||grad||       alpha      alpha0  # evals  Notes \n",
      "      19      -48.9933    0.00174136     0.0649054      0.2613      0.2613       23   \n",
      "    Iter      log prob        ||dx||      ||grad||       alpha      alpha0  # evals  Notes \n",
      "      24      -48.9931   0.000173364    0.00128551      0.6795      0.6795       28   \n",
      "Optimization terminated normally: \n",
      "  Convergence detected: relative gradient magnitude is below tolerance\n",
      "training on date range: 2021-06-12 2021-11-13\n",
      "Initial log joint probability = -275.701\n",
      "    Iter      log prob        ||dx||      ||grad||       alpha      alpha0  # evals  Notes \n",
      "      19      -53.9304    0.00193675     0.0200863           1           1       22   \n",
      "    Iter      log prob        ||dx||      ||grad||       alpha      alpha0  # evals  Notes \n",
      "      27      -53.9303    0.00037215    0.00125902           1           1       30   \n",
      "Optimization terminated normally: \n",
      "  Convergence detected: relative gradient magnitude is below tolerance\n",
      "training on date range: 2021-06-12 2021-11-20\n",
      "Initial log joint probability = -256.461\n",
      "    Iter      log prob        ||dx||      ||grad||       alpha      alpha0  # evals  Notes \n",
      "      19      -54.2405    0.00534339     0.0256673           1           1       22   \n",
      "    Iter      log prob        ||dx||      ||grad||       alpha      alpha0  # evals  Notes \n",
      "      24      -54.2405   0.000132714    0.00059757           1           1       28   \n",
      "Optimization terminated normally: \n",
      "  Convergence detected: relative gradient magnitude is below tolerance\n",
      "training on date range: 2021-06-12 2021-12-04\n",
      "Initial log joint probability = -223.952\n",
      "training on date range:    Iter      log prob        ||dx||      ||grad||       alpha      alpha0  # evals  Notes \n",
      "      19      -57.4836    0.00308698     0.0387269      0.5252      0.5252       22   \n",
      "    Iter      log prob        ||dx||      ||grad||       alpha      alpha0  # evals  Notes \n",
      "      24      -57.4836   0.000100455     0.0018596      0.5404      0.5404       27   \n",
      "Optimization terminated normally: \n",
      "  Convergence detected: relative gradient magnitude is below tolerance\n",
      " 2021-06-12 2021-12-11\n",
      "Initial log joint probability = -288.618\n",
      "    Iter      log prob        ||dx||      ||grad||       alpha      alpha0  # evals  Notes \n",
      "      19      -60.9771    0.00837045     0.0362659           1           1       24   \n",
      "    Iter      log prob        ||dx||      ||grad||       alpha      alpha0  # evals  Notes \n",
      "      27       -60.977   0.000180527   0.000714381           1           1       33   \n",
      "Optimization terminated normally: \n",
      "  Convergence detected: relative gradient magnitude is below tolerance\n",
      "training on date range: 2021-06-12 2021-12-18\n",
      "Initial log joint probability = -314.803\n",
      "    Iter      log prob        ||dx||      ||grad||       alpha      alpha0  # evals  Notes \n",
      "      19      -66.5924    0.00421559     0.0133001           1           1       23   \n",
      "    Iter      log prob        ||dx||      ||grad||       alpha      alpha0  # evals  Notes \n",
      "      23      -66.5924   5.72766e-05    0.00053691      0.2651      0.9787       29   \n",
      "Optimization terminated normally: \n",
      "  Convergence detected: relative gradient magnitude is below tolerance\n",
      "training on date range: 2021-06-12 2022-01-15\n",
      "Initial log joint probability = -214.69\n",
      "    Iter      log prob        ||dx||      ||grad||       alpha      alpha0  # evals  Notes \n",
      "      19      -71.8953    0.00282595     0.0348652      0.3814           1       24   \n",
      "    Iter      log prob        ||dx||      ||grad||       alpha      alpha0  # evals  Notes \n",
      "      22      -71.8953   0.000178182       0.00194       0.935       0.935       27   \n",
      "Optimization terminated normally: \n",
      "  Convergence detected: relative gradient magnitude is below tolerance\n",
      "training on date range: 2021-06-12 2022-01-22\n",
      "Initial log joint probability = -353.619\n",
      "    Iter      log prob        ||dx||      ||grad||       alpha      alpha0  # evals  Notes \n",
      "      19      -76.1449    0.00173049     0.0359795      0.8577      0.8577       23   \n",
      "    Iter      log prob        ||dx||      ||grad||       alpha      alpha0  # evals  Notes \n",
      "      25      -76.1448   0.000143739    0.00202153      0.5085           1       30   \n",
      "Optimization terminated normally: \n",
      "  Convergence detected: relative gradient magnitude is below tolerance\n",
      "training on date range: 2021-06-12 2022-02-05\n",
      "Initial log joint probability = -260.735\n",
      "    Iter      log prob        ||dx||      ||grad||       alpha      alpha0  # evals  Notes \n",
      "      19       -78.571    0.00506633       0.21556      0.2587      0.2587       23   \n",
      "    Iter      log prob        ||dx||      ||grad||       alpha      alpha0  # evals  Notes \n",
      "      24      -78.5706   6.89641e-05   0.000833349      0.4561           1       29   \n",
      "Optimization terminated normally: \n",
      "  Convergence detected: relative gradient magnitude is below tolerance\n",
      "training on date range: 2021-06-12 2022-02-12\n",
      "Initial log joint probability = -368.643\n",
      "    Iter      log prob        ||dx||      ||grad||       alpha      alpha0  # evals  Notes \n",
      "      19      -81.8326    0.00144894     0.0235581           1           1       23   \n",
      "    Iter      log prob        ||dx||      ||grad||       alpha      alpha0  # evals  Notes \n",
      "      23      -81.8326    0.00019056    0.00196037           1           1       27   \n",
      "Optimization terminated normally: \n",
      "  Convergence detected: relative gradient magnitude is below tolerance\n",
      "training on date range: 2021-06-12 2022-02-19\n",
      "Initial log joint probability = -382.77\n",
      "    Iter      log prob        ||dx||      ||grad||       alpha      alpha0  # evals  Notes \n",
      "      19      -86.3841    0.00293887     0.0476874      0.5047      0.5047       26   \n",
      "    Iter      log prob        ||dx||      ||grad||       alpha      alpha0  # evals  Notes \n",
      "      25      -86.3841   6.23691e-05    0.00175579      0.5263      0.5263       32   \n",
      "Optimization terminated normally: \n",
      "  Convergence detected: relative gradient magnitude is below tolerance\n",
      "training on date range: 2021-06-12 2022-02-26\n",
      "Initial log joint probability = -291.878\n",
      "training on date range: 2021-06-12 2022-03-05\n",
      "    Iter      log prob        ||dx||      ||grad||       alpha      alpha0  # evals  Notes \n",
      "      19       -90.306    0.00126355     0.0116483           1           1       23   \n",
      "    Iter      log prob        ||dx||      ||grad||       alpha      alpha0  # evals  Notes \n",
      "      26       -90.306   0.000228226    0.00223741      0.8448      0.8448       30   \n",
      "Optimization terminated normally: \n",
      "  Convergence detected: relative gradient magnitude is below tolerance\n",
      "Initial log joint probability = -457.21\n",
      "    Iter      log prob        ||dx||      ||grad||       alpha      alpha0  # evals  Notes \n",
      "      19      -92.1279    0.00651233     0.0184268           1           1       24   \n",
      "    Iter      log prob        ||dx||      ||grad||       alpha      alpha0  # evals  Notes \n",
      "      22      -92.1279   0.000376674    0.00126989           1           1       28   \n",
      "Optimization terminated normally: \n",
      "  Convergence detected: relative gradient magnitude is below tolerance\n",
      "training on date range: 2021-06-12 2022-03-12\n",
      "Initial log joint probability = -251.357\n",
      "    Iter      log prob        ||dx||      ||grad||       alpha      alpha0  # evals  Notes \n",
      "      19      -100.336    0.00368455     0.0332034           1           1       23   \n",
      "    Iter      log prob        ||dx||      ||grad||       alpha      alpha0  # evals  Notes \n",
      "      23      -100.335    0.00021437    0.00403363           1           1       28   \n",
      "Optimization terminated normally: \n",
      "  Convergence detected: relative gradient magnitude is below tolerance\n",
      "training on date range: 2021-06-12 2022-03-19\n",
      "Initial log joint probability = -382.17\n",
      "    Iter      log prob        ||dx||      ||grad||       alpha      alpha0  # evals  Notes \n",
      "      19      -102.297   0.000676117      0.025692      0.3858      0.3858       25   \n",
      "    Iter      log prob        ||dx||      ||grad||       alpha      alpha0  # evals  Notes \n",
      "      23      -102.297   0.000157718    0.00128773           1           1       29   \n",
      "Optimization terminated normally: \n",
      "  Convergence detected: relative gradient magnitude is below tolerance\n",
      "training on date range: 2021-06-12 2022-03-26\n",
      "Initial log joint probability = -339.408\n",
      "    Iter      log prob        ||dx||      ||grad||       alpha      alpha0  # evals  Notes \n",
      "      19      -104.844   0.000253089     0.0186082      0.4159      0.4159       24   \n",
      "    Iter      log prob        ||dx||      ||grad||       alpha      alpha0  # evals  Notes \n",
      "      27      -104.844    0.00016114    0.00297768      0.3705      0.3705       34   \n",
      "Optimization terminated normally: \n",
      "  Convergence detected: relative gradient magnitude is below tolerance\n",
      "training on date range: 2021-06-12 2022-04-09\n",
      "Initial log joint probability = -475.86\n",
      "    Iter      log prob        ||dx||      ||grad||       alpha      alpha0  # evals  Notes \n",
      "      19      -107.537   0.000485333     0.0044183           1           1       23   \n",
      "    Iter      log prob        ||dx||      ||grad||       alpha      alpha0  # evals  Notes \n",
      "      20      -107.537   0.000148117    0.00339558      0.4886           1       25   \n",
      "Optimization terminated normally: \n",
      "  Convergence detected: relative gradient magnitude is below tolerance\n",
      "training on date range: 2021-06-12 2022-04-16\n",
      "Initial log joint probability = -379.07\n",
      "    Iter      log prob        ||dx||      ||grad||       alpha      alpha0  # evals  Notes \n",
      "      19      -108.943    0.00154313     0.0219794      0.7106      0.7106       22   \n",
      "    Iter      log prob        ||dx||      ||grad||       alpha      alpha0  # evals  Notes \n",
      "      22      -108.943   0.000246158     0.0018901           1           1       25   \n",
      "Optimization terminated normally: \n",
      "  Convergence detected: relative gradient magnitude is below tolerance\n",
      "training on date range: 2021-06-12 2022-04-23\n",
      "Initial log joint probability = -429.344\n",
      "    Iter      log prob        ||dx||      ||grad||       alpha      alpha0  # evals  Notes \n",
      "      19      -112.775    0.00213907     0.0245355           1           1       23   \n",
      "    Iter      log prob        ||dx||      ||grad||       alpha      alpha0  # evals  Notes \n",
      "      22      -112.775    0.00015988    0.00130896           1           1       26   \n",
      "Optimization terminated normally: \n",
      "  Convergence detected: relative gradient magnitude is below tolerance\n",
      "training on date range: 2021-06-12 2022-04-30\n",
      "Initial log joint probability = -341.974\n",
      "    Iter      log prob        ||dx||      ||grad||       alpha      alpha0  # evals  Notes \n",
      "      19      -115.888    0.00228172     0.0120136      0.6776      0.6776       22   \n",
      "    Iter      log prob        ||dx||      ||grad||       alpha      alpha0  # evals  Notes \n",
      "      21      -115.888   0.000191535    0.00372644      0.7258      0.7258       24   \n",
      "Optimization terminated normally: \n",
      "  Convergence detected: relative gradient magnitude is below tolerance\n",
      "training on date range: 2021-06-12 2022-05-07\n",
      "Initial log joint probability = -490.798\n",
      "    Iter      log prob        ||dx||      ||grad||       alpha      alpha0  # evals  Notes \n",
      "      19      -119.164    0.00105947    0.00738247           1           1       22   \n",
      "    Iter      log prob        ||dx||      ||grad||       alpha      alpha0  # evals  Notes \n",
      "      23      -119.164   0.000484845    0.00136017           1           1       27   \n",
      "Optimization terminated normally: \n",
      "  Convergence detected: relative gradient magnitude is below tolerance\n",
      "training on date range: 2021-06-12 2022-05-14\n",
      "Initial log joint probability = -408.523\n",
      "    Iter      log prob        ||dx||      ||grad||       alpha      alpha0  # evals  Notes \n",
      "      19      -122.771   0.000512008     0.0101908           1           1       22   \n",
      "    Iter      log prob        ||dx||      ||grad||       alpha      alpha0  # evals  Notes \n",
      "      21      -122.771   0.000329923    0.00241376           1           1       24   \n",
      "Optimization terminated normally: \n",
      "  Convergence detected: relative gradient magnitude is below tolerance\n",
      "training on date range: 2021-06-12 2022-05-21\n",
      "Initial log joint probability = -475.907\n",
      "    Iter      log prob        ||dx||      ||grad||       alpha      alpha0  # evals  Notes \n",
      "      19      -123.606   0.000798756     0.0264858           1           1       23   \n",
      "    Iter      log prob        ||dx||      ||grad||       alpha      alpha0  # evals  Notes \n",
      "      26      -123.606   0.000365652    0.00181729           1           1       31   \n",
      "Optimization terminated normally: \n",
      "  Convergence detected: relative gradient magnitude is below tolerance\n",
      "training on date range: 2021-06-12 2022-06-04\n",
      "Initial log joint probability = -436.202\n",
      "    Iter      log prob        ||dx||      ||grad||       alpha      alpha0  # evals  Notes \n",
      "      19      -125.562    0.00123367     0.0146053           1           1       23   \n",
      "    Iter      log prob        ||dx||      ||grad||       alpha      alpha0  # evals  Notes \n",
      "      21      -125.562   7.34479e-05    0.00243846      0.9937      0.9937       25   \n",
      "Optimization terminated normally: \n",
      "  Convergence detected: relative gradient magnitude is below tolerance\n",
      "training on date range: 2021-06-12 2022-06-11\n",
      "Initial log joint probability = -611.436\n",
      "    Iter      log prob        ||dx||      ||grad||       alpha      alpha0  # evals  Notes \n",
      "      19      -129.616    0.00426952      0.178629      0.3689      0.3689       24   \n",
      "    Iter      log prob        ||dx||      ||grad||       alpha      alpha0  # evals  Notes \n",
      "      26      -129.615   0.000124319    0.00282068      0.8233      0.8233       31   \n",
      "Optimization terminated normally: \n",
      "  Convergence detected: relative gradient magnitude is below tolerance\n",
      "training on date range: 2021-06-12 2022-06-18\n",
      "Initial log joint probability = -467.584\n",
      "    Iter      log prob        ||dx||      ||grad||       alpha      alpha0  # evals  Notes \n",
      "      19      -133.342    0.00479531     0.0585139           1           1       22   \n",
      "    Iter      log prob        ||dx||      ||grad||       alpha      alpha0  # evals  Notes \n",
      "      26      -133.342   5.03053e-05    0.00157801      0.3133           1       32   \n",
      "Optimization terminated normally: \n",
      "  Convergence detected: relative gradient magnitude is below tolerance\n",
      "training on date range: 2021-06-12 2022-06-25\n",
      "Initial log joint probability = -590.784\n",
      "    Iter      log prob        ||dx||      ||grad||       alpha      alpha0  # evals  Notes \n",
      "      19      -137.604    0.00228637     0.0316426           1           1       24   \n",
      "    Iter      log prob        ||dx||      ||grad||       alpha      alpha0  # evals  Notes \n",
      "      23      -137.604   0.000154951    0.00230326      0.9861      0.9861       28   \n",
      "Optimization terminated normally: \n",
      "  Convergence detected: relative gradient magnitude is below tolerance\n",
      "training on date range: 2021-06-12 2022-07-02\n",
      "Initial log joint probability = -530.79\n",
      "    Iter      log prob        ||dx||      ||grad||       alpha      alpha0  # evals  Notes \n",
      "      19      -140.098    0.00141187     0.0171665           1           1       22   \n",
      "    Iter      log prob        ||dx||      ||grad||       alpha      alpha0  # evals  Notes \n",
      "      22      -140.098    0.00011602    0.00248942      0.6527      0.6527       25   \n",
      "Optimization terminated normally: \n",
      "  Convergence detected: relative gradient magnitude is below tolerance\n",
      "training on date range: 2021-06-12 2022-07-09\n",
      "Initial log joint probability = -538.458\n",
      "    Iter      log prob        ||dx||      ||grad||       alpha      alpha0  # evals  Notes \n",
      "      19      -145.354    0.00344716     0.0322788           1           1       22   \n",
      "    Iter      log prob        ||dx||      ||grad||       alpha      alpha0  # evals  Notes \n",
      "      22      -145.354   0.000252411    0.00236076           1           1       25   \n",
      "Optimization terminated normally: \n",
      "  Convergence detected: relative gradient magnitude is below tolerance\n",
      "training on date range: 2021-06-12 2022-07-16\n",
      "Initial log joint probability = -436.146\n",
      "    Iter      log prob        ||dx||      ||grad||       alpha      alpha0  # evals  Notes \n",
      "      19      -148.574     0.0020498     0.0118444           1           1       24   \n",
      "    Iter      log prob        ||dx||      ||grad||       alpha      alpha0  # evals  Notes \n",
      "      21      -148.574   0.000392084    0.00381211           1           1       26   \n",
      "Optimization terminated normally: \n",
      "  Convergence detected: relative gradient magnitude is below tolerance\n",
      "training on date range: 2021-06-12 2022-07-23\n",
      "Initial log joint probability = -583.427\n",
      "    Iter      log prob        ||dx||      ||grad||       alpha      alpha0  # evals  Notes \n",
      "      19       -150.98   0.000953463     0.0344503           1           1       23   \n",
      "    Iter      log prob        ||dx||      ||grad||       alpha      alpha0  # evals  Notes \n",
      "      23       -150.98   0.000151151    0.00225687           1           1       27   \n",
      "Optimization terminated normally: \n",
      "  Convergence detected: relative gradient magnitude is below tolerance\n",
      "training on date range: 2021-06-12 2022-07-30\n",
      "Initial log joint probability = -605.136\n",
      "    Iter      log prob        ||dx||      ||grad||       alpha      alpha0  # evals  Notes \n",
      "      19      -154.752    0.00648719     0.0233886           1           1       22   \n",
      "    Iter      log prob        ||dx||      ||grad||       alpha      alpha0  # evals  Notes \n",
      "      22      -154.752    0.00023987    0.00227105      0.4553      0.9703       26   \n",
      "Optimization terminated normally: \n",
      "  Convergence detected: relative gradient magnitude is below tolerance\n",
      "training on date range: 2021-06-12 2022-08-06\n",
      "Initial log joint probability = -581.686\n",
      "training on date range:    Iter      log prob        ||dx||      ||grad||       alpha      alpha0  # evals  Notes \n",
      "      19      -157.605    0.00520507     0.0666106           1           1       24   \n",
      "    Iter      log prob        ||dx||      ||grad||       alpha      alpha0  # evals  Notes \n",
      "      27      -157.605   0.000116958    0.00245292           1           1       33   \n",
      "Optimization terminated normally: \n",
      "  Convergence detected: relative gradient magnitude is below tolerance\n",
      " 2021-06-12 2022-08-13\n",
      "Initial log joint probability = -498.437\n",
      "training on date range:    Iter      log prob        ||dx||      ||grad||       alpha      alpha0  # evals  Notes \n",
      "      19      -162.303    0.00177559     0.0298747           1           1       22   \n",
      "    Iter      log prob        ||dx||      ||grad||       alpha      alpha0  # evals  Notes \n",
      "      25      -162.303   0.000196478    0.00470356      0.7431      0.7431       28   \n",
      "Optimization terminated normally: \n",
      "  Convergence detected: relative gradient magnitude is below tolerance\n",
      " 2021-06-12 2022-08-20\n",
      "Initial log joint probability = -607.011\n",
      "    Iter      log prob        ||dx||      ||grad||       alpha      alpha0  # evals  Notes \n",
      "      19      -167.993   0.000659496     0.0187468           1           1       22   \n",
      "    Iter      log prob        ||dx||      ||grad||       alpha      alpha0  # evals  Notes \n",
      "      21      -167.993   0.000129773    0.00165992           1           1       24   \n",
      "Optimization terminated normally: \n",
      "  Convergence detected: relative gradient magnitude is below tolerance\n",
      "training on date range: 2021-06-12 2022-09-03\n",
      "Initial log joint probability = -675.378\n",
      "    Iter      log prob        ||dx||      ||grad||       alpha      alpha0  # evals  Notes \n",
      "      19      -170.453    0.00331543     0.0415693           1           1       22   \n",
      "    Iter      log prob        ||dx||      ||grad||       alpha      alpha0  # evals  Notes \n",
      "      22      -170.453   0.000217856    0.00296072           1           1       25   \n",
      "Optimization terminated normally: \n",
      "  Convergence detected: relative gradient magnitude is below tolerance\n",
      "training on date range: 2021-06-12 2022-09-10\n",
      "Initial log joint probability = -517.244\n",
      "    Iter      log prob        ||dx||      ||grad||       alpha      alpha0  # evals  Notes \n",
      "      19      -178.896    0.00189933     0.0314576           1           1       23   \n",
      "    Iter      log prob        ||dx||      ||grad||       alpha      alpha0  # evals  Notes \n",
      "      23      -178.896   7.67658e-05    0.00295785      0.6483      0.6483       27   \n",
      "Optimization terminated normally: \n",
      "  Convergence detected: relative gradient magnitude is below tolerance\n",
      "training on date range: 2021-06-12 2022-09-17\n",
      "Initial log joint probability = -785.901\n",
      "    Iter      log prob        ||dx||      ||grad||       alpha      alpha0  # evals  Notes \n",
      "      19       -183.05    0.00176798     0.0287376           1           1       22   \n",
      "    Iter      log prob        ||dx||      ||grad||       alpha      alpha0  # evals  Notes \n",
      "      22       -183.05   0.000104931    0.00210893           1           1       25   \n",
      "Optimization terminated normally: \n",
      "  Convergence detected: relative gradient magnitude is below tolerance\n",
      "training on date range: 2021-06-12 2022-10-01\n",
      "Initial log joint probability = -650.022\n",
      "    Iter      log prob        ||dx||      ||grad||       alpha      alpha0  # evals  Notes \n",
      "      19      -185.995   0.000887084     0.0112639           1           1       25   \n",
      "    Iter      log prob        ||dx||      ||grad||       alpha      alpha0  # evals  Notes \n",
      "      22      -185.995   0.000190553    0.00387358      0.9712      0.9712       28   \n",
      "Optimization terminated normally: \n",
      "  Convergence detected: relative gradient magnitude is below tolerance\n",
      "training on date range: 2021-06-12 2022-10-15\n",
      "Initial log joint probability = -553.273\n",
      "    Iter      log prob        ||dx||      ||grad||       alpha      alpha0  # evals  Notes \n",
      "      19      -189.633   0.000617141     0.0202922           1           1       23   \n",
      "    Iter      log prob        ||dx||      ||grad||       alpha      alpha0  # evals  Notes \n",
      "      22      -189.633   0.000140545    0.00575596           1           1       26   \n",
      "Optimization terminated normally: \n",
      "  Convergence detected: relative gradient magnitude is below tolerance\n",
      "training on date range: 2021-06-12 2022-10-22\n",
      "Initial log joint probability = -722.816\n",
      "    Iter      log prob        ||dx||      ||grad||       alpha      alpha0  # evals  Notes \n",
      "      19      -192.485   0.000611308     0.0159358           1           1       25   \n",
      "    Iter      log prob        ||dx||      ||grad||       alpha      alpha0  # evals  Notes \n",
      "      21      -192.485   0.000296523    0.00427615      0.8249      0.8249       27   \n",
      "Optimization terminated normally: \n",
      "  Convergence detected: relative gradient magnitude is below tolerance\n",
      "training on date range: 2021-06-12 2022-10-29\n",
      "Initial log joint probability = -816.228\n",
      "    Iter      log prob        ||dx||      ||grad||       alpha      alpha0  # evals  Notes \n",
      "      19      -195.486    0.00114707     0.0503073      0.5754      0.5754       22   \n",
      "    Iter      log prob        ||dx||      ||grad||       alpha      alpha0  # evals  Notes \n",
      "      22      -195.486   0.000159473    0.00132651           1           1       25   \n",
      "Optimization terminated normally: \n",
      "  Convergence detected: relative gradient magnitude is below tolerance\n",
      "training on date range: 2021-06-12 2022-11-05\n",
      "Initial log joint probability = -597.965\n",
      "    Iter      log prob        ||dx||      ||grad||       alpha      alpha0  # evals  Notes \n",
      "      19      -199.503   0.000702576     0.0216877      0.8483      0.8483       22   \n",
      "    Iter      log prob        ||dx||      ||grad||       alpha      alpha0  # evals  Notes \n",
      "      21      -199.503   0.000162176    0.00419568           1           1       24   \n",
      "Optimization terminated normally: \n",
      "  Convergence detected: relative gradient magnitude is below tolerance\n",
      "training on date range: 2021-06-12 2022-11-12\n",
      "Initial log joint probability = -588.801\n",
      "    Iter      log prob        ||dx||      ||grad||       alpha      alpha0  # evals  Notes \n",
      "      19      -201.659   0.000160259     0.0159592      0.4318      0.4318       23   \n",
      "    Iter      log prob        ||dx||      ||grad||       alpha      alpha0  # evals  Notes \n",
      "      21      -201.659   0.000222288    0.00694919           1           1       25   \n",
      "Optimization terminated normally: \n",
      "  Convergence detected: relative gradient magnitude is below tolerance\n",
      "training on date range: 2021-06-12 2022-11-19\n",
      "Initial log joint probability = -736.916\n",
      "    Iter      log prob        ||dx||      ||grad||       alpha      alpha0  # evals  Notes \n",
      "      19      -204.943   0.000700892     0.0131578           1           1       23   \n",
      "    Iter      log prob        ||dx||      ||grad||       alpha      alpha0  # evals  Notes \n",
      "      20      -204.943   0.000169296    0.00424065      0.8511      0.8511       24   \n",
      "Optimization terminated normally: \n",
      "  Convergence detected: relative gradient magnitude is below tolerance\n",
      "training on date range: 2021-06-12 2022-12-03\n",
      "Initial log joint probability = -645.97\n",
      "    Iter      log prob        ||dx||      ||grad||       alpha      alpha0  # evals  Notes \n",
      "      19      -208.859    0.00416773     0.0309703           1           1       23   \n",
      "    Iter      log prob        ||dx||      ||grad||       alpha      alpha0  # evals  Notes \n",
      "      22      -208.859   0.000550193     0.0043488           1           1       27   \n",
      "Optimization terminated normally: \n",
      "  Convergence detected: relative gradient magnitude is below tolerance\n",
      "training on date range: 2021-06-12 2022-12-10\n",
      "Initial log joint probability = -667.748\n",
      "    Iter      log prob        ||dx||      ||grad||       alpha      alpha0  # evals  Notes \n",
      "      19      -211.432    0.00509884      0.130219           1           1       23   \n",
      "    Iter      log prob        ||dx||      ||grad||       alpha      alpha0  # evals  Notes \n",
      "      22      -211.432   0.000146353    0.00383631           1           1       26   \n",
      "Optimization terminated normally: \n",
      "  Convergence detected: relative gradient magnitude is below tolerance\n",
      "training on date range: 2021-06-12 2022-12-17\n",
      "Initial log joint probability = -578.528\n",
      "    Iter      log prob        ||dx||      ||grad||       alpha      alpha0  # evals  Notes \n",
      "      19      -215.127   0.000645435     0.0110078           1           1       22   \n",
      "    Iter      log prob        ||dx||      ||grad||       alpha      alpha0  # evals  Notes \n",
      "      24      -215.127    0.00019186    0.00500538      0.3744           1       28   \n",
      "Optimization terminated normally: \n",
      "  Convergence detected: relative gradient magnitude is below tolerance\n",
      "training on date range: 2021-06-12 2023-01-14\n",
      "Initial log joint probability = -647.352\n",
      "    Iter      log prob        ||dx||      ||grad||       alpha      alpha0  # evals  Notes \n",
      "      19      -217.281   0.000474661     0.0205589           1           1       23   \n",
      "    Iter      log prob        ||dx||      ||grad||       alpha      alpha0  # evals  Notes \n",
      "      26      -217.281   0.000295849    0.00699197      0.3419           1       31   \n",
      "Optimization terminated normally: \n",
      "  Convergence detected: relative gradient magnitude is below tolerance\n"
     ]
    }
   ],
   "source": [
    "from model_selection.cross_val_pipeline import TimeSeriesCrossVal\n",
    "\n",
    "tscv = TimeSeriesCrossVal(min_test_date=pd.to_datetime(\"2021-01-01\"), \n",
    "                          n_dates_per_fold=1, \n",
    "                          p_fighter_implied_col=\"FighterOpen_implied_prob\")\n",
    "preds_df = tscv.get_cross_val_preds(\n",
    "    mod, \n",
    "    feat_ml_df.dropna(subset=[\n",
    "        *feat_cols, \"win_target\", \"FighterOpen_implied_prob\"\n",
    "    ]).query(\"is_ufc == 1\")\n",
    ")"
   ]
  },
  {
   "cell_type": "code",
   "execution_count": 56,
   "metadata": {},
   "outputs": [
    {
     "data": {
      "text/plain": [
       "0.6022408963585434"
      ]
     },
     "execution_count": 56,
     "metadata": {},
     "output_type": "execute_result"
    }
   ],
   "source": [
    "(preds_df[\"y_pred\"].round() == preds_df[\"win_target\"]).mean()"
   ]
  },
  {
   "cell_type": "code",
   "execution_count": 57,
   "metadata": {},
   "outputs": [
    {
     "data": {
      "text/plain": [
       "0.6610644257703081"
      ]
     },
     "execution_count": 57,
     "metadata": {},
     "output_type": "execute_result"
    }
   ],
   "source": [
    "(preds_df[\"FighterOpen_implied_prob\"].round() == preds_df[\"win_target\"]).mean()"
   ]
  },
  {
   "cell_type": "code",
   "execution_count": 58,
   "metadata": {},
   "outputs": [
    {
     "name": "stdout",
     "output_type": "stream",
     "text": [
      "model log loss: 0.7741235551608493\n",
      "opening money line log loss: 0.6245161633583421\n"
     ]
    }
   ],
   "source": [
    "from sklearn.metrics import log_loss\n",
    "\n",
    "xce = log_loss(y_true=preds_df[\"win_target\"], y_pred=preds_df[\"y_pred\"])\n",
    "xce_ml = log_loss(y_true=preds_df[\"win_target\"], y_pred=preds_df[\"FighterOpen_implied_prob\"])\n",
    "\n",
    "print(f\"model log loss: {xce}\")\n",
    "print(f\"opening money line log loss: {xce_ml}\")"
   ]
  },
  {
   "cell_type": "code",
   "execution_count": 59,
   "metadata": {},
   "outputs": [],
   "source": [
    "preds_df[\"week\"] = preds_df[\"Date\"].dt.isocalendar().week"
   ]
  },
  {
   "cell_type": "code",
   "execution_count": 60,
   "metadata": {},
   "outputs": [
    {
     "name": "stdout",
     "output_type": "stream",
     "text": [
      "overall winnings\n"
     ]
    },
    {
     "data": {
      "image/png": "[encoded data removed]",
      "text/plain": [
       "<Figure size 432x288 with 1 Axes>"
      ]
     },
     "metadata": {
      "needs_background": "light"
     },
     "output_type": "display_data"
    },
    {
     "name": "stdout",
     "output_type": "stream",
     "text": [
      "ufc winnings\n"
     ]
    },
    {
     "data": {
      "image/png": "[encoded data removed]",
      "text/plain": [
       "<Figure size 432x288 with 1 Axes>"
      ]
     },
     "metadata": {
      "needs_background": "light"
     },
     "output_type": "display_data"
    }
   ],
   "source": [
    "from model_selection.metrics import MultiKellyPM\n",
    "\n",
    "def plot_pm_dk(preds_df):\n",
    "    pm = MultiKellyPM(\n",
    "        preds_df, max_bankroll_fraction=1, groupby_col=\"week\",\n",
    "        fighter_ml_col=\"open_fighter_american_odds\",\n",
    "        opponent_ml_col=\"open_opponent_american_odds\",\n",
    "    )\n",
    "    event_return_df = pm.get_all_returns()\n",
    "    pm.plot_diagnostics(event_return_df, x_col=\"week\")\n",
    "    return event_return_df\n",
    "\n",
    "print(\"overall winnings\")\n",
    "overall_return_df = plot_pm_dk(preds_df)\n",
    "\n",
    "print(\"ufc winnings\")\n",
    "ufc_return_df = plot_pm_dk(preds_df.query(\"is_ufc == 1\"))\n",
    "\n",
    "# print(\"non-ufc winnings\")\n",
    "# non_ufc_return_df = plot_pm_dk(preds_df.query(\"is_ufc == 0\"))"
   ]
  },
  {
   "cell_type": "code",
   "execution_count": 61,
   "metadata": {},
   "outputs": [],
   "source": [
    "# feat_ml_df.loc[feat_ml_df[\"pred_PC_0\"].notnull(), \n",
    "#                \"finish_fighter_result\"].isnull().mean()"
   ]
  },
  {
   "cell_type": "code",
   "execution_count": 62,
   "metadata": {},
   "outputs": [
    {
     "data": {
      "text/plain": [
       "{'pred_PC_0': 0.014396668290267567,\n",
       " 'pred_PC_1': -0.025315110742551085,\n",
       " 'pred_PC_2': -0.06786833271153284,\n",
       " 'pred_PC_3': 0.04128268490717088,\n",
       " 'pred_PC_4': 0.08354516312598564,\n",
       " 'pred_PC_5': -0.09033507453186651,\n",
       " 'pred_PC_6': -0.12754687687516647,\n",
       " 'pred_PC_7': -0.009118870656185846,\n",
       " 'pred_PC_8': -0.017724225490500723,\n",
       " 'pred_PC_9': 0.024839209983061456,\n",
       " 'pred_PC_10': -0.009538367976719428,\n",
       " 'pred_PC_11': -0.040493663770113146,\n",
       " 'pred_PC_12': 0.089630807344063,\n",
       " 'pred_PC_13': -0.2570154666434484,\n",
       " 'pred_win_target': -0.05626139122332623,\n",
       " 'pred_win_target_finish': -0.05754375931772635,\n",
       " 'age_diff': 0.03034481278545457,\n",
       " 'log_reach_diff': 0.28060806757805534,\n",
       " 'weight_diff': -0.05891439868242849,\n",
       " 'height_diff': -0.12227538085553948,\n",
       " 'log_t_since_prev_fight_diff': 0.12696485450106546}"
      ]
     },
     "execution_count": 62,
     "metadata": {},
     "output_type": "execute_result"
    }
   ],
   "source": [
    "dict(zip(feat_cols, mod.fit[\"beta\"]))"
   ]
  },
  {
   "cell_type": "code",
   "execution_count": 63,
   "metadata": {},
   "outputs": [],
   "source": [
    "# preds_df[[\"y_pred\", \"win_target\"]]\n"
   ]
  },
  {
   "cell_type": "code",
   "execution_count": 64,
   "metadata": {},
   "outputs": [
    {
     "data": {
      "text/plain": [
       "0.6918767507002801"
      ]
     },
     "execution_count": 64,
     "metadata": {},
     "output_type": "execute_result"
    }
   ],
   "source": [
    "preds_df[\"Event\"].str.lower().str.contains(\"fight night\").mean()"
   ]
  },
  {
   "cell_type": "code",
   "execution_count": 65,
   "metadata": {},
   "outputs": [],
   "source": [
    "preds_df[\"event_contains_title_fight\"] = preds_df[\"Event\"].str.lower().str.contains(\"title fight\")"
   ]
  },
  {
   "cell_type": "code",
   "execution_count": 66,
   "metadata": {},
   "outputs": [
    {
     "data": {
      "text/plain": [
       "Index(['is_title_fight', 'event_contains_title_fight'], dtype='object')"
      ]
     },
     "execution_count": 66,
     "metadata": {},
     "output_type": "execute_result"
    }
   ],
   "source": [
    "preds_df.columns[preds_df.columns.str.contains(\"title\")]"
   ]
  },
  {
   "cell_type": "code",
   "execution_count": 67,
   "metadata": {},
   "outputs": [
    {
     "data": {
      "image/png": "[encoded data removed]",
      "text/plain": [
       "<Figure size 432x288 with 1 Axes>"
      ]
     },
     "metadata": {
      "needs_background": "light"
     },
     "output_type": "display_data"
    },
    {
     "data": {
      "image/png": "[encoded data removed]",
      "text/plain": [
       "<Figure size 432x288 with 1 Axes>"
      ]
     },
     "metadata": {
      "needs_background": "light"
     },
     "output_type": "display_data"
    }
   ],
   "source": [
    "title_fight_return_df = plot_pm_dk(\n",
    "    preds_df.query(\"is_title_fight == 1\")\n",
    ")\n",
    "\n",
    "non_title_fight_return_df = plot_pm_dk(\n",
    "    preds_df.query(\"is_title_fight == 0\")\n",
    ")"
   ]
  },
  {
   "cell_type": "code",
   "execution_count": 68,
   "metadata": {},
   "outputs": [
    {
     "data": {
      "image/png": "[encoded data removed]",
      "text/plain": [
       "<Figure size 432x288 with 1 Axes>"
      ]
     },
     "metadata": {
      "needs_background": "light"
     },
     "output_type": "display_data"
    }
   ],
   "source": [
    "fight_night_return_df = plot_pm_dk(\n",
    "    preds_df.query(\"Event.str.lower().str.contains('fight night')\")\n",
    ")"
   ]
  },
  {
   "cell_type": "code",
   "execution_count": 69,
   "metadata": {},
   "outputs": [
    {
     "data": {
      "image/png": "[encoded data removed]",
      "text/plain": [
       "<Figure size 432x288 with 1 Axes>"
      ]
     },
     "metadata": {
      "needs_background": "light"
     },
     "output_type": "display_data"
    }
   ],
   "source": [
    "# so far, this is my best realistic performance\n",
    "undercard_return_df = plot_pm_dk(\n",
    "    preds_df.query(\"fight_rank_on_card >= 5 & is_ufc == 1\")\n",
    ")"
   ]
  },
  {
   "cell_type": "code",
   "execution_count": 70,
   "metadata": {},
   "outputs": [
    {
     "data": {
      "text/plain": [
       "-2.5257220631543023"
      ]
     },
     "execution_count": 70,
     "metadata": {},
     "output_type": "execute_result"
    }
   ],
   "source": [
    "# sharpe ratio\n",
    "undercard_return_df[\"return\"].mean() / (undercard_return_df[\"return\"].std() / np.sqrt(40))"
   ]
  },
  {
   "cell_type": "code",
   "execution_count": 71,
   "metadata": {},
   "outputs": [],
   "source": [
    "# # preds_df[\"fight_rank_on_card\"]\n",
    "# for i, grp in preds_df.groupby(\"fight_rank_on_card\"):\n",
    "#     # print(i, (grp[\"y_pred\"].round() == grp[\"win_target\"]).mean())\n",
    "#     print(i, log_loss(\n",
    "#         y_true=grp[\"win_target\"], y_pred=grp[\"y_pred\"]\n",
    "#     ))\n",
    "#     # plot_pm_dk(grp)"
   ]
  },
  {
   "cell_type": "code",
   "execution_count": 72,
   "metadata": {},
   "outputs": [
    {
     "data": {
      "text/plain": [
       "0.7741235551608493"
      ]
     },
     "execution_count": 72,
     "metadata": {},
     "output_type": "execute_result"
    }
   ],
   "source": [
    "log_loss(y_true=preds_df[\"win_target\"], y_pred=preds_df[\"y_pred\"])"
   ]
  },
  {
   "cell_type": "code",
   "execution_count": null,
   "metadata": {},
   "outputs": [],
   "source": []
  }
 ],
 "metadata": {
  "kernelspec": {
   "display_name": "sports_pystan2",
   "language": "python",
   "name": "python3"
  },
  "language_info": {
   "codemirror_mode": {
    "name": "ipython",
    "version": 3
   },
   "file_extension": ".py",
   "mimetype": "text/x-python",
   "name": "python",
   "nbconvert_exporter": "python",
   "pygments_lexer": "ipython3",
   "version": "3.9.12"
  },
  "orig_nbformat": 4,
  "vscode": {
   "interpreter": {
    "hash": "2a237f2fbfa4eeeaf420965c4b3f40ac3440be1ed8d868d43cc135fc4be38fee"
   }
  }
 },
 "nbformat": 4,
 "nbformat_minor": 2
}
