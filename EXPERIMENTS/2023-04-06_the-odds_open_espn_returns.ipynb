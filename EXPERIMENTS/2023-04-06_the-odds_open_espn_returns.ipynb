{
 "cells": [
  {
   "cell_type": "code",
   "execution_count": 64,
   "metadata": {},
   "outputs": [],
   "source": [
    "import sys\n",
    "sys.path.append('/Users/john/play/sports/') # add parent directory to path"
   ]
  },
  {
   "cell_type": "code",
   "execution_count": 65,
   "metadata": {},
   "outputs": [],
   "source": [
    "from wrangle.join_datasets import load_the_historical_odds_df, join_the_odds_espn\n",
    "import pandas as pd\n",
    "import numpy as np\n",
    "from db import base_db_interface"
   ]
  },
  {
   "cell_type": "code",
   "execution_count": 66,
   "metadata": {},
   "outputs": [
    {
     "data": {
      "text/plain": [
       "Index(['FighterName', 'OpponentName', 'bookmaker_name', 'market_name',\n",
       "       'commence_time', 'open_timestamp', 'home_team', 'away_team',\n",
       "       'open_fighter_decimal_odds', 'open_opponent_decimal_odds',\n",
       "       'close_timestamp', 'close_fighter_decimal_odds',\n",
       "       'close_opponent_decimal_odds', 'FighterID', 'OpponentID', 'Date'],\n",
       "      dtype='object')"
      ]
     },
     "execution_count": 66,
     "metadata": {},
     "output_type": "execute_result"
    }
   ],
   "source": [
    "load_the_historical_odds_df().columns"
   ]
  },
  {
   "cell_type": "code",
   "execution_count": 109,
   "metadata": {},
   "outputs": [
    {
     "name": "stdout",
     "output_type": "stream",
     "text": [
      "load bfo_espn_ufc_features\n",
      "(65514, 248)\n",
      "load the_odds_df\n",
      "load the_odds_to_espn_map\n",
      "loading espn data\n",
      "loading the-odds data\n",
      "iteration 0 of 20. map has size 930 fighters mapped\n",
      "frontier of map has size 29 fights\n",
      "iteration 1 of 20. map has size 954 fighters mapped\n",
      "frontier of map has size 2 fights\n",
      "iteration 2 of 20. map has size 956 fighters mapped\n",
      "frontier of map has size 0 fights\n",
      "no more fights in frontier to add to map. map has size                       956 fighters mapped.                       154 fights left unaccounted for.\n",
      "okay, now we finally include tournament fights\n",
      "iteration 0 of 20. map has size 956 fighters mapped\n",
      "iteration 1 of 20. map has size 1012 fighters mapped\n",
      "iteration 2 of 20. map has size 1024 fighters mapped\n",
      "no more fights to map. map has size                       1024 fighters mapped.                       92 fights left unaccounted for.\n",
      "merge the_odds_to_espn_map with the_odds_df\n",
      "(762, 22) (65514, 248)\n",
      "merge the_odds_df with bfo_espn_ufc_features\n",
      "(65514, 263)\n"
     ]
    },
    {
     "data": {
      "text/html": [
       "<div>\n",
       "<style scoped>\n",
       "    .dataframe tbody tr th:only-of-type {\n",
       "        vertical-align: middle;\n",
       "    }\n",
       "\n",
       "    .dataframe tbody tr th {\n",
       "        vertical-align: top;\n",
       "    }\n",
       "\n",
       "    .dataframe thead th {\n",
       "        text-align: right;\n",
       "    }\n",
       "</style>\n",
       "<table border=\"1\" class=\"dataframe\">\n",
       "  <thead>\n",
       "    <tr style=\"text-align: right;\">\n",
       "      <th></th>\n",
       "      <th>fight_id</th>\n",
       "      <th>Date</th>\n",
       "      <th>FighterResult</th>\n",
       "      <th>Decision</th>\n",
       "      <th>Rnd</th>\n",
       "      <th>Time</th>\n",
       "      <th>Event</th>\n",
       "      <th>OpponentID_espn</th>\n",
       "      <th>FighterID_espn</th>\n",
       "      <th>TSL</th>\n",
       "      <th>...</th>\n",
       "      <th>home_team</th>\n",
       "      <th>away_team</th>\n",
       "      <th>open_fighter_decimal_odds</th>\n",
       "      <th>open_opponent_decimal_odds</th>\n",
       "      <th>close_timestamp</th>\n",
       "      <th>close_fighter_decimal_odds</th>\n",
       "      <th>close_opponent_decimal_odds</th>\n",
       "      <th>FighterID_the_odds</th>\n",
       "      <th>OpponentID_the_odds</th>\n",
       "      <th>Date_the_odds</th>\n",
       "    </tr>\n",
       "  </thead>\n",
       "  <tbody>\n",
       "    <tr>\n",
       "      <th>0</th>\n",
       "      <td>1991-09-26_2354059_2558095</td>\n",
       "      <td>1991-09-26</td>\n",
       "      <td>L</td>\n",
       "      <td>TKO (Injury)</td>\n",
       "      <td>1</td>\n",
       "      <td>4:42</td>\n",
       "      <td>Desafio: Jiu-Jitsu vs. Luta Livre</td>\n",
       "      <td>2354059</td>\n",
       "      <td>2558095</td>\n",
       "      <td>NaN</td>\n",
       "      <td>...</td>\n",
       "      <td>NaN</td>\n",
       "      <td>NaN</td>\n",
       "      <td>NaN</td>\n",
       "      <td>NaN</td>\n",
       "      <td>NaN</td>\n",
       "      <td>NaN</td>\n",
       "      <td>NaN</td>\n",
       "      <td>NaN</td>\n",
       "      <td>NaN</td>\n",
       "      <td>NaT</td>\n",
       "    </tr>\n",
       "    <tr>\n",
       "      <th>1</th>\n",
       "      <td>1992-01-01_2354119_2501396</td>\n",
       "      <td>1992-01-01</td>\n",
       "      <td>W</td>\n",
       "      <td>Submission (Rear Naked Choke)</td>\n",
       "      <td>1</td>\n",
       "      <td>7:03</td>\n",
       "      <td>Desafio: Gracie Vale Tudo</td>\n",
       "      <td>2501396</td>\n",
       "      <td>2354119</td>\n",
       "      <td>NaN</td>\n",
       "      <td>...</td>\n",
       "      <td>NaN</td>\n",
       "      <td>NaN</td>\n",
       "      <td>NaN</td>\n",
       "      <td>NaN</td>\n",
       "      <td>NaN</td>\n",
       "      <td>NaN</td>\n",
       "      <td>NaN</td>\n",
       "      <td>NaN</td>\n",
       "      <td>NaN</td>\n",
       "      <td>NaT</td>\n",
       "    </tr>\n",
       "    <tr>\n",
       "      <th>2</th>\n",
       "      <td>1993-08-29_2354132_3107994</td>\n",
       "      <td>1993-08-29</td>\n",
       "      <td>L</td>\n",
       "      <td>Submission (Strikes)</td>\n",
       "      <td>1</td>\n",
       "      <td>2:46</td>\n",
       "      <td>CP X CB: Capoeira vs. Chute Boxe</td>\n",
       "      <td>2354132</td>\n",
       "      <td>3107994</td>\n",
       "      <td>NaN</td>\n",
       "      <td>...</td>\n",
       "      <td>NaN</td>\n",
       "      <td>NaN</td>\n",
       "      <td>NaN</td>\n",
       "      <td>NaN</td>\n",
       "      <td>NaN</td>\n",
       "      <td>NaN</td>\n",
       "      <td>NaN</td>\n",
       "      <td>NaN</td>\n",
       "      <td>NaN</td>\n",
       "      <td>NaT</td>\n",
       "    </tr>\n",
       "    <tr>\n",
       "      <th>3</th>\n",
       "      <td>1993-09-21_2335653_2557846</td>\n",
       "      <td>1993-09-21</td>\n",
       "      <td>L</td>\n",
       "      <td>Submission (Rear Naked Choke)</td>\n",
       "      <td>1</td>\n",
       "      <td>6:15</td>\n",
       "      <td>Pancrase: Yes, We Are Hybrid Wrestlers 1</td>\n",
       "      <td>2335653</td>\n",
       "      <td>2557846</td>\n",
       "      <td>NaN</td>\n",
       "      <td>...</td>\n",
       "      <td>NaN</td>\n",
       "      <td>NaN</td>\n",
       "      <td>NaN</td>\n",
       "      <td>NaN</td>\n",
       "      <td>NaN</td>\n",
       "      <td>NaN</td>\n",
       "      <td>NaN</td>\n",
       "      <td>NaN</td>\n",
       "      <td>NaN</td>\n",
       "      <td>NaT</td>\n",
       "    </tr>\n",
       "    <tr>\n",
       "      <th>4</th>\n",
       "      <td>1993-10-14_2335653_2431322</td>\n",
       "      <td>1993-10-14</td>\n",
       "      <td>L</td>\n",
       "      <td>Submission (Heel Hook)</td>\n",
       "      <td>1</td>\n",
       "      <td>12:23</td>\n",
       "      <td>Pancrase: Yes, We Are Hybrid Wrestlers 2</td>\n",
       "      <td>2335653</td>\n",
       "      <td>2431322</td>\n",
       "      <td>NaN</td>\n",
       "      <td>...</td>\n",
       "      <td>NaN</td>\n",
       "      <td>NaN</td>\n",
       "      <td>NaN</td>\n",
       "      <td>NaN</td>\n",
       "      <td>NaN</td>\n",
       "      <td>NaN</td>\n",
       "      <td>NaN</td>\n",
       "      <td>NaN</td>\n",
       "      <td>NaN</td>\n",
       "      <td>NaT</td>\n",
       "    </tr>\n",
       "  </tbody>\n",
       "</table>\n",
       "<p>5 rows × 263 columns</p>\n",
       "</div>"
      ],
      "text/plain": [
       "                     fight_id       Date FighterResult  \\\n",
       "0  1991-09-26_2354059_2558095 1991-09-26             L   \n",
       "1  1992-01-01_2354119_2501396 1992-01-01             W   \n",
       "2  1993-08-29_2354132_3107994 1993-08-29             L   \n",
       "3  1993-09-21_2335653_2557846 1993-09-21             L   \n",
       "4  1993-10-14_2335653_2431322 1993-10-14             L   \n",
       "\n",
       "                        Decision Rnd   Time  \\\n",
       "0                   TKO (Injury)   1   4:42   \n",
       "1  Submission (Rear Naked Choke)   1   7:03   \n",
       "2           Submission (Strikes)   1   2:46   \n",
       "3  Submission (Rear Naked Choke)   1   6:15   \n",
       "4         Submission (Heel Hook)   1  12:23   \n",
       "\n",
       "                                      Event OpponentID_espn FighterID_espn  \\\n",
       "0         Desafio: Jiu-Jitsu vs. Luta Livre         2354059        2558095   \n",
       "1                 Desafio: Gracie Vale Tudo         2501396        2354119   \n",
       "2          CP X CB: Capoeira vs. Chute Boxe         2354132        3107994   \n",
       "3  Pancrase: Yes, We Are Hybrid Wrestlers 1         2335653        2557846   \n",
       "4  Pancrase: Yes, We Are Hybrid Wrestlers 2         2335653        2431322   \n",
       "\n",
       "   TSL  ...  home_team  away_team  open_fighter_decimal_odds  \\\n",
       "0  NaN  ...        NaN        NaN                        NaN   \n",
       "1  NaN  ...        NaN        NaN                        NaN   \n",
       "2  NaN  ...        NaN        NaN                        NaN   \n",
       "3  NaN  ...        NaN        NaN                        NaN   \n",
       "4  NaN  ...        NaN        NaN                        NaN   \n",
       "\n",
       "  open_opponent_decimal_odds  close_timestamp  close_fighter_decimal_odds  \\\n",
       "0                        NaN              NaN                         NaN   \n",
       "1                        NaN              NaN                         NaN   \n",
       "2                        NaN              NaN                         NaN   \n",
       "3                        NaN              NaN                         NaN   \n",
       "4                        NaN              NaN                         NaN   \n",
       "\n",
       "   close_opponent_decimal_odds  FighterID_the_odds  OpponentID_the_odds  \\\n",
       "0                          NaN                 NaN                  NaN   \n",
       "1                          NaN                 NaN                  NaN   \n",
       "2                          NaN                 NaN                  NaN   \n",
       "3                          NaN                 NaN                  NaN   \n",
       "4                          NaN                 NaN                  NaN   \n",
       "\n",
       "   Date_the_odds  \n",
       "0            NaT  \n",
       "1            NaT  \n",
       "2            NaT  \n",
       "3            NaT  \n",
       "4            NaT  \n",
       "\n",
       "[5 rows x 263 columns]"
      ]
     },
     "execution_count": 109,
     "metadata": {},
     "output_type": "execute_result"
    }
   ],
   "source": [
    "def load_joined_datasets(bookmaker_name=\"DraftKings\"):\n",
    "    print(\"load bfo_espn_ufc_features\")\n",
    "    df = base_db_interface.read(\"bfo_espn_ufc_features\")\n",
    "    for dt_col in [\"Date\", \"DOB\", \"DOB_opp\"]:\n",
    "        df[dt_col] = pd.to_datetime(df[dt_col])\n",
    "    # df[\"FigherOpen\"] = df[\"FighterOpen\"].astype()\n",
    "    df[[\"FighterOpen\", \"OpponentOpen\"]] = df[[\"FighterOpen\", \"OpponentOpen\"]]\\\n",
    "        .astype(float)\n",
    "        \n",
    "    df = df.drop_duplicates(subset=[\"fight_id\"])\n",
    "    #.dropna(subset=[\"FighterID_espn_espn\", \"OpponentID_espn\"])\n",
    "    df[\"FighterID_espn\"] = df[\"FighterID_espn\"].fillna(\"unknown\")\n",
    "    df[\"OpponentID_espn\"] = df[\"OpponentID_espn\"].fillna(\"unknown\")\n",
    "    print(df.shape)\n",
    "    print(\"load the_odds_df\")\n",
    "    the_odds_df = load_the_historical_odds_df()\n",
    "    print(\"load the_odds_to_espn_map\")\n",
    "    # the_odds_to_espn_map = base_db_interface.read(\"the_odds_espn_fighter_id_map\")\n",
    "    # the_odds_to_espn_map[\"Date_the_odds\"] = \\\n",
    "    #     pd.to_datetime(the_odds_to_espn_map[\"Date_the_odds\"])\n",
    "    the_odds_to_espn_map = join_the_odds_espn()\n",
    "    print(\"merge the_odds_to_espn_map with the_odds_df\")\n",
    "    the_odds_df = the_odds_df.merge(\n",
    "        the_odds_to_espn_map,\n",
    "        how='inner',\n",
    "        left_on=[\"FighterID\", \"OpponentID\", \"Date\"],\n",
    "        right_on=[\"FighterID_the_odds\", \"OpponentID_the_odds\", \"Date_the_odds\"]\n",
    "    )\n",
    "    # filter the_odds_df by bookmaker_name, drop irrelevant rows\n",
    "    the_odds_df = the_odds_df.query(\n",
    "        \"bookmaker_name == '{bookmaker_name}' & market_name == 'h2h'\".format(\n",
    "            bookmaker_name=bookmaker_name\n",
    "        )\n",
    "    ).sort_values(\"commence_time\")\\\n",
    "        .groupby([\"FighterID_espn\", \"OpponentID_espn\", \"Date_espn\"])\\\n",
    "        .last().reset_index()\n",
    "    print(the_odds_df.shape, df.shape)\n",
    "    print(\"merge the_odds_df with bfo_espn_ufc_features\")\n",
    "    df = df.merge(\n",
    "        the_odds_df.drop(columns=[\n",
    "            \"FighterName\", \"OpponentName\", \"Date\",\n",
    "            # \"FighterID_the_odds\", \"OpponentID_the_odds\", \"Date_the_odds\"\n",
    "            \"FighterID\", \"OpponentID\",\n",
    "        ]),\n",
    "        how='left',\n",
    "        left_on=[\"FighterID_espn\", \"OpponentID_espn\", \"Date\"],\n",
    "        right_on=[\"FighterID_espn\", \"OpponentID_espn\", \"Date_espn\"],\n",
    "    )\n",
    "    return df\n",
    "\n",
    "df = load_joined_datasets(bookmaker_name=\"Betfair\")\n",
    "print(df.shape)\n",
    "df.head()"
   ]
  },
  {
   "cell_type": "code",
   "execution_count": 110,
   "metadata": {},
   "outputs": [
    {
     "data": {
      "text/plain": [
       "1991-09-26_2354059_2558095    1\n",
       "2016-04-08_4397796_4401357    1\n",
       "2016-04-08_3028399_3928693    1\n",
       "2016-04-08_3892389_4056265    1\n",
       "2016-04-08_3077836_4082117    1\n",
       "                             ..\n",
       "2011-06-05_4215817_4217378    1\n",
       "2011-06-05_3032160_3084287    1\n",
       "2011-06-05_2504806_3148979    1\n",
       "2011-06-05_3104765_3941059    1\n",
       "2023-04-15_2614933_3902098    1\n",
       "Name: fight_id, Length: 65514, dtype: int64"
      ]
     },
     "execution_count": 110,
     "metadata": {},
     "output_type": "execute_result"
    }
   ],
   "source": [
    "df[\"fight_id\"].value_counts()"
   ]
  },
  {
   "cell_type": "code",
   "execution_count": 111,
   "metadata": {},
   "outputs": [
    {
     "data": {
      "text/html": [
       "<div>\n",
       "<style scoped>\n",
       "    .dataframe tbody tr th:only-of-type {\n",
       "        vertical-align: middle;\n",
       "    }\n",
       "\n",
       "    .dataframe tbody tr th {\n",
       "        vertical-align: top;\n",
       "    }\n",
       "\n",
       "    .dataframe thead th {\n",
       "        text-align: right;\n",
       "    }\n",
       "</style>\n",
       "<table border=\"1\" class=\"dataframe\">\n",
       "  <thead>\n",
       "    <tr style=\"text-align: right;\">\n",
       "      <th></th>\n",
       "      <th>FighterID_the_odds</th>\n",
       "      <th>OpponentID_the_odds</th>\n",
       "      <th>Date_the_odds</th>\n",
       "      <th>FighterID_espn</th>\n",
       "      <th>OpponentID_espn</th>\n",
       "      <th>Date_espn</th>\n",
       "      <th>FighterName</th>\n",
       "      <th>OpponentName</th>\n",
       "      <th>close_fighter_decimal_odds</th>\n",
       "      <th>close_opponent_decimal_odds</th>\n",
       "    </tr>\n",
       "  </thead>\n",
       "  <tbody>\n",
       "    <tr>\n",
       "      <th>64539</th>\n",
       "      <td>Herbert Burns</td>\n",
       "      <td>Khusein Askhabov</td>\n",
       "      <td>2022-07-16</td>\n",
       "      <td>3089633</td>\n",
       "      <td>4076472</td>\n",
       "      <td>2022-07-16</td>\n",
       "      <td>herbert burns</td>\n",
       "      <td>bill algeo</td>\n",
       "      <td>3.1</td>\n",
       "      <td>1.38</td>\n",
       "    </tr>\n",
       "  </tbody>\n",
       "</table>\n",
       "</div>"
      ],
      "text/plain": [
       "      FighterID_the_odds OpponentID_the_odds Date_the_odds FighterID_espn  \\\n",
       "64539      Herbert Burns    Khusein Askhabov    2022-07-16        3089633   \n",
       "\n",
       "      OpponentID_espn  Date_espn    FighterName OpponentName  \\\n",
       "64539         4076472 2022-07-16  herbert burns   bill algeo   \n",
       "\n",
       "       close_fighter_decimal_odds  close_opponent_decimal_odds  \n",
       "64539                         3.1                         1.38  "
      ]
     },
     "execution_count": 111,
     "metadata": {},
     "output_type": "execute_result"
    }
   ],
   "source": [
    "df.query(\"fight_id == '2022-07-16_3089633_4076472'\")[[\n",
    "    \"FighterID_the_odds\", \"OpponentID_the_odds\", \"Date_the_odds\",\n",
    "    \"FighterID_espn\", \"OpponentID_espn\", \"Date_espn\",\n",
    "    \"FighterName\", \"OpponentName\", \"close_fighter_decimal_odds\",\n",
    "    \"close_opponent_decimal_odds\", \n",
    "]]\n",
    "# ah fuck, how does my model think Bill Algeo is Herbert Burns???"
   ]
  },
  {
   "cell_type": "code",
   "execution_count": 112,
   "metadata": {},
   "outputs": [],
   "source": [
    "# the_odds_to_espn_map = join_the_odds_espn()\n",
    "# the_odds_to_espn_map"
   ]
  },
  {
   "cell_type": "code",
   "execution_count": 113,
   "metadata": {},
   "outputs": [
    {
     "data": {
      "text/plain": [
       "FighterOpen_implied_prob       369\n",
       "OpponentOpen_implied_prob      369\n",
       "open_fighter_american_odds     369\n",
       "open_opponent_american_odds    369\n",
       "dtype: int64"
      ]
     },
     "execution_count": 113,
     "metadata": {},
     "output_type": "execute_result"
    }
   ],
   "source": [
    "# okay how do I convert decimal odds to implied probability?\n",
    "# and also to american odds\n",
    "\n",
    "def decimal_to_implied_prob(decimal_odds):\n",
    "    # decimal odds represent the payout if you bet $1\n",
    "    return 1 / decimal_odds\n",
    "\n",
    "def decimal_to_american_odds(decimal_odds):\n",
    "    american_odds = pd.Series(np.nan, index=decimal_odds.index, dtype=float)\n",
    "    fav_inds = decimal_odds < 2\n",
    "    dog_inds = decimal_odds >= 2\n",
    "    american_odds.loc[fav_inds] = -100 / (decimal_odds.loc[fav_inds] - 1)\n",
    "    american_odds.loc[dog_inds] = 100 * (decimal_odds.loc[dog_inds] - 1)\n",
    "    return american_odds\n",
    "    \n",
    "df[\"FighterOpen_implied_prob\"] = decimal_to_implied_prob(df[\"open_fighter_decimal_odds\"])\n",
    "df[\"OpponentOpen_implied_prob\"] = decimal_to_implied_prob(df[\"open_opponent_decimal_odds\"])\n",
    "df[\"open_fighter_american_odds\"] = decimal_to_american_odds(df[\"open_fighter_decimal_odds\"])\n",
    "df[\"open_opponent_american_odds\"] = decimal_to_american_odds(df[\"open_opponent_decimal_odds\"])\n",
    "df[[\n",
    "    \"FighterOpen_implied_prob\",\n",
    "    \"OpponentOpen_implied_prob\",\n",
    "    \"open_fighter_american_odds\",\n",
    "    \"open_opponent_american_odds\"\n",
    "]].notnull().sum()"
   ]
  },
  {
   "cell_type": "code",
   "execution_count": null,
   "metadata": {},
   "outputs": [],
   "source": []
  },
  {
   "cell_type": "code",
   "execution_count": 114,
   "metadata": {},
   "outputs": [],
   "source": [
    "from sklearn.decomposition import PCA\n",
    "# OKAY PCA HAPPENS HERE. Just do everything in-sample for now. \n",
    "stat_cols = [\n",
    "    'TSL', 'TSA', 'SSL',\n",
    "    'SSA', #'TSL-TSA', \n",
    "    'KD', #'%BODY', '%HEAD', '%LEG', \n",
    "    'SCBL',\n",
    "    'SCBA', 'SCHL', 'SCHA', 'SCLL', 'SCLA', 'RV', 'TDL', 'TDA', 'TDS',\n",
    "    # 'TK ACC', 'SR', # I don't believe in ratio features in PCA, \n",
    "    # # because of the possibility of division by zero and heteroskedasticity\n",
    "    'SGBL', 'SGBA', 'SGHL', 'SGHA', 'SGLL', 'SGLA', 'AD', 'ADTB',\n",
    "    'ADHG', 'ADTM', 'ADTS', 'SM', 'SDBL', 'SDBA', 'SDHL',\n",
    "    'SDHA', 'SDLL', 'SDLA',\n",
    "    #'time_seconds',\n",
    "    # 'TD_fails', #'submission_rate',\n",
    "    'TD_fail', # formerly 'TD_fails'\n",
    "    'SDL', 'SCL', # formerly 'distance_strikes_landed', 'clinch_strikes_landed',\n",
    "    #'KD_power', \n",
    "    'SGL', # formerly 'ground_strikes_landed'\n",
    "]\n",
    "df[[\"KD\", \"KD_opp\"]] = df[[\"KD\", \"KD_opp\"]].astype(float) \n",
    "# convert from string to float. rather annoying"
   ]
  },
  {
   "cell_type": "code",
   "execution_count": 286,
   "metadata": {},
   "outputs": [],
   "source": [
    "# n_pca = 14\n",
    "# bin_elo_alpha = 0.45\n",
    "# acc_elo_alpha = 0.45\n",
    "# pca_elo_alpha = 0.45\n",
    "\n",
    "n_pca = 14\n",
    "bin_elo_alpha = 0.85\n",
    "acc_elo_alpha = 0.85\n",
    "pca_elo_alpha = 0.85"
   ]
  },
  {
   "cell_type": "code",
   "execution_count": 287,
   "metadata": {},
   "outputs": [],
   "source": [
    "stat_diff_df = {\n",
    "    \"FighterID_espn\": df[\"FighterID_espn\"],\n",
    "    \"OpponentID_espn\": df[\"OpponentID_espn\"],\n",
    "    \"Date\": df[\"Date\"],\n",
    "    \"gender\": df[\"gender\"],\n",
    "    \"fight_id\": df[\"fight_id\"],\n",
    "}\n",
    "diff_cols = [col+\"_diff\" for col in stat_cols]\n",
    "for col, diff_col in zip(stat_cols, diff_cols):\n",
    "    stat_diff_df[diff_col] = (\n",
    "        np.sqrt(df[col]) - np.sqrt(df[col+\"_opp\"])\n",
    "    ) # TODO try fillna(0)\n",
    "# stat_diff_df = pd.DataFrame(stat_diff_df).dropna(subset=diff_cols).reset_index()\n",
    "stat_diff_df = pd.DataFrame(stat_diff_df).reset_index()"
   ]
  },
  {
   "cell_type": "code",
   "execution_count": 288,
   "metadata": {},
   "outputs": [
    {
     "name": "stdout",
     "output_type": "stream",
     "text": [
      "getting elo features for PC_0\n"
     ]
    },
    {
     "name": "stderr",
     "output_type": "stream",
     "text": [
      "100%|██████████| 3987/3987 [00:01<00:00, 3096.33it/s]\n",
      "100%|██████████| 1684/1684 [00:30<00:00, 54.76it/s]\n"
     ]
    },
    {
     "name": "stdout",
     "output_type": "stream",
     "text": [
      "getting elo features for PC_1\n"
     ]
    },
    {
     "name": "stderr",
     "output_type": "stream",
     "text": [
      "100%|██████████| 3987/3987 [00:01<00:00, 3105.34it/s]\n",
      "100%|██████████| 1684/1684 [00:30<00:00, 54.63it/s]\n"
     ]
    },
    {
     "name": "stdout",
     "output_type": "stream",
     "text": [
      "getting elo features for PC_2\n"
     ]
    },
    {
     "name": "stderr",
     "output_type": "stream",
     "text": [
      "100%|██████████| 3987/3987 [00:01<00:00, 3110.09it/s]\n",
      "100%|██████████| 1684/1684 [00:43<00:00, 38.29it/s]\n"
     ]
    },
    {
     "name": "stdout",
     "output_type": "stream",
     "text": [
      "getting elo features for PC_3\n"
     ]
    },
    {
     "name": "stderr",
     "output_type": "stream",
     "text": [
      "100%|██████████| 3987/3987 [00:01<00:00, 3133.11it/s]\n",
      "100%|██████████| 1684/1684 [00:43<00:00, 38.70it/s]\n"
     ]
    },
    {
     "name": "stdout",
     "output_type": "stream",
     "text": [
      "getting elo features for PC_4\n"
     ]
    },
    {
     "name": "stderr",
     "output_type": "stream",
     "text": [
      "100%|██████████| 3987/3987 [00:01<00:00, 3079.44it/s]\n",
      "100%|██████████| 1684/1684 [00:43<00:00, 39.01it/s]\n"
     ]
    },
    {
     "name": "stdout",
     "output_type": "stream",
     "text": [
      "getting elo features for PC_5\n"
     ]
    },
    {
     "name": "stderr",
     "output_type": "stream",
     "text": [
      "100%|██████████| 3987/3987 [00:01<00:00, 3086.82it/s]\n",
      "100%|██████████| 1684/1684 [00:43<00:00, 38.72it/s]\n"
     ]
    },
    {
     "name": "stdout",
     "output_type": "stream",
     "text": [
      "getting elo features for PC_6\n"
     ]
    },
    {
     "name": "stderr",
     "output_type": "stream",
     "text": [
      "100%|██████████| 3987/3987 [00:01<00:00, 3102.78it/s]\n",
      "100%|██████████| 1684/1684 [00:44<00:00, 38.14it/s]\n"
     ]
    },
    {
     "name": "stdout",
     "output_type": "stream",
     "text": [
      "getting elo features for PC_7\n"
     ]
    },
    {
     "name": "stderr",
     "output_type": "stream",
     "text": [
      "100%|██████████| 3987/3987 [00:01<00:00, 3080.19it/s]\n",
      "100%|██████████| 1684/1684 [00:42<00:00, 39.44it/s]\n"
     ]
    },
    {
     "name": "stdout",
     "output_type": "stream",
     "text": [
      "getting elo features for PC_8\n"
     ]
    },
    {
     "name": "stderr",
     "output_type": "stream",
     "text": [
      "100%|██████████| 3987/3987 [00:01<00:00, 3105.44it/s]\n",
      "100%|██████████| 1684/1684 [00:42<00:00, 39.77it/s]\n"
     ]
    },
    {
     "name": "stdout",
     "output_type": "stream",
     "text": [
      "getting elo features for PC_9\n"
     ]
    },
    {
     "name": "stderr",
     "output_type": "stream",
     "text": [
      "100%|██████████| 3987/3987 [00:01<00:00, 3077.99it/s]\n",
      "100%|██████████| 1684/1684 [00:42<00:00, 39.86it/s]\n"
     ]
    },
    {
     "name": "stdout",
     "output_type": "stream",
     "text": [
      "getting elo features for PC_10\n"
     ]
    },
    {
     "name": "stderr",
     "output_type": "stream",
     "text": [
      "100%|██████████| 3987/3987 [00:01<00:00, 3131.29it/s]\n",
      "100%|██████████| 1684/1684 [00:44<00:00, 37.95it/s]\n"
     ]
    },
    {
     "name": "stdout",
     "output_type": "stream",
     "text": [
      "getting elo features for PC_11\n"
     ]
    },
    {
     "name": "stderr",
     "output_type": "stream",
     "text": [
      "100%|██████████| 3987/3987 [00:01<00:00, 2987.99it/s]\n",
      "100%|██████████| 1684/1684 [00:30<00:00, 54.36it/s]\n"
     ]
    },
    {
     "name": "stdout",
     "output_type": "stream",
     "text": [
      "getting elo features for PC_12\n"
     ]
    },
    {
     "name": "stderr",
     "output_type": "stream",
     "text": [
      "100%|██████████| 3987/3987 [00:01<00:00, 3097.38it/s]\n",
      "100%|██████████| 1684/1684 [00:43<00:00, 39.02it/s]\n"
     ]
    },
    {
     "name": "stdout",
     "output_type": "stream",
     "text": [
      "getting elo features for PC_13\n"
     ]
    },
    {
     "name": "stderr",
     "output_type": "stream",
     "text": [
      "100%|██████████| 3987/3987 [00:01<00:00, 3089.43it/s]\n",
      "100%|██████████| 1684/1684 [00:42<00:00, 39.20it/s]\n"
     ]
    },
    {
     "data": {
      "text/html": [
       "<div>\n",
       "<style scoped>\n",
       "    .dataframe tbody tr th:only-of-type {\n",
       "        vertical-align: middle;\n",
       "    }\n",
       "\n",
       "    .dataframe tbody tr th {\n",
       "        vertical-align: top;\n",
       "    }\n",
       "\n",
       "    .dataframe thead th {\n",
       "        text-align: right;\n",
       "    }\n",
       "</style>\n",
       "<table border=\"1\" class=\"dataframe\">\n",
       "  <thead>\n",
       "    <tr style=\"text-align: right;\">\n",
       "      <th></th>\n",
       "      <th>fight_id</th>\n",
       "      <th>pred_PC_0</th>\n",
       "      <th>pred_PC_1</th>\n",
       "      <th>pred_PC_2</th>\n",
       "      <th>pred_PC_3</th>\n",
       "      <th>pred_PC_4</th>\n",
       "      <th>pred_PC_5</th>\n",
       "      <th>pred_PC_6</th>\n",
       "      <th>pred_PC_7</th>\n",
       "      <th>pred_PC_8</th>\n",
       "      <th>pred_PC_9</th>\n",
       "      <th>pred_PC_10</th>\n",
       "      <th>pred_PC_11</th>\n",
       "      <th>pred_PC_12</th>\n",
       "      <th>pred_PC_13</th>\n",
       "    </tr>\n",
       "  </thead>\n",
       "  <tbody>\n",
       "    <tr>\n",
       "      <th>0</th>\n",
       "      <td>1991-09-26_2354059_2558095</td>\n",
       "      <td>0.000000</td>\n",
       "      <td>0.000000</td>\n",
       "      <td>0.000000</td>\n",
       "      <td>0.000000</td>\n",
       "      <td>0.000000</td>\n",
       "      <td>0.000000</td>\n",
       "      <td>0.000000</td>\n",
       "      <td>0.000000</td>\n",
       "      <td>0.000000</td>\n",
       "      <td>0.000000</td>\n",
       "      <td>0.000000</td>\n",
       "      <td>0.000000</td>\n",
       "      <td>0.000000</td>\n",
       "      <td>0.000000</td>\n",
       "    </tr>\n",
       "    <tr>\n",
       "      <th>1</th>\n",
       "      <td>1992-01-01_2354119_2501396</td>\n",
       "      <td>0.000000</td>\n",
       "      <td>0.000000</td>\n",
       "      <td>0.000000</td>\n",
       "      <td>0.000000</td>\n",
       "      <td>0.000000</td>\n",
       "      <td>0.000000</td>\n",
       "      <td>0.000000</td>\n",
       "      <td>0.000000</td>\n",
       "      <td>0.000000</td>\n",
       "      <td>0.000000</td>\n",
       "      <td>0.000000</td>\n",
       "      <td>0.000000</td>\n",
       "      <td>0.000000</td>\n",
       "      <td>0.000000</td>\n",
       "    </tr>\n",
       "    <tr>\n",
       "      <th>2</th>\n",
       "      <td>1993-08-29_2354132_3107994</td>\n",
       "      <td>0.000000</td>\n",
       "      <td>0.000000</td>\n",
       "      <td>0.000000</td>\n",
       "      <td>0.000000</td>\n",
       "      <td>0.000000</td>\n",
       "      <td>0.000000</td>\n",
       "      <td>0.000000</td>\n",
       "      <td>0.000000</td>\n",
       "      <td>0.000000</td>\n",
       "      <td>0.000000</td>\n",
       "      <td>0.000000</td>\n",
       "      <td>0.000000</td>\n",
       "      <td>0.000000</td>\n",
       "      <td>0.000000</td>\n",
       "    </tr>\n",
       "    <tr>\n",
       "      <th>3</th>\n",
       "      <td>1993-09-21_2335653_2557846</td>\n",
       "      <td>0.000000</td>\n",
       "      <td>0.000000</td>\n",
       "      <td>0.000000</td>\n",
       "      <td>0.000000</td>\n",
       "      <td>0.000000</td>\n",
       "      <td>0.000000</td>\n",
       "      <td>0.000000</td>\n",
       "      <td>0.000000</td>\n",
       "      <td>0.000000</td>\n",
       "      <td>0.000000</td>\n",
       "      <td>0.000000</td>\n",
       "      <td>0.000000</td>\n",
       "      <td>0.000000</td>\n",
       "      <td>0.000000</td>\n",
       "    </tr>\n",
       "    <tr>\n",
       "      <th>4</th>\n",
       "      <td>1993-10-14_2335653_2431322</td>\n",
       "      <td>0.000000</td>\n",
       "      <td>0.000000</td>\n",
       "      <td>0.000000</td>\n",
       "      <td>0.000000</td>\n",
       "      <td>0.000000</td>\n",
       "      <td>0.000000</td>\n",
       "      <td>0.000000</td>\n",
       "      <td>0.000000</td>\n",
       "      <td>0.000000</td>\n",
       "      <td>0.000000</td>\n",
       "      <td>0.000000</td>\n",
       "      <td>0.000000</td>\n",
       "      <td>0.000000</td>\n",
       "      <td>0.000000</td>\n",
       "    </tr>\n",
       "    <tr>\n",
       "      <th>...</th>\n",
       "      <td>...</td>\n",
       "      <td>...</td>\n",
       "      <td>...</td>\n",
       "      <td>...</td>\n",
       "      <td>...</td>\n",
       "      <td>...</td>\n",
       "      <td>...</td>\n",
       "      <td>...</td>\n",
       "      <td>...</td>\n",
       "      <td>...</td>\n",
       "      <td>...</td>\n",
       "      <td>...</td>\n",
       "      <td>...</td>\n",
       "      <td>...</td>\n",
       "      <td>...</td>\n",
       "    </tr>\n",
       "    <tr>\n",
       "      <th>65509</th>\n",
       "      <td>2023-04-08_4285679_4705658</td>\n",
       "      <td>-0.216553</td>\n",
       "      <td>-0.577267</td>\n",
       "      <td>1.344784</td>\n",
       "      <td>1.247287</td>\n",
       "      <td>0.431476</td>\n",
       "      <td>-0.306186</td>\n",
       "      <td>-1.040742</td>\n",
       "      <td>0.049881</td>\n",
       "      <td>1.466773</td>\n",
       "      <td>-1.383533</td>\n",
       "      <td>-1.234374</td>\n",
       "      <td>-1.031083</td>\n",
       "      <td>0.935241</td>\n",
       "      <td>0.219472</td>\n",
       "    </tr>\n",
       "    <tr>\n",
       "      <th>65510</th>\n",
       "      <td>2023-04-08_2960757_3952937</td>\n",
       "      <td>-0.051293</td>\n",
       "      <td>-0.180608</td>\n",
       "      <td>0.895025</td>\n",
       "      <td>0.230791</td>\n",
       "      <td>0.447960</td>\n",
       "      <td>-1.048518</td>\n",
       "      <td>-0.716821</td>\n",
       "      <td>-0.202513</td>\n",
       "      <td>-0.463816</td>\n",
       "      <td>1.304191</td>\n",
       "      <td>-0.655525</td>\n",
       "      <td>-0.470921</td>\n",
       "      <td>-0.305629</td>\n",
       "      <td>-0.541012</td>\n",
       "    </tr>\n",
       "    <tr>\n",
       "      <th>65511</th>\n",
       "      <td>2023-04-08_3023804_4781218</td>\n",
       "      <td>-0.363980</td>\n",
       "      <td>0.056950</td>\n",
       "      <td>0.273059</td>\n",
       "      <td>1.013957</td>\n",
       "      <td>1.045993</td>\n",
       "      <td>1.086990</td>\n",
       "      <td>0.218141</td>\n",
       "      <td>-0.986897</td>\n",
       "      <td>-0.785523</td>\n",
       "      <td>0.101604</td>\n",
       "      <td>-0.867590</td>\n",
       "      <td>-1.507397</td>\n",
       "      <td>1.118529</td>\n",
       "      <td>0.410235</td>\n",
       "    </tr>\n",
       "    <tr>\n",
       "      <th>65512</th>\n",
       "      <td>2023-04-08_3090451_3998248</td>\n",
       "      <td>0.530542</td>\n",
       "      <td>-1.412149</td>\n",
       "      <td>0.222387</td>\n",
       "      <td>-0.317906</td>\n",
       "      <td>2.987994</td>\n",
       "      <td>1.271734</td>\n",
       "      <td>-1.418670</td>\n",
       "      <td>-0.184075</td>\n",
       "      <td>-0.561213</td>\n",
       "      <td>0.470553</td>\n",
       "      <td>2.321208</td>\n",
       "      <td>1.518587</td>\n",
       "      <td>0.095068</td>\n",
       "      <td>0.173797</td>\n",
       "    </tr>\n",
       "    <tr>\n",
       "      <th>65513</th>\n",
       "      <td>2023-04-15_2614933_3902098</td>\n",
       "      <td>1.053426</td>\n",
       "      <td>-0.505456</td>\n",
       "      <td>1.621924</td>\n",
       "      <td>-1.130186</td>\n",
       "      <td>0.970341</td>\n",
       "      <td>-0.852887</td>\n",
       "      <td>-0.743091</td>\n",
       "      <td>0.215769</td>\n",
       "      <td>-0.414343</td>\n",
       "      <td>2.040358</td>\n",
       "      <td>-0.628074</td>\n",
       "      <td>0.192037</td>\n",
       "      <td>-0.223611</td>\n",
       "      <td>0.726272</td>\n",
       "    </tr>\n",
       "  </tbody>\n",
       "</table>\n",
       "<p>65514 rows × 15 columns</p>\n",
       "</div>"
      ],
      "text/plain": [
       "                         fight_id  pred_PC_0  pred_PC_1  pred_PC_2  pred_PC_3  \\\n",
       "0      1991-09-26_2354059_2558095   0.000000   0.000000   0.000000   0.000000   \n",
       "1      1992-01-01_2354119_2501396   0.000000   0.000000   0.000000   0.000000   \n",
       "2      1993-08-29_2354132_3107994   0.000000   0.000000   0.000000   0.000000   \n",
       "3      1993-09-21_2335653_2557846   0.000000   0.000000   0.000000   0.000000   \n",
       "4      1993-10-14_2335653_2431322   0.000000   0.000000   0.000000   0.000000   \n",
       "...                           ...        ...        ...        ...        ...   \n",
       "65509  2023-04-08_4285679_4705658  -0.216553  -0.577267   1.344784   1.247287   \n",
       "65510  2023-04-08_2960757_3952937  -0.051293  -0.180608   0.895025   0.230791   \n",
       "65511  2023-04-08_3023804_4781218  -0.363980   0.056950   0.273059   1.013957   \n",
       "65512  2023-04-08_3090451_3998248   0.530542  -1.412149   0.222387  -0.317906   \n",
       "65513  2023-04-15_2614933_3902098   1.053426  -0.505456   1.621924  -1.130186   \n",
       "\n",
       "       pred_PC_4  pred_PC_5  pred_PC_6  pred_PC_7  pred_PC_8  pred_PC_9  \\\n",
       "0       0.000000   0.000000   0.000000   0.000000   0.000000   0.000000   \n",
       "1       0.000000   0.000000   0.000000   0.000000   0.000000   0.000000   \n",
       "2       0.000000   0.000000   0.000000   0.000000   0.000000   0.000000   \n",
       "3       0.000000   0.000000   0.000000   0.000000   0.000000   0.000000   \n",
       "4       0.000000   0.000000   0.000000   0.000000   0.000000   0.000000   \n",
       "...          ...        ...        ...        ...        ...        ...   \n",
       "65509   0.431476  -0.306186  -1.040742   0.049881   1.466773  -1.383533   \n",
       "65510   0.447960  -1.048518  -0.716821  -0.202513  -0.463816   1.304191   \n",
       "65511   1.045993   1.086990   0.218141  -0.986897  -0.785523   0.101604   \n",
       "65512   2.987994   1.271734  -1.418670  -0.184075  -0.561213   0.470553   \n",
       "65513   0.970341  -0.852887  -0.743091   0.215769  -0.414343   2.040358   \n",
       "\n",
       "       pred_PC_10  pred_PC_11  pred_PC_12  pred_PC_13  \n",
       "0        0.000000    0.000000    0.000000    0.000000  \n",
       "1        0.000000    0.000000    0.000000    0.000000  \n",
       "2        0.000000    0.000000    0.000000    0.000000  \n",
       "3        0.000000    0.000000    0.000000    0.000000  \n",
       "4        0.000000    0.000000    0.000000    0.000000  \n",
       "...           ...         ...         ...         ...  \n",
       "65509   -1.234374   -1.031083    0.935241    0.219472  \n",
       "65510   -0.655525   -0.470921   -0.305629   -0.541012  \n",
       "65511   -0.867590   -1.507397    1.118529    0.410235  \n",
       "65512    2.321208    1.518587    0.095068    0.173797  \n",
       "65513   -0.628074    0.192037   -0.223611    0.726272  \n",
       "\n",
       "[65514 rows x 15 columns]"
      ]
     },
     "execution_count": 288,
     "metadata": {},
     "output_type": "execute_result"
    }
   ],
   "source": [
    "from model.mma_features import PcaEloWrapper, BinaryEloWrapper\n",
    "\n",
    "pca_ew = PcaEloWrapper(\n",
    "    n_pca=n_pca, target_cols=diff_cols, alpha=pca_elo_alpha,\n",
    "    conditional_var_col=None, # for consistency\n",
    ")\n",
    "pca_elo_feat_df = pca_ew.fit_transform_all(stat_diff_df)\n",
    "pca_elo_feat_df"
   ]
  },
  {
   "cell_type": "code",
   "execution_count": 289,
   "metadata": {},
   "outputs": [
    {
     "data": {
      "text/plain": [
       "Index(['Decision', 'decision_clean', 'decision_fighter_result'], dtype='object')"
      ]
     },
     "execution_count": 289,
     "metadata": {},
     "output_type": "execute_result"
    }
   ],
   "source": [
    "df.columns[df.columns.str.lower().str.contains(\"decision\")]"
   ]
  },
  {
   "attachments": {},
   "cell_type": "markdown",
   "metadata": {},
   "source": [
    "## Result of the fight"
   ]
  },
  {
   "cell_type": "code",
   "execution_count": 290,
   "metadata": {},
   "outputs": [
    {
     "data": {
      "text/plain": [
       "tko/ko                  23942\n",
       "submission              20799\n",
       "decision - unanimous    15098\n",
       "decision - split         3857\n",
       "draw                      804\n",
       "nc                        408\n",
       "                          338\n",
       "dq                        237\n",
       "technical decision         31\n",
       "Name: decision_clean, dtype: int64"
      ]
     },
     "execution_count": 290,
     "metadata": {},
     "output_type": "execute_result"
    }
   ],
   "source": [
    "df[\"decision_clean\"].value_counts()"
   ]
  },
  {
   "cell_type": "code",
   "execution_count": 291,
   "metadata": {},
   "outputs": [
    {
     "data": {
      "text/plain": [
       "0.0"
      ]
     },
     "execution_count": 291,
     "metadata": {},
     "output_type": "execute_result"
    }
   ],
   "source": [
    "df[\"decision_clean\"].isnull().mean()"
   ]
  },
  {
   "cell_type": "code",
   "execution_count": 292,
   "metadata": {},
   "outputs": [],
   "source": [
    "def parse_decision(s):\n",
    "    if (s.startswith(\"submission\") or \n",
    "        s.startswith(\"sumission\") or\n",
    "        s.startswith(\"technical submission\")\n",
    "    ):\n",
    "        return \"submission\"\n",
    "    if (s.startswith(\"tko\") or \n",
    "        s.startswith(\"ko\") or\n",
    "        (s == 'could not continue')\n",
    "    ):\n",
    "        return \"tko_ko\"\n",
    "    if \"decision\" in s:\n",
    "        return \"decision\"\n",
    "    return \"other\"\n",
    "\n",
    "temp_decision = df[\"Decision\"].fillna(\"-\").str.lower().str.strip()\n",
    "decision_clean = temp_decision.apply(parse_decision)\n",
    "result_sign = df[\"FighterResult\"].map({\"W\": 1, \"L\":-1, \"D\": 0})\n",
    "decision_score = decision_clean.map({\"tko_ko\":2, \"submission\":2, \n",
    "                                                    \"decision\":1, \"other\":0})\n",
    "df[\"ordinal_fighter_result\"] = result_sign * decision_score\n",
    "submission_score = decision_clean.map({\"submission\":1, \"decision\":0, \n",
    "                                            \"other\":0, \"tko_ko\":0})\n",
    "tko_ko_score = decision_clean.map({\"submission\":0, \"decision\":0, \n",
    "                                            \"other\":0, \"tko_ko\":1})\n",
    "decision_score = decision_clean.map({\"submission\":0, \"decision\":1, \n",
    "                                            \"other\":0, \"tko_ko\":0})\n",
    "finish_score = decision_clean.map({\"submission\":1, \"decision\":0, \n",
    "                                            \"other\":0, \"tko_ko\":1})\n",
    "df[\"submission_fighter_result\"] = result_sign * submission_score\n",
    "df[\"tko_ko_fighter_result\"] = result_sign * tko_ko_score\n",
    "df[\"decision_fighter_result\"] = result_sign * decision_score\n",
    "df[\"finish_fighter_result\"] = result_sign * finish_score"
   ]
  },
  {
   "cell_type": "code",
   "execution_count": 293,
   "metadata": {},
   "outputs": [
    {
     "data": {
      "text/plain": [
       "0.0    22380\n",
       "1.0    22361\n",
       "Name: win_target_finish, dtype: int64"
      ]
     },
     "execution_count": 293,
     "metadata": {},
     "output_type": "execute_result"
    }
   ],
   "source": [
    "df[\"win_target\"] = df[\"FighterResult\"].replace({\"W\":1, \"L\":0, \"D\":np.nan})\n",
    "df[\"win_target_finish\"] = df[\"win_target\"] * decision_clean.map({\n",
    "    \"submission\":1, \"tko_ko\":1,\n",
    "    \"decision\":np.nan, \"other\":np.nan, \n",
    "})\n",
    "df[\"win_target_finish\"].value_counts()"
   ]
  },
  {
   "cell_type": "code",
   "execution_count": 294,
   "metadata": {},
   "outputs": [
    {
     "name": "stdout",
     "output_type": "stream",
     "text": [
      "(65514, 1)\n",
      "getting elo features for win_target\n"
     ]
    },
    {
     "name": "stderr",
     "output_type": "stream",
     "text": [
      "100%|██████████| 65514/65514 [00:22<00:00, 2889.07it/s]\n"
     ]
    },
    {
     "name": "stdout",
     "output_type": "stream",
     "text": [
      "getting elo features for win_target_finish\n"
     ]
    },
    {
     "name": "stderr",
     "output_type": "stream",
     "text": [
      "100%|██████████| 65514/65514 [00:22<00:00, 2876.57it/s]"
     ]
    },
    {
     "name": "stdout",
     "output_type": "stream",
     "text": [
      "(65514, 5)\n"
     ]
    },
    {
     "name": "stderr",
     "output_type": "stream",
     "text": [
      "\n"
     ]
    },
    {
     "data": {
      "text/html": [
       "<div>\n",
       "<style scoped>\n",
       "    .dataframe tbody tr th:only-of-type {\n",
       "        vertical-align: middle;\n",
       "    }\n",
       "\n",
       "    .dataframe tbody tr th {\n",
       "        vertical-align: top;\n",
       "    }\n",
       "\n",
       "    .dataframe thead th {\n",
       "        text-align: right;\n",
       "    }\n",
       "</style>\n",
       "<table border=\"1\" class=\"dataframe\">\n",
       "  <thead>\n",
       "    <tr style=\"text-align: right;\">\n",
       "      <th></th>\n",
       "      <th>fight_id</th>\n",
       "      <th>pred_win_target</th>\n",
       "      <th>pred_win_target_logit</th>\n",
       "      <th>pred_win_target_finish</th>\n",
       "      <th>pred_win_target_finish_logit</th>\n",
       "    </tr>\n",
       "  </thead>\n",
       "  <tbody>\n",
       "    <tr>\n",
       "      <th>0</th>\n",
       "      <td>1991-09-26_2354059_2558095</td>\n",
       "      <td>0.500000</td>\n",
       "      <td>0.0000</td>\n",
       "      <td>0.500000</td>\n",
       "      <td>0.0000</td>\n",
       "    </tr>\n",
       "    <tr>\n",
       "      <th>1</th>\n",
       "      <td>1992-01-01_2354119_2501396</td>\n",
       "      <td>0.500000</td>\n",
       "      <td>0.0000</td>\n",
       "      <td>0.500000</td>\n",
       "      <td>0.0000</td>\n",
       "    </tr>\n",
       "    <tr>\n",
       "      <th>2</th>\n",
       "      <td>1993-08-29_2354132_3107994</td>\n",
       "      <td>0.500000</td>\n",
       "      <td>0.0000</td>\n",
       "      <td>0.500000</td>\n",
       "      <td>0.0000</td>\n",
       "    </tr>\n",
       "    <tr>\n",
       "      <th>3</th>\n",
       "      <td>1993-09-21_2335653_2557846</td>\n",
       "      <td>0.500000</td>\n",
       "      <td>0.0000</td>\n",
       "      <td>0.500000</td>\n",
       "      <td>0.0000</td>\n",
       "    </tr>\n",
       "    <tr>\n",
       "      <th>4</th>\n",
       "      <td>1993-10-14_2335653_2431322</td>\n",
       "      <td>0.471905</td>\n",
       "      <td>-0.1125</td>\n",
       "      <td>0.471905</td>\n",
       "      <td>-0.1125</td>\n",
       "    </tr>\n",
       "  </tbody>\n",
       "</table>\n",
       "</div>"
      ],
      "text/plain": [
       "                     fight_id  pred_win_target  pred_win_target_logit  \\\n",
       "0  1991-09-26_2354059_2558095         0.500000                 0.0000   \n",
       "1  1992-01-01_2354119_2501396         0.500000                 0.0000   \n",
       "2  1993-08-29_2354132_3107994         0.500000                 0.0000   \n",
       "3  1993-09-21_2335653_2557846         0.500000                 0.0000   \n",
       "4  1993-10-14_2335653_2431322         0.471905                -0.1125   \n",
       "\n",
       "   pred_win_target_finish  pred_win_target_finish_logit  \n",
       "0                0.500000                        0.0000  \n",
       "1                0.500000                        0.0000  \n",
       "2                0.500000                        0.0000  \n",
       "3                0.500000                        0.0000  \n",
       "4                0.471905                       -0.1125  "
      ]
     },
     "execution_count": 294,
     "metadata": {},
     "output_type": "execute_result"
    }
   ],
   "source": [
    "from model.mma_features import RealEloWrapper\n",
    "\n",
    "real_elo_target_cols = [\n",
    "#     \"fighter_result_time_left\", \n",
    "#     \"ml_logit_mvmt\",\n",
    "    # \"ordinal_fighter_result\",\n",
    "    # \"submission_fighter_result\",\n",
    "    # \"tko_ko_fighter_result\",\n",
    "    # \"decision_fighter_result\",\n",
    "    # \"finish_fighter_result\",\n",
    "]\n",
    "diff_elo_target_cols = [\n",
    "]\n",
    "\n",
    "binary_elo_target_cols = [\"win_target\", \"win_target_finish\"]\n",
    "\n",
    "elo_alphas = {\n",
    "    col: 0.45 for col in (real_elo_target_cols + diff_elo_target_cols)\n",
    "}\n",
    "# elo_alphas[\"ml_logit_mvmt\"] = 0.225\n",
    "\n",
    "real_ew = RealEloWrapper(elo_alphas=elo_alphas)\n",
    "real_elo_feat_df = real_ew.fit_transform_all(df)\n",
    "print(real_elo_feat_df.shape)\n",
    "real_elo_feat_df.head()\n",
    "\n",
    "elo_alphas = {\n",
    "    col: 0.45 for col in binary_elo_target_cols\n",
    "}\n",
    "bin_ew = BinaryEloWrapper(elo_alphas=elo_alphas)\n",
    "bin_elo_feat_df = bin_ew.fit_transform_all(df)\n",
    "print(bin_elo_feat_df.shape)\n",
    "bin_elo_feat_df.head()\n",
    "# feat_ml_df[\"log_height_diff\"] = np.log(feat_ml_df[\"imp_height\"]) - np.log(feat_ml_df[\"imp_height_opp\"])\n",
    "# feat_ml_df[\"log_age_diff\"] = np.log(feat_ml_df[\"age\"]) - np.log(feat_ml_df[\"age_opp\"])\n",
    "# feat_ml_df[\"log_reach_diff\"] = np.log(feat_ml_df[\"imp_reach\"]) - np.log(feat_ml_df[\"imp_reach_opp\"])\n",
    "# feat_ml_df[\"log_reach_diff\"] = feat_ml_df[\"log_reach_diff\"].fillna(0)"
   ]
  },
  {
   "cell_type": "code",
   "execution_count": 295,
   "metadata": {},
   "outputs": [],
   "source": [
    "feat_ml_df = df.merge(\n",
    "    pca_elo_feat_df, \n",
    "    how=\"left\", \n",
    "    on=[\"fight_id\"]\n",
    ").merge(\n",
    "    real_elo_feat_df,\n",
    "    how=\"left\",\n",
    "    on=[\"fight_id\"]\n",
    ").merge(\n",
    "    bin_elo_feat_df,\n",
    "    how=\"left\",\n",
    "    on=[\"fight_id\"]\n",
    ")"
   ]
  },
  {
   "cell_type": "code",
   "execution_count": 296,
   "metadata": {},
   "outputs": [
    {
     "data": {
      "text/plain": [
       "Index([], dtype='object')"
      ]
     },
     "execution_count": 296,
     "metadata": {},
     "output_type": "execute_result"
    }
   ],
   "source": [
    "feat_ml_df.columns[feat_ml_df.columns.str.lower().str.contains(\"t_since_last\")]"
   ]
  },
  {
   "cell_type": "code",
   "execution_count": 297,
   "metadata": {},
   "outputs": [
    {
     "name": "stderr",
     "output_type": "stream",
     "text": [
      "100%|██████████| 5143/5143 [00:38<00:00, 132.78it/s]\n"
     ]
    },
    {
     "name": "stdout",
     "output_type": "stream",
     "text": [
      "(65514, 15) (65514, 292)\n"
     ]
    }
   ],
   "source": [
    "from model.mma_elo_model import unknown_fighter_id\n",
    "from tqdm import tqdm\n",
    "\n",
    "\n",
    "def _get_simple_features(df):\n",
    "    # simple things that i needn't get from the fighter stats page\n",
    "    # eg number of fights, t_since_last_fight\n",
    "    df = df.assign(\n",
    "        is_ufc=df[\"Event\"].fillna(\"\").str.contains(\"UFC\"),\n",
    "        Date=pd.to_datetime(df[\"Date\"]),\n",
    "    )\n",
    "    df = df.sort_values(\"Date\")\n",
    "    fighters = set(df[\"FighterID_espn\"]) | set(df[\"OpponentID_espn\"])\n",
    "    total_fight_counter = pd.Series(0, index=sorted(fighters))\n",
    "    total_ufc_fight_counter = pd.Series(0, index=sorted(fighters))\n",
    "    last_fight_counter = pd.Series(pd.to_datetime(\"1900-01-01\"), index=sorted(fighters))\n",
    "    # arbitrary date to start with - like starting with np.inf\n",
    "    first_fight_dt_map = pd.Series(pd.to_datetime(\"2100-01-01\"), index=sorted(fighters))\n",
    "    feat_df_list = [] # concat this at the end\n",
    "    for curr_dt, grp in tqdm(df.groupby(\"Date\")):\n",
    "        fid_vec = grp[\"FighterID_espn\"]\n",
    "        oid_vec = grp[\"OpponentID_espn\"]\n",
    "        is_ufc = grp[\"is_ufc\"]\n",
    "        first_fight_dt_map[fid_vec] = np.minimum(pd.Series(curr_dt, index=fid_vec), \n",
    "                                                    first_fight_dt_map[fid_vec])\n",
    "        first_fight_dt_map[oid_vec] = np.minimum(pd.Series(curr_dt, index=oid_vec), \n",
    "                                                    first_fight_dt_map[oid_vec])\n",
    "        feat_df_list.append(pd.DataFrame({\n",
    "            \"FighterID_espn\":fid_vec,\n",
    "            \"OpponentID_espn\":oid_vec,\n",
    "            \"Date\":grp[\"Date\"],\n",
    "            \"total_fights\":fid_vec.map(total_fight_counter),\n",
    "            \"total_ufc_fights\":fid_vec.map(total_ufc_fight_counter),\n",
    "            \"t_since_last_fight\":(curr_dt - fid_vec.map(last_fight_counter)).dt.days,\n",
    "            # \"t_since_first_fight\":(curr_dt - fid_vec.map(first_fight_dt_map)).dt.days,\n",
    "            \"total_fights_opp\":oid_vec.map(total_fight_counter),\n",
    "            \"total_ufc_fights_opp\":oid_vec.map(total_ufc_fight_counter),\n",
    "            \"t_since_last_fight_opp\":(curr_dt - oid_vec.map(last_fight_counter)).dt.days,\n",
    "            # \"t_since_first_fight_opp\":(curr_dt - oid_vec.map(first_fight_dt_map)).dt.days,\n",
    "        }))\n",
    "        # if somehow this guy takes multiple fights in the same day,\n",
    "        # just count it as one fight. \n",
    "        total_fight_counter[fid_vec] += 1\n",
    "        total_fight_counter[oid_vec] += 1\n",
    "        last_fight_counter[fid_vec] = curr_dt\n",
    "        last_fight_counter[oid_vec] = curr_dt\n",
    "        ufc_grp = grp.loc[is_ufc]\n",
    "        total_ufc_fight_counter[ufc_grp[\"FighterID_espn\"]] += 1\n",
    "        total_ufc_fight_counter[ufc_grp[\"OpponentID_espn\"]] += 1\n",
    "        # make sure unknown_fighter_id stays unknown!\n",
    "        total_fight_counter[unknown_fighter_id] = 0\n",
    "        total_ufc_fight_counter[unknown_fighter_id] = 0\n",
    "        last_fight_counter[unknown_fighter_id] = pd.to_datetime(\"1900-01-01\")\n",
    "        first_fight_dt_map[unknown_fighter_id] = curr_dt\n",
    "    feat_df = pd.concat(feat_df_list)\n",
    "    # cap t_since_last_fight, which can go really long\n",
    "    # note that because last_fight_counter is initialized to a really early date,\n",
    "    # this will handle the case where total_fights=0\n",
    "    feat_df[\"t_since_last_fight\"] = np.minimum(2*365, feat_df[\"t_since_last_fight\"])\n",
    "    feat_df[\"t_since_last_fight_opp\"] = np.minimum(2*365, feat_df[\"t_since_last_fight_opp\"])\n",
    "    # compute diffs (idk how i want to --- this...)\n",
    "    feat_df[\"t_since_last_fight_diff\"] = (feat_df[\"t_since_last_fight\"] - \n",
    "                                            feat_df[\"t_since_last_fight_opp\"])\n",
    "    feat_df[\"t_since_last_fight_log_diff\"] = (np.log(feat_df[\"t_since_last_fight\"]) - \n",
    "                                                np.log(feat_df[\"t_since_last_fight_opp\"]))\n",
    "    feat_df[\"total_fights_diff\"] = (feat_df[\"total_fights\"] - \n",
    "                                    feat_df[\"total_fights_opp\"])\n",
    "    feat_df[\"total_fights_sqrt_diff\"] = (np.sqrt(feat_df[\"total_fights\"]) - \n",
    "                                        np.sqrt(feat_df[\"total_fights_opp\"]))\n",
    "    feat_df[\"total_ufc_fights_diff\"] = (feat_df[\"total_ufc_fights\"] - \n",
    "                                        feat_df[\"total_ufc_fights_opp\"])\n",
    "    feat_df[\"total_ufc_fights_sqrt_diff\"] = (np.sqrt(feat_df[\"total_ufc_fights\"]) - \n",
    "                                                np.sqrt(feat_df[\"total_ufc_fights_opp\"]))\n",
    "    # feat_df[\"t_since_first_fight_diff\"] = (feat_df[\"t_since_first_fight\"] -\n",
    "    #                                         feat_df[\"t_since_first_fight_opp\"])\n",
    "    # feat_df[\"t_since_first_fight_log_diff\"] = (np.log(feat_df[\"t_since_first_fight\"]) -\n",
    "    #                                             np.log(feat_df[\"t_since_first_fight_opp\"]))\n",
    "    return feat_df\n",
    "\n",
    "simple_feat_df = _get_simple_features(feat_ml_df)\n",
    "print(simple_feat_df.shape, feat_ml_df.shape)"
   ]
  },
  {
   "cell_type": "code",
   "execution_count": 298,
   "metadata": {},
   "outputs": [
    {
     "data": {
      "text/plain": [
       "Index(['FighterName', 'OpponentName', 'FighterName_ufc', 'OpponentName_ufc',\n",
       "       'FighterName_bfo', 'OpponentName_bfo'],\n",
       "      dtype='object')"
      ]
     },
     "execution_count": 298,
     "metadata": {},
     "output_type": "execute_result"
    }
   ],
   "source": [
    "feat_ml_df.columns[feat_ml_df.columns.str.contains(\"Name\")]"
   ]
  },
  {
   "cell_type": "code",
   "execution_count": 486,
   "metadata": {},
   "outputs": [
    {
     "data": {
      "text/plain": [
       "['pred_PC_0',\n",
       " 'pred_PC_1',\n",
       " 'pred_PC_2',\n",
       " 'pred_PC_3',\n",
       " 'pred_PC_4',\n",
       " 'pred_PC_5',\n",
       " 'pred_PC_6',\n",
       " 'pred_PC_7',\n",
       " 'pred_PC_8',\n",
       " 'pred_PC_9',\n",
       " 'pred_PC_10',\n",
       " 'pred_PC_11',\n",
       " 'pred_PC_12',\n",
       " 'pred_PC_13',\n",
       " 'pred_win_target',\n",
       " 'pred_win_target_finish',\n",
       " 'age_diff',\n",
       " 'log_reach_diff',\n",
       " 'weight_diff',\n",
       " 'height_diff',\n",
       " 'log_t_since_prev_fight_diff']"
      ]
     },
     "execution_count": 486,
     "metadata": {},
     "output_type": "execute_result"
    }
   ],
   "source": [
    "feat_ml_df = feat_ml_df.merge(\n",
    "    simple_feat_df, \n",
    "    how=\"left\",\n",
    "    on=[\"FighterID_espn\", \"OpponentID_espn\", \"Date\"]\n",
    ")\n",
    "\n",
    "feat_ml_df[\"age_diff\"] = (feat_ml_df[\"DOB\"] - feat_ml_df[\"DOB_opp\"]).dt.days / 365\n",
    "feat_ml_df[\"age_diff\"] = feat_ml_df[\"age_diff\"].fillna(0)\n",
    "\n",
    "feat_ml_df[\"log_reach_diff\"] = (\n",
    "    np.log(feat_ml_df[\"ReachInches\"]) - np.log(feat_ml_df[\"ReachInches_opp\"])\n",
    ").fillna(0)\n",
    "feat_ml_df[\"weight_diff\"] = (\n",
    "    feat_ml_df[\"min_weight\"] - feat_ml_df[\"min_weight_opp\"]\n",
    ").fillna(0)\n",
    "feat_ml_df[\"height_diff\"] = (\n",
    "    feat_ml_df[\"HeightInches\"] - feat_ml_df[\"HeightInches_opp\"]\n",
    ").fillna(0)\n",
    "# feat_ml_df[\"reach_diff\"] = feat_ml_df[\"imp_reach\"] - feat_ml_df[\"imp_reach_opp\"]\n",
    "# feat_ml_df[\"log_reach_diff\"] = np.log(feat_ml_df[\"imp_reach\"]) - np.log(feat_ml_df[\"imp_reach_opp\"])\n",
    "# feat_ml_df[\"weight_diff\"] = feat_ml_df[\"imp_weight\"] - feat_ml_df[\"imp_weight_opp\"]\n",
    "# feat_ml_df[\"log_weight_diff\"] = np.log(feat_ml_df[\"imp_weight\"]) - np.log(feat_ml_df[\"imp_weight_opp\"])\n",
    "# feat_ml_df[\"height_diff\"] = feat_ml_df[\"imp_height\"] - feat_ml_df[\"imp_height_opp\"]\n",
    "\n",
    "feat_ml_df[\"t_since_first_fight_diff\"] = (\n",
    "    feat_ml_df[\"t_since_first_fight\"] - feat_ml_df[\"t_since_first_fight_opp\"]\n",
    ").fillna(0)\n",
    "feat_ml_df[\"log_t_since_first_fight_diff\"] = (\n",
    "    np.log(1 + feat_ml_df[\"t_since_first_fight\"]) - \n",
    "    np.log(1 + feat_ml_df[\"t_since_first_fight_opp\"])\n",
    ").fillna(0)\n",
    "\n",
    "feat_ml_df[\"log_t_since_prev_fight_diff\"] = (\n",
    "    np.log(1 + feat_ml_df[\"t_since_prev_fight\"]) -\n",
    "    np.log(1 + feat_ml_df[\"t_since_prev_fight_opp\"])\n",
    ").fillna(0)\n",
    "\n",
    "# money line features\n",
    "# feat_ml_df[\"ml_mvmt\"] = \n",
    "#         .str.replace(\"▼\", \"\").str.replace(\"▲\", \"\").astype(float)\n",
    "# ml_increased = feat_ml_df[\"DraftKings_fighter\"].str.endswith(\"▲\")\n",
    "# ml_decreased = feat_ml_df[\"DraftKings_fighter\"].str.endswith(\"▼\")\n",
    "# feat_ml_df[\"ml_mvmt\"] =(\n",
    "#     ml_increased.fillna(0).astype(int) - \n",
    "#     ml_decreased.fillna(0).astype(int)\n",
    "# )\n",
    "\n",
    "feat_ml_df[\"is_main_event\"] = feat_ml_df[\"fight_rank_on_card\"] == 1\n",
    "\n",
    "\n",
    "\n",
    "real_elo_target_cols = [\n",
    "#     \"fighter_result_time_left\", \n",
    "#     \"ml_logit_mvmt\",\n",
    "#     \"ordinal_fighter_result\",\n",
    "#     \"submission_fighter_result\",\n",
    "#     \"tko_ko_fighter_result\",\n",
    "#     \"decision_fighter_result\",\n",
    "    # \"finish_fighter_result\",\n",
    "    # *[col for col in stat_pca_df.columns \n",
    "    #   if col not in [\"FighterID_espn\", \"OpponentID_espn\", \"Date\"]],\n",
    "]\n",
    "\n",
    "feat_cols = [\n",
    "    # *[f\"pred_PC_{i}\" for i in range(n_pca)],\n",
    "'pred_PC_0',\n",
    " 'pred_PC_1',\n",
    " 'pred_PC_2',\n",
    " 'pred_PC_3',\n",
    " 'pred_PC_4',\n",
    " 'pred_PC_5',\n",
    " 'pred_PC_6',\n",
    " 'pred_PC_7',\n",
    " 'pred_PC_8',\n",
    " 'pred_PC_9',\n",
    " 'pred_PC_10',\n",
    " 'pred_PC_11',\n",
    " 'pred_PC_12',\n",
    " 'pred_PC_13',\n",
    "\n",
    "    *[\"pred_\"+c for c in [*diff_elo_target_cols, \n",
    "                               *real_elo_target_cols, \n",
    "                               *binary_elo_target_cols]],\n",
    "    \n",
    "    # \"t_since_last_fight_log_diff\", \n",
    "#     \"fights_per_day_diff\",\n",
    "#     \"t_since_last_fight_diff\",\n",
    "#     \"total_fights_sqrt_diff\", \n",
    "#     \"total_ufc_fights_diff\",\n",
    "    \n",
    "    \"age_diff\", \n",
    "#     \"log_age_diff\",\n",
    "#     \"reach_diff\", \n",
    "    \"log_reach_diff\",\n",
    "    \"weight_diff\", \n",
    "#     \"log_weight_diff\",\n",
    "    \"height_diff\",\n",
    "#     \"log_height_diff\",\n",
    "#     \"ml_logit_mvmt\",\n",
    "    \"log_t_since_prev_fight_diff\",\n",
    "#     \"quad_log_t_since_first_fight_diff\",\n",
    "\n",
    "    # \"ml_mvmt\",\n",
    "]\n",
    "\n",
    "# new_feat_cols = [*feat_cols, \"ml_logit\"]\n",
    "feat_cols"
   ]
  },
  {
   "cell_type": "code",
   "execution_count": 487,
   "metadata": {},
   "outputs": [
    {
     "data": {
      "text/plain": [
       "pred_PC_0                      65514\n",
       "pred_PC_1                      65514\n",
       "pred_PC_2                      65514\n",
       "pred_PC_3                      65514\n",
       "pred_PC_4                      65514\n",
       "pred_PC_5                      65514\n",
       "pred_PC_6                      65514\n",
       "pred_PC_7                      65514\n",
       "pred_PC_8                      65514\n",
       "pred_PC_9                      65514\n",
       "pred_PC_10                     65514\n",
       "pred_PC_11                     65514\n",
       "pred_PC_12                     65514\n",
       "pred_PC_13                     65514\n",
       "pred_win_target                65514\n",
       "pred_win_target_finish         65514\n",
       "age_diff                       65514\n",
       "log_reach_diff                 65514\n",
       "weight_diff                    65514\n",
       "height_diff                    65514\n",
       "log_t_since_prev_fight_diff    65514\n",
       "dtype: int64"
      ]
     },
     "execution_count": 487,
     "metadata": {},
     "output_type": "execute_result"
    }
   ],
   "source": [
    "feat_ml_df[feat_cols].notnull().sum()"
   ]
  },
  {
   "cell_type": "code",
   "execution_count": 488,
   "metadata": {},
   "outputs": [
    {
     "data": {
      "text/plain": [
       "0.9988552065207437"
      ]
     },
     "execution_count": 488,
     "metadata": {},
     "output_type": "execute_result"
    }
   ],
   "source": [
    "feat_ml_df[\"finish_fighter_result\"].notnull().mean()"
   ]
  },
  {
   "cell_type": "code",
   "execution_count": 489,
   "metadata": {},
   "outputs": [
    {
     "data": {
      "text/plain": [
       "65514"
      ]
     },
     "execution_count": 489,
     "metadata": {},
     "output_type": "execute_result"
    }
   ],
   "source": [
    "feat_ml_df[[\"pred_PC_0\", \"pred_PC_1\", \n",
    "            \"pred_win_target_finish\"]].notnull().all(1).sum()"
   ]
  },
  {
   "cell_type": "code",
   "execution_count": 490,
   "metadata": {},
   "outputs": [
    {
     "data": {
      "text/plain": [
       "65514"
      ]
     },
     "execution_count": 490,
     "metadata": {},
     "output_type": "execute_result"
    }
   ],
   "source": [
    "feat_ml_df[feat_cols].notnull().all(1).sum()"
   ]
  },
  {
   "cell_type": "code",
   "execution_count": 491,
   "metadata": {},
   "outputs": [],
   "source": [
    "from model.mma_log_reg_stan import SimpleSymmetricModel\n",
    "\n",
    "mod = SimpleSymmetricModel(feat_cols=feat_cols, target_col=\"win_target\", \n",
    "                           p_fighter_implied_col=\"FighterOpen_implied_prob\",\n",
    "                        # p_fighter_implied_col=\"p_fighter_open_implied\",\n",
    "                        #    beta_prior_std=1.0, \n",
    "                            beta_prior_std=0.1,\n",
    "                           mcmc=False)\n",
    "# y_hat = mod.fit_predict(train_df, test_df)\n",
    "# y_hat.shape"
   ]
  },
  {
   "cell_type": "code",
   "execution_count": 492,
   "metadata": {},
   "outputs": [
    {
     "data": {
      "text/plain": [
       "Index(['p_fighter_open_implied', 'p_fighter_close_implied'], dtype='object')"
      ]
     },
     "execution_count": 492,
     "metadata": {},
     "output_type": "execute_result"
    }
   ],
   "source": [
    "feat_ml_df.columns[feat_ml_df.columns.str.contains(\"p_fighter\")]"
   ]
  },
  {
   "cell_type": "code",
   "execution_count": 493,
   "metadata": {},
   "outputs": [
    {
     "name": "stdout",
     "output_type": "stream",
     "text": [
      "training on date range: 2021-06-12 2021-06-12\n",
      "Initial log joint probability = -1300.85\n",
      "    Iter      log prob        ||dx||      ||grad||       alpha      alpha0  # evals  Notes \n",
      "       5      -2.94983   3.27843e-05   1.10771e-05           1           1        6   \n",
      "Optimization terminated normally: \n",
      "  Convergence detected: relative gradient magnitude is below tolerance\n",
      "training on date range: 2021-06-12 2021-06-19\n",
      "Initial log joint probability = -1821.17\n",
      "    Iter      log prob        ||dx||      ||grad||       alpha      alpha0  # evals  Notes \n",
      "       5      -7.96722   0.000341387   0.000496407           1           1        6   \n",
      "Optimization terminated normally: \n",
      "  Convergence detected: relative gradient magnitude is below tolerance\n",
      "training on date range: 2021-06-12 2021-06-26\n",
      "Initial log joint probability = -977.092\n",
      "    Iter      log prob        ||dx||      ||grad||       alpha      alpha0  # evals  Notes \n",
      "       5      -10.4341   0.000184548   0.000377979           1           1        6   \n",
      "Optimization terminated normally: \n",
      "  Convergence detected: relative gradient magnitude is below tolerance\n",
      "training on date range: 2021-06-12 2021-07-10\n",
      "Initial log joint probability = -1407.34\n",
      "    Iter      log prob        ||dx||      ||grad||       alpha      alpha0  # evals  Notes \n",
      "       5      -12.9464   0.000317604   0.000982863           1           1        6   \n",
      "Optimization terminated normally: \n",
      "  Convergence detected: relative gradient magnitude is below tolerance\n",
      "training on date range: 2021-06-12 2021-07-17\n",
      "Initial log joint probability = -1478.97\n",
      "    Iter      log prob        ||dx||      ||grad||       alpha      alpha0  # evals  Notes \n",
      "       5      -15.2658   0.000620988    0.00185644           1           1        6   \n",
      "Optimization terminated normally: \n",
      "  Convergence detected: relative gradient magnitude is below tolerance\n",
      "training on date range: 2021-06-12 2021-07-24\n",
      "Initial log joint probability = -1709.66\n",
      "    Iter      log prob        ||dx||      ||grad||       alpha      alpha0  # evals  Notes \n",
      "       5      -20.1605   0.000894931    0.00205273           1           1        6   \n",
      "Optimization terminated normally: \n",
      "  Convergence detected: relative gradient magnitude is below tolerance\n",
      "training on date range: 2021-06-12 2021-07-31\n",
      "Initial log joint probability = -1244.61\n",
      "    Iter      log prob        ||dx||      ||grad||       alpha      alpha0  # evals  Notes \n",
      "       6      -21.8776   3.37504e-05   0.000343463           1           1        7   \n",
      "Optimization terminated normally: \n",
      "  Convergence detected: relative gradient magnitude is below tolerance\n",
      "training on date range: 2021-06-12 2021-08-07\n",
      "Initial log joint probability = -2076.7\n",
      "    Iter      log prob        ||dx||      ||grad||       alpha      alpha0  # evals  Notes \n",
      "       6      -26.7425   3.57786e-05    0.00037782           1           1        7   \n",
      "Optimization terminated normally: \n",
      "  Convergence detected: relative gradient magnitude is below tolerance\n",
      "training on date range: 2021-06-12 2021-08-21\n",
      "Initial log joint probability = -1761.23\n",
      "    Iter      log prob        ||dx||      ||grad||       alpha      alpha0  # evals  Notes \n",
      "       6       -28.912   4.59987e-05    0.00047192           1           1        7   \n",
      "Optimization terminated normally: \n",
      "  Convergence detected: relative gradient magnitude is below tolerance\n",
      "training on date range: 2021-06-12 2021-08-28\n",
      "Initial log joint probability = -1723.5\n",
      "    Iter      log prob        ||dx||      ||grad||       alpha      alpha0  # evals  Notes \n",
      "       7      -33.5864   4.06675e-05   0.000101953           1           1        8   \n",
      "Optimization terminated normally: \n",
      "  Convergence detected: relative gradient magnitude is below tolerance\n",
      "training on date range: 2021-06-12 2021-09-04\n",
      "Initial log joint probability = -1809.26\n",
      "    Iter      log prob        ||dx||      ||grad||       alpha      alpha0  # evals  Notes \n",
      "       6      -36.7795   0.000169501    0.00270141           1           1        7   \n",
      "Optimization terminated normally: \n",
      "  Convergence detected: relative gradient magnitude is below tolerance\n",
      "training on date range: 2021-06-12 2021-09-18\n",
      "Initial log joint probability = -2322.91\n",
      "    Iter      log prob        ||dx||      ||grad||       alpha      alpha0  # evals  Notes \n",
      "       6      -41.5345   0.000125627    0.00139558           1           1        7   \n",
      "Optimization terminated normally: \n",
      "  Convergence detected: relative gradient magnitude is below tolerance\n",
      "training on date range: 2021-06-12 2021-09-25\n",
      "Initial log joint probability = -1792.13\n",
      "    Iter      log prob        ||dx||      ||grad||       alpha      alpha0  # evals  Notes \n",
      "       7      -45.1721   3.94755e-05   0.000507878           1           1        8   \n",
      "Optimization terminated normally: \n",
      "  Convergence detected: relative gradient magnitude is below tolerance\n",
      "training on date range: 2021-06-12 2021-10-02\n",
      "Initial log joint probability = -1794.44\n",
      "    Iter      log prob        ||dx||      ||grad||       alpha      alpha0  # evals  Notes \n",
      "       7      -46.4092   0.000101607   0.000309482           1           1        8   \n",
      "Optimization terminated normally: \n",
      "  Convergence detected: relative gradient magnitude is below tolerance\n",
      "training on date range: 2021-06-12 2021-10-09\n",
      "Initial log joint probability = -2082.13\n",
      "    Iter      log prob        ||dx||      ||grad||       alpha      alpha0  # evals  Notes \n",
      "       7      -47.8737   5.63047e-05   0.000460178           1           1        8   \n",
      "Optimization terminated normally: \n",
      "  Convergence detected: relative gradient magnitude is below tolerance\n",
      "training on date range: 2021-06-12 2021-10-16\n",
      "Initial log joint probability = -1550\n",
      "    Iter      log prob        ||dx||      ||grad||       alpha      alpha0  # evals  Notes \n",
      "       6      -49.1521    0.00044909    0.00279766           1           1        7   \n",
      "Optimization terminated normally: \n",
      "  Convergence detected: relative gradient magnitude is below tolerance\n",
      "training on date range: 2021-06-12 2021-10-23\n",
      "Initial log joint probability = -1234.55\n",
      "    Iter      log prob        ||dx||      ||grad||       alpha      alpha0  # evals  Notes \n",
      "       7      -53.5274   0.000138597   0.000517214           1           1        8   \n",
      "Optimization terminated normally: \n",
      "  Convergence detected: relative gradient magnitude is below tolerance\n",
      "training on date range: 2021-06-12 2021-10-30\n",
      "Initial log joint probability = -918.562\n",
      "    Iter      log prob        ||dx||      ||grad||       alpha      alpha0  # evals  Notes \n",
      "       7       -55.098   5.05471e-05   0.000267203           1           1        8   \n",
      "Optimization terminated normally: \n",
      "  Convergence detected: relative gradient magnitude is below tolerance\n",
      "training on date range: 2021-06-12 2021-11-06\n",
      "Initial log joint probability = -1432.82\n",
      "    Iter      log prob        ||dx||      ||grad||       alpha      alpha0  # evals  Notes \n",
      "       6      -55.9841   9.59563e-05    0.00170456           1           1        7   \n",
      "Optimization terminated normally: \n",
      "  Convergence detected: relative gradient magnitude is below tolerance\n",
      "training on date range: 2021-06-12 2021-11-13\n",
      "Initial log joint probability = -2167.85\n",
      "    Iter      log prob        ||dx||      ||grad||       alpha      alpha0  # evals  Notes \n",
      "       7      -60.2401   0.000110383   0.000756141           1           1        8   \n",
      "Optimization terminated normally: \n",
      "  Convergence detected: relative gradient magnitude is below tolerance\n",
      "training on date range: 2021-06-12 2021-11-20\n",
      "Initial log joint probability = -1699.54\n",
      "    Iter      log prob        ||dx||      ||grad||       alpha      alpha0  # evals  Notes \n",
      "       7      -60.7712   7.98048e-05   0.000778339           1           1        8   \n",
      "Optimization terminated normally: \n",
      "  Convergence detected: relative gradient magnitude is below tolerance\n",
      "training on date range: 2021-06-12 2021-12-04\n",
      "Initial log joint probability = -1824.84\n",
      "    Iter      log prob        ||dx||      ||grad||       alpha      alpha0  # evals  Notes \n",
      "       7      -66.0558   0.000109956    0.00167871           1           1        8   \n",
      "Optimization terminated normally: \n",
      "  Convergence detected: relative gradient magnitude is below tolerance\n",
      "training on date range: 2021-06-12 2021-12-11\n",
      "Initial log joint probability = -1966.8\n",
      "    Iter      log prob        ||dx||      ||grad||       alpha      alpha0  # evals  Notes \n",
      "       7       -70.236    0.00032167    0.00130591           1           1        8   \n",
      "Optimization terminated normally: \n",
      "  Convergence detected: relative gradient magnitude is below tolerance\n",
      "training on date range: 2021-06-12 2021-12-18\n",
      "Initial log joint probability = -1587.94\n",
      "    Iter      log prob        ||dx||      ||grad||       alpha      alpha0  # evals  Notes \n",
      "       7       -74.139   5.58034e-05   0.000535971           1           1        8   \n",
      "Optimization terminated normally: \n",
      "  Convergence detected: relative gradient magnitude is below tolerance\n",
      "training on date range: 2021-06-12 2022-01-15\n",
      "Initial log joint probability = -2009.53\n",
      "    Iter      log prob        ||dx||      ||grad||       alpha      alpha0  # evals  Notes \n",
      "       7      -77.6518   0.000137809    0.00273813           1           1        8   \n",
      "Optimization terminated normally: \n",
      "  Convergence detected: relative gradient magnitude is below tolerance\n",
      "training on date range: 2021-06-12 2022-01-22\n",
      "Initial log joint probability = -1838.33\n",
      "    Iter      log prob        ||dx||      ||grad||       alpha      alpha0  # evals  Notes \n",
      "       7      -81.9542   0.000362955    0.00175311           1           1        8   \n",
      "Optimization terminated normally: \n",
      "  Convergence detected: relative gradient magnitude is below tolerance\n",
      "training on date range: 2021-06-12 2022-02-05\n",
      "Initial log joint probability = -1870.32\n",
      "    Iter      log prob        ||dx||      ||grad||       alpha      alpha0  # evals  Notes \n",
      "       7      -86.2462   0.000294252    0.00249904           1           1        8   \n",
      "Optimization terminated normally: \n",
      "  Convergence detected: relative gradient magnitude is below tolerance\n",
      "training on date range: 2021-06-12 2022-02-12\n",
      "Initial log joint probability = -2348.91\n",
      "    Iter      log prob        ||dx||      ||grad||       alpha      alpha0  # evals  Notes \n",
      "       7      -89.3221   0.000228792    0.00202563           1           1        8   \n",
      "Optimization terminated normally: \n",
      "  Convergence detected: relative gradient magnitude is below tolerance\n",
      "training on date range: 2021-06-12 2022-02-19\n",
      "Initial log joint probability = -1975.94\n",
      "    Iter      log prob        ||dx||      ||grad||       alpha      alpha0  # evals  Notes \n",
      "       7      -93.5642   0.000706249    0.00406279           1           1        8   \n",
      "Optimization terminated normally: \n",
      "  Convergence detected: relative gradient magnitude is below tolerance\n",
      "training on date range: 2021-06-12 2022-02-26\n",
      "Initial log joint probability = -2193.47\n",
      "    Iter      log prob        ||dx||      ||grad||       alpha      alpha0  # evals  Notes \n",
      "       8      -97.0717   7.04205e-05    0.00253072      0.8313      0.8313        9   \n",
      "Optimization terminated normally: \n",
      "  Convergence detected: relative gradient magnitude is below tolerance\n",
      "training on date range: 2021-06-12 2022-03-05\n",
      "Initial log joint probability = -1543.5\n",
      "    Iter      log prob        ||dx||      ||grad||       alpha      alpha0  # evals  Notes \n",
      "       8      -99.2296   6.34399e-05    0.00155274      0.9972      0.9972        9   \n",
      "Optimization terminated normally: \n",
      "  Convergence detected: relative gradient magnitude is below tolerance\n",
      "training on date range: 2021-06-12 2022-03-12\n",
      "Initial log joint probability = -2305.17\n",
      "    Iter      log prob        ||dx||      ||grad||       alpha      alpha0  # evals  Notes \n",
      "       8      -106.763   4.46458e-05   0.000908981      0.9992      0.9992        9   \n",
      "Optimization terminated normally: \n",
      "  Convergence detected: relative gradient magnitude is below tolerance\n",
      "training on date range: 2021-06-12 2022-03-19\n",
      "Initial log joint probability = -2498.08\n",
      "    Iter      log prob        ||dx||      ||grad||       alpha      alpha0  # evals  Notes \n",
      "       8      -108.969   8.76988e-05    0.00591297      0.7521      0.7521        9   \n",
      "Optimization terminated normally: \n",
      "  Convergence detected: relative gradient magnitude is below tolerance\n",
      "training on date range: 2021-06-12 2022-03-26\n",
      "Initial log joint probability = -2101.03\n",
      "    Iter      log prob        ||dx||      ||grad||       alpha      alpha0  # evals  Notes \n",
      "       8      -112.525   8.82534e-05    0.00120501      0.9038      0.9038        9   \n",
      "Optimization terminated normally: \n",
      "  Convergence detected: relative gradient magnitude is below tolerance\n",
      "training on date range: 2021-06-12 2022-04-09\n",
      "Initial log joint probability = -1746.93\n",
      "    Iter      log prob        ||dx||      ||grad||       alpha      alpha0  # evals  Notes \n",
      "       8      -116.277   5.86737e-05    0.00152385      0.9934      0.9934        9   \n",
      "Optimization terminated normally: \n",
      "  Convergence detected: relative gradient magnitude is below tolerance\n",
      "training on date range: 2021-06-12 2022-04-16\n",
      "Initial log joint probability = -1526.8\n",
      "    Iter      log prob        ||dx||      ||grad||       alpha      alpha0  # evals  Notes \n",
      "       8      -117.197   7.81873e-05    0.00267401       0.982       0.982        9   \n",
      "Optimization terminated normally: \n",
      "  Convergence detected: relative gradient magnitude is below tolerance\n",
      "training on date range: 2021-06-12 2022-04-23\n",
      "Initial log joint probability = -2062.11\n",
      "    Iter      log prob        ||dx||      ||grad||       alpha      alpha0  # evals  Notes \n",
      "       8      -120.848    0.00012146    0.00174906      0.8883      0.8883        9   \n",
      "Optimization terminated normally: \n",
      "  Convergence detected: relative gradient magnitude is below tolerance\n",
      "training on date range: 2021-06-12 2022-04-30\n",
      "Initial log joint probability = -2302.07\n",
      "    Iter      log prob        ||dx||      ||grad||       alpha      alpha0  # evals  Notes \n",
      "       8       -123.57   8.88189e-05    0.00416108      0.7866      0.7866        9   \n",
      "Optimization terminated normally: \n",
      "  Convergence detected: relative gradient magnitude is below tolerance\n",
      "training on date range: 2021-06-12 2022-05-07\n",
      "Initial log joint probability = -1632.66\n",
      "    Iter      log prob        ||dx||      ||grad||       alpha      alpha0  # evals  Notes \n",
      "       8      -127.502   5.13663e-05   0.000956433      0.9124      0.9124        9   \n",
      "Optimization terminated normally: \n",
      "  Convergence detected: relative gradient magnitude is below tolerance\n",
      "training on date range: 2021-06-12 2022-05-14\n",
      "Initial log joint probability = -1994.09\n",
      "    Iter      log prob        ||dx||      ||grad||       alpha      alpha0  # evals  Notes \n",
      "       8      -131.384   0.000158632    0.00659801       0.997       0.997        9   \n",
      "Optimization terminated normally: \n",
      "  Convergence detected: relative gradient magnitude is below tolerance\n",
      "training on date range: 2021-06-12 2022-05-21\n",
      "Initial log joint probability = -2333.46\n",
      "    Iter      log prob        ||dx||      ||grad||       alpha      alpha0  # evals  Notes \n",
      "       9       -132.94   3.73435e-05    0.00246645      0.7555      0.7555       10   \n",
      "Optimization terminated normally: \n",
      "  Convergence detected: relative gradient magnitude is below tolerance\n",
      "training on date range: 2021-06-12 2022-06-04\n",
      "Initial log joint probability = -2452.41\n",
      "    Iter      log prob        ||dx||      ||grad||       alpha      alpha0  # evals  Notes \n",
      "       9      -135.009   4.58436e-05    0.00267653      0.7557      0.7557       10   \n",
      "Optimization terminated normally: \n",
      "  Convergence detected: relative gradient magnitude is below tolerance\n",
      "training on date range: 2021-06-12 2022-06-11\n",
      "Initial log joint probability = -2203.14\n",
      "    Iter      log prob        ||dx||      ||grad||       alpha      alpha0  # evals  Notes \n",
      "       8      -143.335   7.05588e-05    0.00371267      0.8595      0.8595        9   \n",
      "Optimization terminated normally: \n",
      "  Convergence detected: relative gradient magnitude is below tolerance\n",
      "training on date range: 2021-06-12 2022-06-18\n",
      "Initial log joint probability = -1866.06\n",
      "    Iter      log prob        ||dx||      ||grad||       alpha      alpha0  # evals  Notes \n",
      "       8      -147.794   0.000169176    0.00758457      0.9631      0.9631        9   \n",
      "Optimization terminated normally: \n",
      "  Convergence detected: relative gradient magnitude is below tolerance\n",
      "training on date range: 2021-06-12 2022-06-25\n",
      "Initial log joint probability = -1994.97\n",
      "    Iter      log prob        ||dx||      ||grad||       alpha      alpha0  # evals  Notes \n",
      "       8      -151.276   0.000115774    0.00378684      0.8459      0.8459        9   \n",
      "Optimization terminated normally: \n",
      "  Convergence detected: relative gradient magnitude is below tolerance\n",
      "training on date range: 2021-06-12 2022-07-02\n",
      "Initial log joint probability = -1743\n",
      "    Iter      log prob        ||dx||      ||grad||       alpha      alpha0  # evals  Notes \n",
      "       8      -153.543   0.000153567    0.00464274      0.8706      0.8706        9   \n",
      "Optimization terminated normally: \n",
      "  Convergence detected: relative gradient magnitude is below tolerance\n",
      "training on date range: 2021-06-12 2022-07-09\n",
      "Initial log joint probability = -2221.62\n",
      "    Iter      log prob        ||dx||      ||grad||       alpha      alpha0  # evals  Notes \n",
      "       9      -158.117   5.41955e-05    0.00290022      0.8033      0.8033       10   \n",
      "Optimization terminated normally: \n",
      "  Convergence detected: relative gradient magnitude is below tolerance\n",
      "training on date range: 2021-06-12 2022-07-16\n",
      "Initial log joint probability = -2634.17\n",
      "    Iter      log prob        ||dx||      ||grad||       alpha      alpha0  # evals  Notes \n",
      "       9      -161.396   3.95628e-05    0.00257657      0.7607      0.7607       10   \n",
      "Optimization terminated normally: \n",
      "  Convergence detected: relative gradient magnitude is below tolerance\n",
      "training on date range: 2021-06-12 2022-07-23\n",
      "Initial log joint probability = -2097.95\n",
      "    Iter      log prob        ||dx||      ||grad||       alpha      alpha0  # evals  Notes \n",
      "       9      -163.685   0.000147133    0.00159095           1           1       10   \n",
      "Optimization terminated normally: \n",
      "  Convergence detected: relative gradient magnitude is below tolerance\n",
      "training on date range: 2021-06-12 2022-07-30\n",
      "Initial log joint probability = -1969.83\n",
      "    Iter      log prob        ||dx||      ||grad||       alpha      alpha0  # evals  Notes \n",
      "       9      -167.331   8.97739e-05    0.00674305      0.7483      0.7483       10   \n",
      "Optimization terminated normally: \n",
      "  Convergence detected: relative gradient magnitude is below tolerance\n",
      "training on date range: 2021-06-12 2022-08-06\n",
      "Initial log joint probability = -2008.35\n",
      "    Iter      log prob        ||dx||      ||grad||       alpha      alpha0  # evals  Notes \n",
      "       9      -169.812   0.000107139    0.00257998           1           1       10   \n",
      "Optimization terminated normally: \n",
      "  Convergence detected: relative gradient magnitude is below tolerance\n",
      "training on date range: 2021-06-12 2022-08-13\n",
      "Initial log joint probability = -1534.69\n",
      "    Iter      log prob        ||dx||      ||grad||       alpha      alpha0  # evals  Notes \n",
      "       9      -173.847   4.47776e-05    0.00495561      0.6896      0.6896       10   \n",
      "Optimization terminated normally: \n",
      "  Convergence detected: relative gradient magnitude is below tolerance\n",
      "training on date range: 2021-06-12 2022-08-20\n",
      "Initial log joint probability = -1898.45\n",
      "    Iter      log prob        ||dx||      ||grad||       alpha      alpha0  # evals  Notes \n",
      "      10      -176.917    6.9144e-05   0.000857928           1           1       11   \n",
      "Optimization terminated normally: \n",
      "  Convergence detected: relative gradient magnitude is below tolerance\n",
      "training on date range: 2021-06-12 2022-09-03\n",
      "Initial log joint probability = -2116.56\n",
      "    Iter      log prob        ||dx||      ||grad||       alpha      alpha0  # evals  Notes \n",
      "       9      -179.658   5.74299e-05    0.00177727           1           1       10   \n",
      "Optimization terminated normally: \n",
      "  Convergence detected: relative gradient magnitude is below tolerance\n",
      "training on date range: 2021-06-12 2022-09-10\n",
      "Initial log joint probability = -2185.02\n",
      "    Iter      log prob        ||dx||      ||grad||       alpha      alpha0  # evals  Notes \n",
      "       9      -186.789   5.79387e-05    0.00193626      0.9571      0.9571       10   \n",
      "Optimization terminated normally: \n",
      "  Convergence detected: relative gradient magnitude is below tolerance\n",
      "training on date range: 2021-06-12 2022-09-17\n",
      "Initial log joint probability = -2308.61\n",
      "    Iter      log prob        ||dx||      ||grad||       alpha      alpha0  # evals  Notes \n",
      "       9      -190.648   0.000124241     0.0033086           1           1       10   \n",
      "Optimization terminated normally: \n",
      "  Convergence detected: relative gradient magnitude is below tolerance\n",
      "training on date range: 2021-06-12 2022-10-01\n",
      "Initial log joint probability = -1652.48\n",
      "    Iter      log prob        ||dx||      ||grad||       alpha      alpha0  # evals  Notes \n",
      "      10      -194.085    5.4255e-05   0.000454261           1           1       11   \n",
      "Optimization terminated normally: \n",
      "  Convergence detected: relative gradient magnitude is below tolerance\n",
      "training on date range: 2021-06-12 2022-10-15\n",
      "Initial log joint probability = -1807.01\n",
      "    Iter      log prob        ||dx||      ||grad||       alpha      alpha0  # evals  Notes \n",
      "       9      -197.121   0.000217131      0.001951           1           1       10   \n",
      "Optimization terminated normally: \n",
      "  Convergence detected: relative gradient magnitude is below tolerance\n",
      "training on date range: 2021-06-12 2022-10-22\n",
      "Initial log joint probability = -2408.34\n",
      "    Iter      log prob        ||dx||      ||grad||       alpha      alpha0  # evals  Notes \n",
      "       9      -199.902   0.000159193    0.00432464       0.899       0.899       10   \n",
      "Optimization terminated normally: \n",
      "  Convergence detected: relative gradient magnitude is below tolerance\n",
      "training on date range: 2021-06-12 2022-10-29\n",
      "Initial log joint probability = -1598.24\n",
      "    Iter      log prob        ||dx||      ||grad||       alpha      alpha0  # evals  Notes \n",
      "       9      -203.078    0.00017506     0.0026435           1           1       10   \n",
      "Optimization terminated normally: \n",
      "  Convergence detected: relative gradient magnitude is below tolerance\n",
      "training on date range: 2021-06-12 2022-11-05\n",
      "Initial log joint probability = -2221.3\n",
      "    Iter      log prob        ||dx||      ||grad||       alpha      alpha0  # evals  Notes \n",
      "       9      -206.861   0.000128201    0.00664639           1           1       10   \n",
      "Optimization terminated normally: \n",
      "  Convergence detected: relative gradient magnitude is below tolerance\n",
      "training on date range: 2021-06-12 2022-11-12\n",
      "Initial log joint probability = -2291.63\n",
      "    Iter      log prob        ||dx||      ||grad||       alpha      alpha0  # evals  Notes \n",
      "       9      -209.079   0.000355395    0.00478963           1           1       10   \n",
      "Optimization terminated normally: \n",
      "  Convergence detected: relative gradient magnitude is below tolerance\n",
      "training on date range: 2021-06-12 2022-11-19\n",
      "Initial log joint probability = -1723.51\n",
      "    Iter      log prob        ||dx||      ||grad||       alpha      alpha0  # evals  Notes \n",
      "       9      -212.128   0.000161818    0.00579327           1           1       10   \n",
      "Optimization terminated normally: \n",
      "  Convergence detected: relative gradient magnitude is below tolerance\n",
      "training on date range: 2021-06-12 2022-12-03\n",
      "Initial log joint probability = -2030.39\n",
      "    Iter      log prob        ||dx||      ||grad||       alpha      alpha0  # evals  Notes \n",
      "       9       -216.71   0.000428192     0.0087096           1           1       10   \n",
      "Optimization terminated normally: \n",
      "  Convergence detected: relative gradient magnitude is below tolerance\n",
      "training on date range: 2021-06-12 2022-12-10\n",
      "Initial log joint probability = -1674.51\n",
      "    Iter      log prob        ||dx||      ||grad||       alpha      alpha0  # evals  Notes \n",
      "       9      -219.364   9.17967e-05    0.00313172      0.8481      0.8481       10   \n",
      "Optimization terminated normally: \n",
      "  Convergence detected: relative gradient magnitude is below tolerance\n",
      "training on date range: 2021-06-12 2022-12-17\n",
      "Initial log joint probability = -2728.6\n",
      "    Iter      log prob        ||dx||      ||grad||       alpha      alpha0  # evals  Notes \n",
      "       9      -222.601   0.000176896    0.00764998           1           1       10   \n",
      "Optimization terminated normally: \n",
      "  Convergence detected: relative gradient magnitude is below tolerance\n",
      "training on date range: 2021-06-12 2023-01-14\n",
      "Initial log joint probability = -2289.9\n",
      "    Iter      log prob        ||dx||      ||grad||       alpha      alpha0  # evals  Notes \n",
      "       9      -224.825   0.000465316    0.00595832           1           1       10   \n",
      "Optimization terminated normally: \n",
      "  Convergence detected: relative gradient magnitude is below tolerance\n"
     ]
    }
   ],
   "source": [
    "from model_selection.cross_val_pipeline import TimeSeriesCrossVal\n",
    "\n",
    "tscv = TimeSeriesCrossVal(min_test_date=pd.to_datetime(\"2021-01-01\"), \n",
    "                          n_dates_per_fold=1, \n",
    "                          p_fighter_implied_col=\"FighterOpen_implied_prob\")\n",
    "preds_df = tscv.get_cross_val_preds(\n",
    "    mod, \n",
    "    feat_ml_df.dropna(subset=[\n",
    "        *feat_cols, \"win_target\", \"FighterOpen_implied_prob\"\n",
    "    ])#.query(\"is_ufc == 1\")\n",
    ")"
   ]
  },
  {
   "cell_type": "code",
   "execution_count": 494,
   "metadata": {},
   "outputs": [
    {
     "data": {
      "text/plain": [
       "0.6526610644257703"
      ]
     },
     "execution_count": 494,
     "metadata": {},
     "output_type": "execute_result"
    }
   ],
   "source": [
    "(preds_df[\"y_pred\"].round() == preds_df[\"win_target\"]).mean()"
   ]
  },
  {
   "cell_type": "code",
   "execution_count": 495,
   "metadata": {},
   "outputs": [
    {
     "data": {
      "text/plain": [
       "0.6442577030812325"
      ]
     },
     "execution_count": 495,
     "metadata": {},
     "output_type": "execute_result"
    }
   ],
   "source": [
    "(preds_df[\"FighterOpen_implied_prob\"].round() == preds_df[\"win_target\"]).mean()"
   ]
  },
  {
   "cell_type": "code",
   "execution_count": 496,
   "metadata": {},
   "outputs": [
    {
     "name": "stdout",
     "output_type": "stream",
     "text": [
      "model log loss: 0.6433878876221624\n",
      "opening money line log loss: 0.6339272127394134\n"
     ]
    }
   ],
   "source": [
    "from sklearn.metrics import log_loss\n",
    "\n",
    "temp_preds_df = preds_df.dropna(subset=[\n",
    "    \"y_pred\", \"win_target\", \"FighterOpen_implied_prob\"])\n",
    "\n",
    "xce = log_loss(y_true=temp_preds_df[\"win_target\"], y_pred=temp_preds_df[\"y_pred\"])\n",
    "xce_ml = log_loss(y_true=temp_preds_df[\"win_target\"], y_pred=temp_preds_df[\"FighterOpen_implied_prob\"])\n",
    "\n",
    "print(f\"model log loss: {xce}\")\n",
    "print(f\"opening money line log loss: {xce_ml}\")"
   ]
  },
  {
   "cell_type": "code",
   "execution_count": 497,
   "metadata": {},
   "outputs": [],
   "source": [
    "preds_df[\"week\"] = preds_df[\"Date\"].dt.isocalendar().week"
   ]
  },
  {
   "cell_type": "code",
   "execution_count": 498,
   "metadata": {},
   "outputs": [
    {
     "name": "stdout",
     "output_type": "stream",
     "text": [
      "overall winnings\n"
     ]
    },
    {
     "data": {
      "image/png": "[encoded data removed]",
      "text/plain": [
       "<Figure size 432x288 with 1 Axes>"
      ]
     },
     "metadata": {
      "needs_background": "light"
     },
     "output_type": "display_data"
    },
    {
     "name": "stdout",
     "output_type": "stream",
     "text": [
      "ufc winnings\n"
     ]
    },
    {
     "data": {
      "image/png": "[encoded data removed]",
      "text/plain": [
       "<Figure size 432x288 with 1 Axes>"
      ]
     },
     "metadata": {
      "needs_background": "light"
     },
     "output_type": "display_data"
    }
   ],
   "source": [
    "from model_selection.metrics import MultiKellyPM\n",
    "\n",
    "def plot_pm_dk(preds_df):\n",
    "    pm = MultiKellyPM(\n",
    "        preds_df, max_bankroll_fraction=1, groupby_col=\"week\",\n",
    "        fighter_ml_col=\"open_fighter_american_odds\",\n",
    "        opponent_ml_col=\"open_opponent_american_odds\",\n",
    "    )\n",
    "    event_return_df = pm.get_all_returns()\n",
    "    pm.plot_diagnostics(event_return_df, x_col=\"week\")\n",
    "    return event_return_df\n",
    "\n",
    "print(\"overall winnings\")\n",
    "overall_return_df = plot_pm_dk(preds_df)\n",
    "\n",
    "print(\"ufc winnings\")\n",
    "ufc_return_df = plot_pm_dk(preds_df.query(\"is_ufc == 1\"))\n",
    "\n",
    "# print(\"non-ufc winnings\")\n",
    "# non_ufc_return_df = plot_pm_dk(preds_df.query(\"is_ufc == 0\"))"
   ]
  },
  {
   "cell_type": "code",
   "execution_count": 499,
   "metadata": {},
   "outputs": [],
   "source": [
    "# feat_ml_df.loc[feat_ml_df[\"pred_PC_0\"].notnull(), \n",
    "#                \"finish_fighter_result\"].isnull().mean()"
   ]
  },
  {
   "cell_type": "code",
   "execution_count": 500,
   "metadata": {},
   "outputs": [
    {
     "data": {
      "text/plain": [
       "{'pred_PC_0': 0.0017468375440601628,\n",
       " 'pred_PC_1': -0.0027777545508611647,\n",
       " 'pred_PC_2': 0.013296151589122817,\n",
       " 'pred_PC_3': 0.03805430843251568,\n",
       " 'pred_PC_4': 0.057472639268089674,\n",
       " 'pred_PC_5': 0.006694494494210163,\n",
       " 'pred_PC_6': -0.02611203876985659,\n",
       " 'pred_PC_7': 0.029480037032480828,\n",
       " 'pred_PC_8': 0.00614443546995813,\n",
       " 'pred_PC_9': 0.001891815761230309,\n",
       " 'pred_PC_10': 0.017118859153130446,\n",
       " 'pred_PC_11': -0.0018725519644475948,\n",
       " 'pred_PC_12': 0.05734115331028143,\n",
       " 'pred_PC_13': -0.08149075115473858,\n",
       " 'pred_win_target': -0.045164759348514716,\n",
       " 'pred_win_target_finish': -0.044219083438203896,\n",
       " 'age_diff': 0.010457405522275682,\n",
       " 'log_reach_diff': 0.0902486512960665,\n",
       " 'weight_diff': -0.03448100328676825,\n",
       " 'height_diff': 4.600998636249407e-05,\n",
       " 'log_t_since_prev_fight_diff': 0.04994953694521948}"
      ]
     },
     "execution_count": 500,
     "metadata": {},
     "output_type": "execute_result"
    }
   ],
   "source": [
    "dict(zip(feat_cols, mod.fit[\"beta\"]))"
   ]
  },
  {
   "cell_type": "code",
   "execution_count": 501,
   "metadata": {},
   "outputs": [
    {
     "data": {
      "image/png": "[encoded data removed]",
      "text/plain": [
       "<Figure size 432x288 with 1 Axes>"
      ]
     },
     "metadata": {
      "needs_background": "light"
     },
     "output_type": "display_data"
    }
   ],
   "source": [
    "from scipy.special import expit, logit\n",
    "\n",
    "model_adj = logit(preds_df[\"y_pred\"]) - \\\n",
    "    logit(preds_df[\"FighterOpen_implied_prob\"])\n",
    "model_adj = model_adj.clip(-0.2, 0.2)\n",
    "log_odds_adj = model_adj + logit(preds_df[\"FighterOpen_implied_prob\"])\n",
    "\n",
    "clipped_preds_df = preds_df.assign(\n",
    "    y_pred=expit(log_odds_adj)\n",
    ")\n",
    "\n",
    "clipped_return_df = plot_pm_dk(clipped_preds_df)"
   ]
  },
  {
   "cell_type": "code",
   "execution_count": 502,
   "metadata": {},
   "outputs": [
    {
     "data": {
      "text/plain": [
       "0.6918767507002801"
      ]
     },
     "execution_count": 502,
     "metadata": {},
     "output_type": "execute_result"
    }
   ],
   "source": [
    "preds_df[\"Event\"].str.lower().str.contains(\"fight night\").mean()"
   ]
  },
  {
   "cell_type": "code",
   "execution_count": 503,
   "metadata": {},
   "outputs": [],
   "source": [
    "preds_df[\"event_contains_title_fight\"] = preds_df[\"Event\"].str.lower().str.contains(\"title fight\")"
   ]
  },
  {
   "cell_type": "code",
   "execution_count": 504,
   "metadata": {},
   "outputs": [
    {
     "data": {
      "text/plain": [
       "Index(['is_title_fight', 'event_contains_title_fight'], dtype='object')"
      ]
     },
     "execution_count": 504,
     "metadata": {},
     "output_type": "execute_result"
    }
   ],
   "source": [
    "preds_df.columns[preds_df.columns.str.contains(\"title\")]"
   ]
  },
  {
   "cell_type": "code",
   "execution_count": 505,
   "metadata": {},
   "outputs": [
    {
     "data": {
      "image/png": "[encoded data removed]",
      "text/plain": [
       "<Figure size 432x288 with 1 Axes>"
      ]
     },
     "metadata": {
      "needs_background": "light"
     },
     "output_type": "display_data"
    },
    {
     "data": {
      "image/png": "[encoded data removed]",
      "text/plain": [
       "<Figure size 432x288 with 1 Axes>"
      ]
     },
     "metadata": {
      "needs_background": "light"
     },
     "output_type": "display_data"
    }
   ],
   "source": [
    "title_fight_return_df = plot_pm_dk(\n",
    "    preds_df.query(\"is_title_fight == 1\")\n",
    ")\n",
    "\n",
    "non_title_fight_return_df = plot_pm_dk(\n",
    "    preds_df.query(\"is_title_fight == 0\")\n",
    ")"
   ]
  },
  {
   "cell_type": "code",
   "execution_count": 506,
   "metadata": {},
   "outputs": [
    {
     "data": {
      "image/png": "[encoded data removed]",
      "text/plain": [
       "<Figure size 432x288 with 1 Axes>"
      ]
     },
     "metadata": {
      "needs_background": "light"
     },
     "output_type": "display_data"
    }
   ],
   "source": [
    "fight_night_return_df = plot_pm_dk(\n",
    "    preds_df.query(\"Event.str.lower().str.contains('fight night')\")\n",
    ")"
   ]
  },
  {
   "cell_type": "code",
   "execution_count": 507,
   "metadata": {},
   "outputs": [
    {
     "data": {
      "image/png": "[encoded data removed]",
      "text/plain": [
       "<Figure size 432x288 with 1 Axes>"
      ]
     },
     "metadata": {
      "needs_background": "light"
     },
     "output_type": "display_data"
    }
   ],
   "source": [
    "# so far, this is my best realistic performance\n",
    "undercard_return_df = plot_pm_dk(\n",
    "    preds_df.query(\"fight_rank_on_card >= 5 & is_ufc == 1\")\n",
    ")"
   ]
  },
  {
   "cell_type": "code",
   "execution_count": 508,
   "metadata": {},
   "outputs": [
    {
     "data": {
      "text/plain": [
       "-2.7721700024619462"
      ]
     },
     "execution_count": 508,
     "metadata": {},
     "output_type": "execute_result"
    }
   ],
   "source": [
    "# sharpe ratio\n",
    "undercard_return_df[\"return\"].mean() / (undercard_return_df[\"return\"].std() / np.sqrt(40))"
   ]
  },
  {
   "cell_type": "code",
   "execution_count": 509,
   "metadata": {},
   "outputs": [],
   "source": [
    "# # preds_df[\"fight_rank_on_card\"]\n",
    "# for i, grp in preds_df.groupby(\"fight_rank_on_card\"):\n",
    "#     # print(i, (grp[\"y_pred\"].round() == grp[\"win_target\"]).mean())\n",
    "#     print(i, log_loss(\n",
    "#         y_true=grp[\"win_target\"], y_pred=grp[\"y_pred\"]\n",
    "#     ))\n",
    "#     # plot_pm_dk(grp)"
   ]
  },
  {
   "cell_type": "code",
   "execution_count": 510,
   "metadata": {},
   "outputs": [
    {
     "data": {
      "text/plain": [
       "0.6433878876221624"
      ]
     },
     "execution_count": 510,
     "metadata": {},
     "output_type": "execute_result"
    }
   ],
   "source": [
    "log_loss(y_true=preds_df[\"win_target\"], y_pred=preds_df[\"y_pred\"])"
   ]
  },
  {
   "cell_type": "code",
   "execution_count": 511,
   "metadata": {},
   "outputs": [
    {
     "data": {
      "text/plain": [
       "Index(['total_ufc_cage_time_opp', 'min_weight_opp', 'max_weight_opp',\n",
       "       'prev_weight_opp', 'Date_espn', 'bookmaker_name', 'market_name',\n",
       "       'commence_time', 'open_timestamp', 'home_team', 'away_team',\n",
       "       'open_fighter_decimal_odds', 'open_opponent_decimal_odds',\n",
       "       'close_timestamp', 'close_fighter_decimal_odds',\n",
       "       'close_opponent_decimal_odds', 'FighterID_the_odds',\n",
       "       'OpponentID_the_odds', 'Date_the_odds', 'FighterOpen_implied_prob',\n",
       "       'OpponentOpen_implied_prob', 'open_fighter_american_odds',\n",
       "       'open_opponent_american_odds', 'ordinal_fighter_result',\n",
       "       'submission_fighter_result', 'tko_ko_fighter_result',\n",
       "       'decision_fighter_result', 'finish_fighter_result', 'win_target',\n",
       "       'win_target_finish'],\n",
       "      dtype='object')"
      ]
     },
     "execution_count": 511,
     "metadata": {},
     "output_type": "execute_result"
    }
   ],
   "source": [
    "df.columns[-30:]"
   ]
  },
  {
   "attachments": {},
   "cell_type": "markdown",
   "metadata": {},
   "source": [
    "Seems like there's no relationship btw time till the fight starts and my accuracy"
   ]
  },
  {
   "cell_type": "code",
   "execution_count": 512,
   "metadata": {},
   "outputs": [
    {
     "data": {
      "text/plain": [
       "<AxesSubplot:xlabel='log_t_till_commence', ylabel='log_loss'>"
      ]
     },
     "execution_count": 512,
     "metadata": {},
     "output_type": "execute_result"
    },
    {
     "data": {
      "image/png": "[encoded data removed]",
      "text/plain": [
       "<Figure size 432x288 with 1 Axes>"
      ]
     },
     "metadata": {
      "needs_background": "light"
     },
     "output_type": "display_data"
    }
   ],
   "source": [
    "import seaborn as sns\n",
    "\n",
    "preds_df[\"t_till_commence\"] = (\n",
    "    pd.to_datetime(preds_df[\"commence_time\"]) - \n",
    "    pd.to_datetime(preds_df[\"open_timestamp\"])\n",
    ").dt.total_seconds() / 3600\n",
    "preds_df[\"log_t_till_commence\"] = np.log(\n",
    "    preds_df[\"t_till_commence\"].clip(1, np.inf)\n",
    ")\n",
    "\n",
    "preds_df[\"log_loss\"] = -1 * (\n",
    "    preds_df[\"win_target\"] * np.log(preds_df[\"y_pred\"]) +\n",
    "    (1 - preds_df[\"win_target\"]) * np.log(1 - preds_df[\"y_pred\"])\n",
    ")\n",
    "\n",
    "sns.regplot(data=preds_df,#.query(\"t_till_commence < 500\"), \n",
    "                x=\"log_t_till_commence\", y=\"log_loss\",\n",
    "                # logx=True\n",
    ")\n"
   ]
  },
  {
   "cell_type": "code",
   "execution_count": 513,
   "metadata": {},
   "outputs": [
    {
     "data": {
      "text/plain": [
       "<AxesSubplot:xlabel='fight_rank_on_card', ylabel='log_loss'>"
      ]
     },
     "execution_count": 513,
     "metadata": {},
     "output_type": "execute_result"
    },
    {
     "data": {
      "image/png": "[encoded data removed]",
      "text/plain": [
       "<Figure size 432x288 with 1 Axes>"
      ]
     },
     "metadata": {
      "needs_background": "light"
     },
     "output_type": "display_data"
    }
   ],
   "source": [
    "sns.lineplot(data=preds_df,\n",
    "                x=\"fight_rank_on_card\", y=\"log_loss\")"
   ]
  },
  {
   "cell_type": "code",
   "execution_count": 514,
   "metadata": {},
   "outputs": [
    {
     "data": {
      "text/plain": [
       "<AxesSubplot:xlabel='y_pred', ylabel='log_loss'>"
      ]
     },
     "execution_count": 514,
     "metadata": {},
     "output_type": "execute_result"
    },
    {
     "data": {
      "image/png": "[encoded data removed]",
      "text/plain": [
       "<Figure size 432x288 with 1 Axes>"
      ]
     },
     "metadata": {
      "needs_background": "light"
     },
     "output_type": "display_data"
    }
   ],
   "source": [
    "# pretty sure this is the graph we'd expect to see\n",
    "sns.scatterplot(data=preds_df,#.query(\"t_till_commence < 500\"), \n",
    "                x=\"y_pred\", y=\"log_loss\",\n",
    "                # logx=True\n",
    ")"
   ]
  },
  {
   "cell_type": "code",
   "execution_count": 515,
   "metadata": {},
   "outputs": [
    {
     "data": {
      "text/plain": [
       "Index([], dtype='object')"
      ]
     },
     "execution_count": 515,
     "metadata": {},
     "output_type": "execute_result"
    }
   ],
   "source": [
    "df.columns[df.columns.str.contains(\"STANCE\")]\n"
   ]
  },
  {
   "cell_type": "markdown",
   "metadata": {},
   "source": []
  },
  {
   "cell_type": "code",
   "execution_count": null,
   "metadata": {},
   "outputs": [],
   "source": []
  }
 ],
 "metadata": {
  "kernelspec": {
   "display_name": "sports_pystan2",
   "language": "python",
   "name": "python3"
  },
  "language_info": {
   "codemirror_mode": {
    "name": "ipython",
    "version": 3
   },
   "file_extension": ".py",
   "mimetype": "text/x-python",
   "name": "python",
   "nbconvert_exporter": "python",
   "pygments_lexer": "ipython3",
   "version": "3.9.12"
  },
  "orig_nbformat": 4,
  "vscode": {
   "interpreter": {
    "hash": "2a237f2fbfa4eeeaf420965c4b3f40ac3440be1ed8d868d43cc135fc4be38fee"
   }
  }
 },
 "nbformat": 4,
 "nbformat_minor": 2
}
