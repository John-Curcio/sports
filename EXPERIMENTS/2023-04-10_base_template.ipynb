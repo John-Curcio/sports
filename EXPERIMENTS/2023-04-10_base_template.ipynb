{
 "cells": [
  {
   "attachments": {},
   "cell_type": "markdown",
   "metadata": {},
   "source": [
    "# Getting some quick picks for 2023-04-08\n",
    "\n",
    "http://ufcstats.com/event-details/3dc3022232b79c7a\n",
    "\n",
    "https://www.bestfightodds.com/events/ufc-287-2760\n",
    "\n",
    "Unfortunately I forgot to run the full script prior to this, so it's a bit jank"
   ]
  },
  {
   "cell_type": "code",
   "execution_count": null,
   "metadata": {},
   "outputs": [
    {
     "ename": "",
     "evalue": "",
     "output_type": "error",
     "traceback": [
      "\u001b[1;31mRunning cells with '/Users/jai/.pyenv/shims/python' requires the ipykernel package.\n",
      "\u001b[1;31mRun the following command to install 'ipykernel' into the Python environment. \n",
      "\u001b[1;31mCommand: '/Users/jai/.pyenv/shims/python -m pip install ipykernel -U --force-reinstall'"
     ]
    }
   ],
   "source": [
    "import sys\n",
    "sys.path.append('~/Documents/code/sports') # add parent directory to path"
   ]
  },
  {
   "cell_type": "code",
   "execution_count": null,
   "metadata": {},
   "outputs": [
    {
     "ename": "",
     "evalue": "",
     "output_type": "error",
     "traceback": [
      "\u001b[1;31mRunning cells with '/Users/jai/.pyenv/shims/python' requires the ipykernel package.\n",
      "\u001b[1;31mRun the following command to install 'ipykernel' into the Python environment. \n",
      "\u001b[1;31mCommand: '/Users/jai/.pyenv/shims/python -m pip install ipykernel -U --force-reinstall'"
     ]
    }
   ],
   "source": [
    "import numpy as np\n",
    "import pandas as pd\n",
    "import matplotlib.pyplot as plt\n",
    "import seaborn as sns\n",
    "from db import base_db_interface\n",
    "\n",
    "df = base_db_interface.read(\"bfo_espn_ufc_features\")\n",
    "for dt_col in [\"Date\", \"DOB\", \"DOB_opp\"]:\n",
    "    df[dt_col] = pd.to_datetime(df[dt_col])\n",
    "df[[\"FighterOpen\", \"OpponentOpen\"]] = df[[\"FighterOpen\", \"OpponentOpen\"]]\\\n",
    "    .astype(float)\n",
    "\n",
    "df = df.drop_duplicates(subset=[\"FighterID_espn\", \"OpponentID_espn\", \"fight_id\"])\n",
    "df[\"FighterID_espn\"] = df[\"FighterID_espn\"].fillna(\"unknown\")\n",
    "df[\"OpponentID_espn\"] = df[\"OpponentID_espn\"].fillna(\"unknown\")\n",
    "print(df.shape)\n",
    "df.head() # show the first 5 rows"
   ]
  },
  {
   "cell_type": "code",
   "execution_count": null,
   "metadata": {},
   "outputs": [
    {
     "ename": "",
     "evalue": "",
     "output_type": "error",
     "traceback": [
      "\u001b[1;31mRunning cells with '/Users/jai/.pyenv/shims/python' requires the ipykernel package.\n",
      "\u001b[1;31mRun the following command to install 'ipykernel' into the Python environment. \n",
      "\u001b[1;31mCommand: '/Users/jai/.pyenv/shims/python -m pip install ipykernel -U --force-reinstall'"
     ]
    }
   ],
   "source": [
    "from sklearn.decomposition import PCA\n",
    "# OKAY PCA HAPPENS HERE. Just do everything in-sample for now. \n",
    "stat_cols = [\n",
    "    'TSL', 'TSA', 'SSL',\n",
    "    'SSA', #'TSL-TSA', \n",
    "    'KD', #'%BODY', '%HEAD', '%LEG', \n",
    "    'SCBL',\n",
    "    'SCBA', 'SCHL', 'SCHA', 'SCLL', 'SCLA', 'RV', 'TDL', 'TDA', 'TDS',\n",
    "    # 'TK ACC', 'SR', # I don't believe in ratio features in PCA, \n",
    "    # # because of the possibility of division by zero and heteroskedasticity\n",
    "    'SGBL', 'SGBA', 'SGHL', 'SGHA', 'SGLL', 'SGLA', 'AD', 'ADTB',\n",
    "    'ADHG', 'ADTM', 'ADTS', 'SM', 'SDBL', 'SDBA', 'SDHL',\n",
    "    'SDHA', 'SDLL', 'SDLA',\n",
    "    #'time_seconds',\n",
    "    # 'TD_fails', #'submission_rate',\n",
    "    'TD_fail', # formerly 'TD_fails'\n",
    "    'SDL', 'SCL', # formerly 'distance_strikes_landed', 'clinch_strikes_landed',\n",
    "    #'KD_power', \n",
    "    'SGL', # formerly 'ground_strikes_landed'\n",
    "]\n",
    "df[[\"KD\", \"KD_opp\"]] = df[[\"KD\", \"KD_opp\"]].astype(float) \n",
    "# convert from string to float. rather annoying"
   ]
  },
  {
   "cell_type": "code",
   "execution_count": null,
   "metadata": {},
   "outputs": [
    {
     "ename": "",
     "evalue": "",
     "output_type": "error",
     "traceback": [
      "\u001b[1;31mRunning cells with '/Users/jai/.pyenv/shims/python' requires the ipykernel package.\n",
      "\u001b[1;31mRun the following command to install 'ipykernel' into the Python environment. \n",
      "\u001b[1;31mCommand: '/Users/jai/.pyenv/shims/python -m pip install ipykernel -U --force-reinstall'"
     ]
    }
   ],
   "source": [
    "stat_diff_df = {\n",
    "    \"FighterID_espn\": df[\"FighterID_espn\"],\n",
    "    \"OpponentID_espn\": df[\"OpponentID_espn\"],\n",
    "    \"Date\": df[\"Date\"],\n",
    "    \"gender\": df[\"gender\"],\n",
    "    \"fight_id\": df[\"fight_id\"],\n",
    "}\n",
    "diff_cols = [col+\"_diff\" for col in stat_cols]\n",
    "for col, diff_col in zip(stat_cols, diff_cols):\n",
    "    stat_diff_df[diff_col] = (\n",
    "        np.sqrt(df[col]) - np.sqrt(df[col+\"_opp\"])\n",
    "    )\n",
    "# stat_diff_df = pd.DataFrame(stat_diff_df).dropna(subset=diff_cols).reset_index()\n",
    "stat_diff_df = pd.DataFrame(stat_diff_df).reset_index()"
   ]
  },
  {
   "attachments": {},
   "cell_type": "markdown",
   "metadata": {},
   "source": [
    "# Elo estimators"
   ]
  },
  {
   "cell_type": "code",
   "execution_count": null,
   "metadata": {},
   "outputs": [
    {
     "ename": "",
     "evalue": "",
     "output_type": "error",
     "traceback": [
      "\u001b[1;31mRunning cells with '/Users/jai/.pyenv/shims/python' requires the ipykernel package.\n",
      "\u001b[1;31mRun the following command to install 'ipykernel' into the Python environment. \n",
      "\u001b[1;31mCommand: '/Users/jai/.pyenv/shims/python -m pip install ipykernel -U --force-reinstall'"
     ]
    }
   ],
   "source": [
    "n_pca = 14\n",
    "# n_pca = 1 # just for testing\n",
    "bin_elo_alpha = 0.45\n",
    "acc_elo_alpha = 0.45\n",
    "pca_elo_alpha = 0.45\n",
    "real_elo_alpha = 0.45"
   ]
  },
  {
   "cell_type": "code",
   "execution_count": null,
   "metadata": {},
   "outputs": [
    {
     "ename": "",
     "evalue": "",
     "output_type": "error",
     "traceback": [
      "\u001b[1;31mRunning cells with '/Users/jai/.pyenv/shims/python' requires the ipykernel package.\n",
      "\u001b[1;31mRun the following command to install 'ipykernel' into the Python environment. \n",
      "\u001b[1;31mCommand: '/Users/jai/.pyenv/shims/python -m pip install ipykernel -U --force-reinstall'"
     ]
    }
   ],
   "source": [
    "from importlib import reload\n",
    "## use autoreload jupyter extension\n",
    "\n",
    "import model.mma_elo_model as mma_elo_model\n",
    "reload(mma_elo_model)\n",
    "\n",
    "import model.mma_features as mma_features\n",
    "reload(mma_features)"
   ]
  },
  {
   "cell_type": "code",
   "execution_count": null,
   "metadata": {},
   "outputs": [
    {
     "ename": "",
     "evalue": "",
     "output_type": "error",
     "traceback": [
      "\u001b[1;31mRunning cells with '/Users/jai/.pyenv/shims/python' requires the ipykernel package.\n",
      "\u001b[1;31mRun the following command to install 'ipykernel' into the Python environment. \n",
      "\u001b[1;31mCommand: '/Users/jai/.pyenv/shims/python -m pip install ipykernel -U --force-reinstall'"
     ]
    }
   ],
   "source": [
    "from model.mma_features import PcaEloWrapper, BinaryEloWrapper\n",
    "\n",
    "pca_ew = PcaEloWrapper(\n",
    "    n_pca=n_pca, target_cols=diff_cols, alpha=pca_elo_alpha,\n",
    "    conditional_var_col=None, # for consistency\n",
    ")\n",
    "pca_elo_feat_df = pca_ew.fit_transform_all(stat_diff_df)\n",
    "pca_elo_feat_df"
   ]
  },
  {
   "cell_type": "code",
   "execution_count": null,
   "metadata": {},
   "outputs": [
    {
     "ename": "",
     "evalue": "",
     "output_type": "error",
     "traceback": [
      "\u001b[1;31mRunning cells with '/Users/jai/.pyenv/shims/python' requires the ipykernel package.\n",
      "\u001b[1;31mRun the following command to install 'ipykernel' into the Python environment. \n",
      "\u001b[1;31mCommand: '/Users/jai/.pyenv/shims/python -m pip install ipykernel -U --force-reinstall'"
     ]
    }
   ],
   "source": [
    "pca_elo_feat_df.notnull().sum(), stat_diff_df.notnull().sum()"
   ]
  },
  {
   "attachments": {},
   "cell_type": "markdown",
   "metadata": {},
   "source": [
    "## Defining some targets for Elo estimators along the way"
   ]
  },
  {
   "cell_type": "code",
   "execution_count": null,
   "metadata": {},
   "outputs": [
    {
     "ename": "",
     "evalue": "",
     "output_type": "error",
     "traceback": [
      "\u001b[1;31mRunning cells with '/Users/jai/.pyenv/shims/python' requires the ipykernel package.\n",
      "\u001b[1;31mRun the following command to install 'ipykernel' into the Python environment. \n",
      "\u001b[1;31mCommand: '/Users/jai/.pyenv/shims/python -m pip install ipykernel -U --force-reinstall'"
     ]
    }
   ],
   "source": [
    "df[\"win_target\"] = df[\"FighterResult\"].replace({\"W\":1, \"L\":0, \"D\":np.nan})\n",
    "df[\"win_target\"].value_counts(dropna=False)"
   ]
  },
  {
   "cell_type": "code",
   "execution_count": null,
   "metadata": {},
   "outputs": [
    {
     "ename": "",
     "evalue": "",
     "output_type": "error",
     "traceback": [
      "\u001b[1;31mRunning cells with '/Users/jai/.pyenv/shims/python' requires the ipykernel package.\n",
      "\u001b[1;31mRun the following command to install 'ipykernel' into the Python environment. \n",
      "\u001b[1;31mCommand: '/Users/jai/.pyenv/shims/python -m pip install ipykernel -U --force-reinstall'"
     ]
    }
   ],
   "source": [
    "# have to parse the decision column to get the detailed result\n",
    "def parse_decision(s):\n",
    "    if (s.startswith(\"submission\") or \n",
    "        s.startswith(\"sumission\") or\n",
    "        s.startswith(\"technical submission\")\n",
    "    ):\n",
    "        return \"submission\"\n",
    "    if (s.startswith(\"tko\") or \n",
    "        s.startswith(\"ko\") or\n",
    "        (s == 'could not continue')\n",
    "    ):\n",
    "        return \"tko_ko\"\n",
    "    if \"decision\" in s:\n",
    "        return \"decision\"\n",
    "    return \"other\"\n",
    "\n",
    "temp_decision = df[\"Decision\"].fillna(\"-\").str.lower().str.strip()\n",
    "decision_clean = temp_decision.apply(parse_decision)\n",
    "result_sign = df[\"FighterResult\"].map({\"W\": 1, \"L\":-1, \"D\": 0})\n",
    "decision_score = decision_clean.map({\"tko_ko\":2, \"submission\":2, \n",
    "                                                    \"decision\":1, \"other\":0})\n",
    "df[\"ordinal_fighter_result\"] = result_sign * decision_score\n",
    "submission_score = decision_clean.map({\"submission\":1, \"decision\":0, \n",
    "                                            \"other\":0, \"tko_ko\":0})\n",
    "tko_ko_score = decision_clean.map({\"submission\":0, \"decision\":0, \n",
    "                                            \"other\":0, \"tko_ko\":1})\n",
    "decision_score = decision_clean.map({\"submission\":0, \"decision\":1, \n",
    "                                            \"other\":0, \"tko_ko\":0})\n",
    "finish_score = decision_clean.map({\"submission\":1, \"decision\":0, \n",
    "                                            \"other\":0, \"tko_ko\":1})\n",
    "df[\"submission_fighter_result\"] = result_sign * submission_score\n",
    "df[\"tko_ko_fighter_result\"] = result_sign * tko_ko_score\n",
    "df[\"decision_fighter_result\"] = result_sign * decision_score\n",
    "df[\"finish_fighter_result\"] = result_sign * finish_score\n",
    "\n",
    "df[\"win_target_finish\"] = df[\"win_target\"] * decision_clean.map({\n",
    "    \"submission\":1, \"tko_ko\":1,\n",
    "    \"decision\":np.nan, \"other\":np.nan, \n",
    "})\n",
    "df[\"win_target_finish\"].value_counts(dropna=False)"
   ]
  },
  {
   "cell_type": "code",
   "execution_count": null,
   "metadata": {},
   "outputs": [
    {
     "ename": "",
     "evalue": "",
     "output_type": "error",
     "traceback": [
      "\u001b[1;31mRunning cells with '/Users/jai/.pyenv/shims/python' requires the ipykernel package.\n",
      "\u001b[1;31mRun the following command to install 'ipykernel' into the Python environment. \n",
      "\u001b[1;31mCommand: '/Users/jai/.pyenv/shims/python -m pip install ipykernel -U --force-reinstall'"
     ]
    }
   ],
   "source": [
    "def parse_fight_time(row):\n",
    "    if not np.isnan(row[\"time_dur\"]):\n",
    "        return row[\"time_dur\"]\n",
    "    if row[\"Rnd\"] == \"-\":\n",
    "        return np.nan\n",
    "    if row[\"Time\"] == \"-\":\n",
    "        # assuming 5 minute rounds\n",
    "        # fill in something for now\n",
    "        return int(row[\"Rnd\"]) * 5 * 60\n",
    "    n_rounds = row[\"Rnd\"].strip()\n",
    "    min, sec = row[\"Time\"].strip().split(\":\")\n",
    "    if n_rounds == \"-\":\n",
    "        return np.nan\n",
    "    n_rounds = int(n_rounds) - 1\n",
    "    if (min == \"-\") | (sec == \"-\"):\n",
    "        return np.nan\n",
    "    min = int(min)\n",
    "    sec = int(sec)\n",
    "    # assuming 5 minute rounds\n",
    "    return (n_rounds * 5 * 60) + min * 60 + sec\n",
    "    \n",
    "df[\"Rnd\"] = df[\"Rnd\"].fillna(\"-\")\n",
    "df[\"Time\"] = df[\"Time\"].fillna(\"-\")\n",
    "df[\"fight_time\"] = df.apply(parse_fight_time, axis=1)\n",
    "df[\"fight_time\"].notnull().mean()"
   ]
  },
  {
   "cell_type": "code",
   "execution_count": null,
   "metadata": {},
   "outputs": [
    {
     "ename": "",
     "evalue": "",
     "output_type": "error",
     "traceback": [
      "\u001b[1;31mRunning cells with '/Users/jai/.pyenv/shims/python' requires the ipykernel package.\n",
      "\u001b[1;31mRun the following command to install 'ipykernel' into the Python environment. \n",
      "\u001b[1;31mCommand: '/Users/jai/.pyenv/shims/python -m pip install ipykernel -U --force-reinstall'"
     ]
    }
   ],
   "source": [
    "y = (-1)**df[\"win_target\"]\n",
    "# restrict btw 1 and 25 minutes (length of a title fight)\n",
    "# short fight times -> big outliers\n",
    "clipped_time_dur = df[\"fight_time\"].clip(60, (5*5*60))\n",
    "df[\"signed_inverse_fight_time\"] = y / clipped_time_dur\n",
    "df[\"signed_inverse_sqrt_fight_time\"] = y / np.sqrt(clipped_time_dur)\n",
    "df[\"signed_inverse_log_fight_time\"] = y / np.log(clipped_time_dur)\n",
    "\n",
    "df[\"signed_inverse_fight_time\"].hist(bins=100)"
   ]
  },
  {
   "cell_type": "code",
   "execution_count": null,
   "metadata": {},
   "outputs": [
    {
     "ename": "",
     "evalue": "",
     "output_type": "error",
     "traceback": [
      "\u001b[1;31mRunning cells with '/Users/jai/.pyenv/shims/python' requires the ipykernel package.\n",
      "\u001b[1;31mRun the following command to install 'ipykernel' into the Python environment. \n",
      "\u001b[1;31mCommand: '/Users/jai/.pyenv/shims/python -m pip install ipykernel -U --force-reinstall'"
     ]
    }
   ],
   "source": [
    "from model.mma_features import RealEloWrapper\n",
    "\n",
    "real_elo_target_cols = [\n",
    "#     \"fighter_result_time_left\", \n",
    "#     \"ml_logit_mvmt\",\n",
    "    # \"ordinal_fighter_result\",\n",
    "    # \"submission_fighter_result\",\n",
    "    # \"tko_ko_fighter_result\",\n",
    "    # \"decision_fighter_result\",\n",
    "    # \"finish_fighter_result\",\n",
    "    \"signed_inverse_fight_time\",\n",
    "    # \"signed_inverse_sqrt_fight_time\",\n",
    "    # \"signed_inverse_log_fight_time\",\n",
    "]\n",
    "diff_elo_target_cols = [\n",
    "]\n",
    "\n",
    "binary_elo_target_cols = [\"win_target\", \"win_target_finish\"]\n",
    "\n",
    "elo_alphas = {\n",
    "    col: real_elo_alpha \n",
    "    for col in (real_elo_target_cols + diff_elo_target_cols)\n",
    "}\n",
    "# elo_alphas[\"ml_logit_mvmt\"] = 0.225\n",
    "\n",
    "real_ew = RealEloWrapper(elo_alphas=elo_alphas)\n",
    "real_elo_feat_df = real_ew.fit_transform_all(df)\n",
    "print(real_elo_feat_df.shape)\n",
    "real_elo_feat_df.head()\n",
    "\n",
    "elo_alphas = {\n",
    "    col: bin_elo_alpha for col in binary_elo_target_cols\n",
    "}\n",
    "bin_ew = BinaryEloWrapper(elo_alphas=elo_alphas)\n",
    "bin_elo_feat_df = bin_ew.fit_transform_all(df)\n",
    "print(bin_elo_feat_df.shape)\n",
    "bin_elo_feat_df.head()\n",
    "# feat_ml_df[\"log_height_diff\"] = np.log(feat_ml_df[\"imp_height\"]) - np.log(feat_ml_df[\"imp_height_opp\"])\n",
    "# feat_ml_df[\"log_age_diff\"] = np.log(feat_ml_df[\"age\"]) - np.log(feat_ml_df[\"age_opp\"])\n",
    "# feat_ml_df[\"log_reach_diff\"] = np.log(feat_ml_df[\"imp_reach\"]) - np.log(feat_ml_df[\"imp_reach_opp\"])\n",
    "# feat_ml_df[\"log_reach_diff\"] = feat_ml_df[\"log_reach_diff\"].fillna(0)"
   ]
  },
  {
   "cell_type": "code",
   "execution_count": null,
   "metadata": {},
   "outputs": [
    {
     "ename": "",
     "evalue": "",
     "output_type": "error",
     "traceback": [
      "\u001b[1;31mRunning cells with '/Users/jai/.pyenv/shims/python' requires the ipykernel package.\n",
      "\u001b[1;31mRun the following command to install 'ipykernel' into the Python environment. \n",
      "\u001b[1;31mCommand: '/Users/jai/.pyenv/shims/python -m pip install ipykernel -U --force-reinstall'"
     ]
    }
   ],
   "source": [
    "elo_feat_df = df.merge(\n",
    "    pca_elo_feat_df, \n",
    "    how=\"left\", \n",
    "    on=[\"fight_id\", \"FighterID_espn\", \"OpponentID_espn\"],\n",
    ").merge(\n",
    "    real_elo_feat_df.drop(columns=real_elo_target_cols),\n",
    "    how=\"left\",\n",
    "    on=[\"fight_id\", \"FighterID_espn\", \"OpponentID_espn\"],\n",
    ").merge(\n",
    "    bin_elo_feat_df.drop(columns=binary_elo_target_cols),\n",
    "    how=\"left\",\n",
    "    on=[\"fight_id\", \"FighterID_espn\", \"OpponentID_espn\"],\n",
    ")\n",
    "print(elo_feat_df.shape)"
   ]
  },
  {
   "cell_type": "code",
   "execution_count": null,
   "metadata": {},
   "outputs": [
    {
     "ename": "",
     "evalue": "",
     "output_type": "error",
     "traceback": [
      "\u001b[1;31mRunning cells with '/Users/jai/.pyenv/shims/python' requires the ipykernel package.\n",
      "\u001b[1;31mRun the following command to install 'ipykernel' into the Python environment. \n",
      "\u001b[1;31mCommand: '/Users/jai/.pyenv/shims/python -m pip install ipykernel -U --force-reinstall'"
     ]
    }
   ],
   "source": [
    "elo_feat_df.notnull().sum()"
   ]
  },
  {
   "attachments": {},
   "cell_type": "markdown",
   "metadata": {},
   "source": [
    "# Simpler features"
   ]
  },
  {
   "cell_type": "code",
   "execution_count": null,
   "metadata": {},
   "outputs": [
    {
     "ename": "",
     "evalue": "",
     "output_type": "error",
     "traceback": [
      "\u001b[1;31mRunning cells with '/Users/jai/.pyenv/shims/python' requires the ipykernel package.\n",
      "\u001b[1;31mRun the following command to install 'ipykernel' into the Python environment. \n",
      "\u001b[1;31mCommand: '/Users/jai/.pyenv/shims/python -m pip install ipykernel -U --force-reinstall'"
     ]
    }
   ],
   "source": [
    "from model.mma_elo_model import unknown_fighter_id\n",
    "from tqdm import tqdm\n",
    "\n",
    "\n",
    "def get_simple_features(df):\n",
    "    # simple things that i needn't get from the fighter stats page\n",
    "    # eg number of fights, t_since_last_fight\n",
    "    assert (df[\"fight_id\"].value_counts() == 2).all()\n",
    "    df = df.assign(\n",
    "        is_ufc=df[\"Event\"].fillna(\"\").str.contains(\"UFC\"),\n",
    "        Date=pd.to_datetime(df[\"Date\"]),\n",
    "    )\n",
    "    feat_df = df.sort_values(\"Date\").copy()[[\n",
    "        \"fight_id\", \"FighterID_espn\", \"OpponentID_espn\", \"Date\", \"is_ufc\"\n",
    "    ]]\n",
    "    # Rolling features over fighter_careers\n",
    "    # because the data is doubled, we can simply group by the fighter id\n",
    "    feat_df[\"dummy\"] = 1\n",
    "    # total fights\n",
    "    feat_df[\"total_fights\"] = feat_df.groupby(\"FighterID_espn\")[\"dummy\"].cumsum()\n",
    "    feat_df[\"total_fights_opp\"] = feat_df.groupby(\"OpponentID_espn\")[\"dummy\"].cumsum()\n",
    "    # total ufc fights\n",
    "    feat_df[\"total_ufc_fights\"] = feat_df.groupby(\"FighterID_espn\")[\"is_ufc\"].cumsum()\n",
    "    feat_df[\"total_ufc_fights_opp\"] = feat_df.groupby(\"OpponentID_espn\")[\"is_ufc\"].cumsum()\n",
    "    # time since last fight\n",
    "    feat_df[\"t_since_last_fight\"] = feat_df.groupby(\"FighterID_espn\")[\"Date\"].diff().dt.days\n",
    "    feat_df[\"t_since_last_fight_opp\"] = feat_df.groupby(\"OpponentID_espn\")[\"Date\"].diff().dt.days\n",
    "    fill_val = 2*365 # arbitrarily say 2 years\n",
    "    feat_df[\"t_since_last_fight\"] = np.maximum(fill_val, feat_df[\"t_since_last_fight\"].fillna(fill_val))   \n",
    "    feat_df[\"t_since_last_fight_opp\"] = np.maximum(fill_val, feat_df[\"t_since_last_fight_opp\"].fillna(fill_val)) \n",
    "    # time since first fight\n",
    "    feat_df[\"t_since_first_fight\"] = (feat_df[\"Date\"] - feat_df.groupby(\"FighterID_espn\")[\"Date\"].transform(\"min\")).dt.days\n",
    "    feat_df[\"t_since_first_fight_opp\"] = (feat_df[\"Date\"] - feat_df.groupby(\"OpponentID_espn\")[\"Date\"].transform(\"min\")).dt.days\n",
    "    # compute diffs\n",
    "    feat_df[\"t_since_last_fight_diff\"] = (feat_df[\"t_since_last_fight\"] - \n",
    "                                            feat_df[\"t_since_last_fight_opp\"])\n",
    "    feat_df[\"t_since_last_fight_log_diff\"] = (np.log(feat_df[\"t_since_last_fight\"]) - \n",
    "                                                np.log(feat_df[\"t_since_last_fight_opp\"]))\n",
    "    feat_df[\"total_fights_diff\"] = (feat_df[\"total_fights\"] - \n",
    "                                    feat_df[\"total_fights_opp\"])\n",
    "    feat_df[\"total_fights_sqrt_diff\"] = (np.sqrt(feat_df[\"total_fights\"]) - \n",
    "                                        np.sqrt(feat_df[\"total_fights_opp\"]))\n",
    "    feat_df[\"total_ufc_fights_diff\"] = (feat_df[\"total_ufc_fights\"] - \n",
    "                                        feat_df[\"total_ufc_fights_opp\"])\n",
    "    feat_df[\"total_ufc_fights_sqrt_diff\"] = (np.sqrt(feat_df[\"total_ufc_fights\"]) - \n",
    "                                                np.sqrt(feat_df[\"total_ufc_fights_opp\"]))\n",
    "    return feat_df\n",
    "\n",
    "simple_feat_df = get_simple_features(elo_feat_df)\n",
    "print(simple_feat_df.shape, elo_feat_df.shape)"
   ]
  },
  {
   "cell_type": "code",
   "execution_count": null,
   "metadata": {},
   "outputs": [
    {
     "ename": "",
     "evalue": "",
     "output_type": "error",
     "traceback": [
      "\u001b[1;31mRunning cells with '/Users/jai/.pyenv/shims/python' requires the ipykernel package.\n",
      "\u001b[1;31mRun the following command to install 'ipykernel' into the Python environment. \n",
      "\u001b[1;31mCommand: '/Users/jai/.pyenv/shims/python -m pip install ipykernel -U --force-reinstall'"
     ]
    }
   ],
   "source": [
    "simple_feat_df.columns"
   ]
  },
  {
   "cell_type": "code",
   "execution_count": null,
   "metadata": {},
   "outputs": [
    {
     "ename": "",
     "evalue": "",
     "output_type": "error",
     "traceback": [
      "\u001b[1;31mRunning cells with '/Users/jai/.pyenv/shims/python' requires the ipykernel package.\n",
      "\u001b[1;31mRun the following command to install 'ipykernel' into the Python environment. \n",
      "\u001b[1;31mCommand: '/Users/jai/.pyenv/shims/python -m pip install ipykernel -U --force-reinstall'"
     ]
    }
   ],
   "source": [
    "feat_ml_df = elo_feat_df.merge(\n",
    "    simple_feat_df, \n",
    "    how=\"left\",\n",
    "    on=[\"FighterID_espn\", \"OpponentID_espn\", \"Date\"],\n",
    "    suffixes=(\"_legacy\", \"\"),\n",
    ")\n",
    "\n",
    "feat_ml_df[\"age_diff\"] = (feat_ml_df[\"DOB\"] - feat_ml_df[\"DOB_opp\"]).dt.days / 365\n",
    "feat_ml_df[\"age_diff\"] = feat_ml_df[\"age_diff\"].fillna(0)\n",
    "\n",
    "feat_ml_df[\"log_reach_diff\"] = (\n",
    "    np.log(feat_ml_df[\"ReachInches\"]) - np.log(feat_ml_df[\"ReachInches_opp\"])\n",
    ").fillna(0)\n",
    "feat_ml_df[\"weight_diff\"] = (\n",
    "    feat_ml_df[\"min_weight\"] - feat_ml_df[\"min_weight_opp\"]\n",
    ").fillna(0)\n",
    "feat_ml_df[\"height_diff\"] = (\n",
    "    feat_ml_df[\"HeightInches\"] - feat_ml_df[\"HeightInches_opp\"]\n",
    ").fillna(0)\n",
    "\n",
    "feat_ml_df[\"t_since_first_fight_diff\"] = (\n",
    "    feat_ml_df[\"t_since_first_fight\"] - feat_ml_df[\"t_since_first_fight_opp\"]\n",
    ").fillna(0)\n",
    "feat_ml_df[\"log_t_since_first_fight_diff\"] = (\n",
    "    np.log(1 + feat_ml_df[\"t_since_first_fight\"]) - \n",
    "    np.log(1 + feat_ml_df[\"t_since_first_fight_opp\"])\n",
    ").fillna(0)\n",
    "\n",
    "feat_ml_df[\"log_t_since_prev_fight_diff\"] = (\n",
    "    np.log(1 + feat_ml_df[\"t_since_prev_fight\"]) -\n",
    "    np.log(1 + feat_ml_df[\"t_since_prev_fight_opp\"])\n",
    ").fillna(0)\n",
    "\n",
    "real_elo_target_cols = [\n",
    "#     \"fighter_result_time_left\", \n",
    "#     \"ml_logit_mvmt\",\n",
    "#     \"ordinal_fighter_result\",\n",
    "#     \"submission_fighter_result\",\n",
    "#     \"tko_ko_fighter_result\",\n",
    "#     \"decision_fighter_result\",\n",
    "    \"signed_inverse_fight_time\",\n",
    "    # \"finish_fighter_result\",\n",
    "    # *[col for col in stat_pca_df.columns \n",
    "    #   if col not in [\"FighterID_espn\", \"OpponentID_espn\", \"Date\"]],\n",
    "]\n",
    "\n",
    "feat_cols = [\n",
    "    *[f\"pred_elo_PC_{i}\" for i in range(n_pca)],\n",
    "\n",
    "    *[\"pred_elo_\"+c for c in [*diff_elo_target_cols, \n",
    "                               *real_elo_target_cols, \n",
    "                               *binary_elo_target_cols]],\n",
    "    \n",
    "    # \"t_since_last_fight_log_diff\", \n",
    "#     \"fights_per_day_diff\",\n",
    "#     \"t_since_last_fight_diff\",\n",
    "#     \"total_fights_sqrt_diff\", \n",
    "#     \"total_ufc_fights_diff\",\n",
    "    \n",
    "    \"age_diff\", \n",
    "#     \"log_age_diff\",\n",
    "#     \"reach_diff\", \n",
    "    \"log_reach_diff\",\n",
    "    \"weight_diff\", \n",
    "#     \"log_weight_diff\",\n",
    "    \"height_diff\",\n",
    "#     \"log_height_diff\",\n",
    "#     \"ml_logit_mvmt\",\n",
    "    \"log_t_since_prev_fight_diff\",\n",
    "    \"log_t_since_first_fight_diff\",\n",
    "    \"total_fights_diff\",\n",
    "#     \"quad_log_t_since_first_fight_diff\",\n",
    "]\n",
    "\n",
    "# new_feat_cols = [*feat_cols, \"ml_logit\"]\n",
    "feat_cols"
   ]
  },
  {
   "cell_type": "code",
   "execution_count": null,
   "metadata": {},
   "outputs": [
    {
     "ename": "",
     "evalue": "",
     "output_type": "error",
     "traceback": [
      "\u001b[1;31mRunning cells with '/Users/jai/.pyenv/shims/python' requires the ipykernel package.\n",
      "\u001b[1;31mRun the following command to install 'ipykernel' into the Python environment. \n",
      "\u001b[1;31mCommand: '/Users/jai/.pyenv/shims/python -m pip install ipykernel -U --force-reinstall'"
     ]
    }
   ],
   "source": [
    "feat_ml_df.columns[feat_ml_df.columns.str.contains(\"pred_\")]"
   ]
  },
  {
   "cell_type": "code",
   "execution_count": null,
   "metadata": {},
   "outputs": [
    {
     "ename": "",
     "evalue": "",
     "output_type": "error",
     "traceback": [
      "\u001b[1;31mRunning cells with '/Users/jai/.pyenv/shims/python' requires the ipykernel package.\n",
      "\u001b[1;31mRun the following command to install 'ipykernel' into the Python environment. \n",
      "\u001b[1;31mCommand: '/Users/jai/.pyenv/shims/python -m pip install ipykernel -U --force-reinstall'"
     ]
    }
   ],
   "source": [
    "# checking to see how much data we have for each feature\n",
    "feat_ml_df[feat_cols].notnull().sum()"
   ]
  },
  {
   "cell_type": "code",
   "execution_count": null,
   "metadata": {},
   "outputs": [
    {
     "ename": "",
     "evalue": "",
     "output_type": "error",
     "traceback": [
      "\u001b[1;31mRunning cells with '/Users/jai/.pyenv/shims/python' requires the ipykernel package.\n",
      "\u001b[1;31mRun the following command to install 'ipykernel' into the Python environment. \n",
      "\u001b[1;31mCommand: '/Users/jai/.pyenv/shims/python -m pip install ipykernel -U --force-reinstall'"
     ]
    }
   ],
   "source": [
    "feat_ml_df = feat_ml_df.drop_duplicates(subset=[\"fight_id\"])\n",
    "print(feat_ml_df[feat_cols].notnull().sum())\n",
    "feat_ml_df.shape"
   ]
  },
  {
   "attachments": {},
   "cell_type": "markdown",
   "metadata": {},
   "source": [
    "# Model evaluation - opening line"
   ]
  },
  {
   "cell_type": "code",
   "execution_count": null,
   "metadata": {},
   "outputs": [
    {
     "ename": "",
     "evalue": "",
     "output_type": "error",
     "traceback": [
      "\u001b[1;31mRunning cells with '/Users/jai/.pyenv/shims/python' requires the ipykernel package.\n",
      "\u001b[1;31mRun the following command to install 'ipykernel' into the Python environment. \n",
      "\u001b[1;31mCommand: '/Users/jai/.pyenv/shims/python -m pip install ipykernel -U --force-reinstall'"
     ]
    }
   ],
   "source": [
    "p_fighter_implied_col = \"p_fighter_open_implied\""
   ]
  },
  {
   "cell_type": "code",
   "execution_count": null,
   "metadata": {},
   "outputs": [
    {
     "ename": "",
     "evalue": "",
     "output_type": "error",
     "traceback": [
      "\u001b[1;31mRunning cells with '/Users/jai/.pyenv/shims/python' requires the ipykernel package.\n",
      "\u001b[1;31mRun the following command to install 'ipykernel' into the Python environment. \n",
      "\u001b[1;31mCommand: '/Users/jai/.pyenv/shims/python -m pip install ipykernel -U --force-reinstall'"
     ]
    }
   ],
   "source": [
    "from model.mma_log_reg_stan import SimpleSymmetricModel\n",
    "\n",
    "mod = SimpleSymmetricModel(\n",
    "    feat_cols=feat_cols, target_col=\"win_target\", \n",
    "    p_fighter_implied_col=p_fighter_implied_col,\n",
    "    beta_prior_std=1.0, mcmc=False\n",
    ")"
   ]
  },
  {
   "cell_type": "code",
   "execution_count": null,
   "metadata": {},
   "outputs": [
    {
     "ename": "",
     "evalue": "",
     "output_type": "error",
     "traceback": [
      "\u001b[1;31mRunning cells with '/Users/jai/.pyenv/shims/python' requires the ipykernel package.\n",
      "\u001b[1;31mRun the following command to install 'ipykernel' into the Python environment. \n",
      "\u001b[1;31mCommand: '/Users/jai/.pyenv/shims/python -m pip install ipykernel -U --force-reinstall'"
     ]
    }
   ],
   "source": [
    "from model_selection.cross_val_pipeline import TimeSeriesCrossVal\n",
    "\n",
    "tscv = TimeSeriesCrossVal(min_test_date=pd.to_datetime(\"2021-01-01\"), \n",
    "                          n_dates_per_fold=1, \n",
    "                          p_fighter_implied_col=p_fighter_implied_col)\n",
    "preds_df = tscv.get_cross_val_preds(\n",
    "    mod, \n",
    "    feat_ml_df.dropna(subset=[\n",
    "        *feat_cols, \"win_target\", p_fighter_implied_col,\n",
    "    ])\n",
    ")"
   ]
  },
  {
   "cell_type": "code",
   "execution_count": null,
   "metadata": {},
   "outputs": [
    {
     "ename": "",
     "evalue": "",
     "output_type": "error",
     "traceback": [
      "\u001b[1;31mRunning cells with '/Users/jai/.pyenv/shims/python' requires the ipykernel package.\n",
      "\u001b[1;31mRun the following command to install 'ipykernel' into the Python environment. \n",
      "\u001b[1;31mCommand: '/Users/jai/.pyenv/shims/python -m pip install ipykernel -U --force-reinstall'"
     ]
    }
   ],
   "source": [
    "mod_pred = preds_df[\"y_pred\"].round()\n",
    "ml_pred = preds_df[p_fighter_implied_col].round()\n",
    "print(\"Model accuracy:     \", (mod_pred == preds_df[\"win_target\"]).mean())\n",
    "print(\"Moneyline accuracy: \", (ml_pred == preds_df[\"win_target\"]).mean())"
   ]
  },
  {
   "cell_type": "code",
   "execution_count": null,
   "metadata": {},
   "outputs": [
    {
     "ename": "",
     "evalue": "",
     "output_type": "error",
     "traceback": [
      "\u001b[1;31mRunning cells with '/Users/jai/.pyenv/shims/python' requires the ipykernel package.\n",
      "\u001b[1;31mRun the following command to install 'ipykernel' into the Python environment. \n",
      "\u001b[1;31mCommand: '/Users/jai/.pyenv/shims/python -m pip install ipykernel -U --force-reinstall'"
     ]
    }
   ],
   "source": [
    "from sklearn.metrics import log_loss\n",
    "\n",
    "xce = log_loss(y_true=preds_df[\"win_target\"], y_pred=preds_df[\"y_pred\"])\n",
    "xce_ml = log_loss(y_true=preds_df[\"win_target\"], y_pred=preds_df[p_fighter_implied_col])\n",
    "\n",
    "print(f\"model log loss    : {xce}\")\n",
    "print(f\"Moneyline log loss: {xce_ml}\")"
   ]
  },
  {
   "cell_type": "code",
   "execution_count": null,
   "metadata": {},
   "outputs": [
    {
     "ename": "",
     "evalue": "",
     "output_type": "error",
     "traceback": [
      "\u001b[1;31mRunning cells with '/Users/jai/.pyenv/shims/python' requires the ipykernel package.\n",
      "\u001b[1;31mRun the following command to install 'ipykernel' into the Python environment. \n",
      "\u001b[1;31mCommand: '/Users/jai/.pyenv/shims/python -m pip install ipykernel -U --force-reinstall'"
     ]
    }
   ],
   "source": [
    "list(zip(mod.feat_cols, mod.fit['beta']))"
   ]
  },
  {
   "cell_type": "code",
   "execution_count": null,
   "metadata": {},
   "outputs": [
    {
     "ename": "",
     "evalue": "",
     "output_type": "error",
     "traceback": [
      "\u001b[1;31mRunning cells with '/Users/jai/.pyenv/shims/python' requires the ipykernel package.\n",
      "\u001b[1;31mRun the following command to install 'ipykernel' into the Python environment. \n",
      "\u001b[1;31mCommand: '/Users/jai/.pyenv/shims/python -m pip install ipykernel -U --force-reinstall'"
     ]
    }
   ],
   "source": [
    "preds_df[\"week\"] = preds_df[\"Date\"].dt.isocalendar().week"
   ]
  },
  {
   "cell_type": "code",
   "execution_count": null,
   "metadata": {},
   "outputs": [
    {
     "ename": "",
     "evalue": "",
     "output_type": "error",
     "traceback": [
      "\u001b[1;31mRunning cells with '/Users/jai/.pyenv/shims/python' requires the ipykernel package.\n",
      "\u001b[1;31mRun the following command to install 'ipykernel' into the Python environment. \n",
      "\u001b[1;31mCommand: '/Users/jai/.pyenv/shims/python -m pip install ipykernel -U --force-reinstall'"
     ]
    }
   ],
   "source": [
    "fighter_ml_col = \"FighterOpen\"\n",
    "opponent_ml_col = \"OpponentOpen\""
   ]
  },
  {
   "cell_type": "code",
   "execution_count": null,
   "metadata": {},
   "outputs": [
    {
     "ename": "",
     "evalue": "",
     "output_type": "error",
     "traceback": [
      "\u001b[1;31mRunning cells with '/Users/jai/.pyenv/shims/python' requires the ipykernel package.\n",
      "\u001b[1;31mRun the following command to install 'ipykernel' into the Python environment. \n",
      "\u001b[1;31mCommand: '/Users/jai/.pyenv/shims/python -m pip install ipykernel -U --force-reinstall'"
     ]
    }
   ],
   "source": [
    "from model_selection.metrics import MultiKellyPM\n",
    "\n",
    "kwargs = {\n",
    "    \"max_bankroll_fraction\": 0.05,\n",
    "    \"groupby_col\": \"week\",\n",
    "    \"fighter_ml_col\": fighter_ml_col,\n",
    "    \"opponent_ml_col\": opponent_ml_col,\n",
    "}\n",
    "\n",
    "print(\"overall winnings\")\n",
    "pm = MultiKellyPM(preds_df, **kwargs)\n",
    "event_return_df = pm.get_all_returns()\n",
    "pm.plot_diagnostics(event_return_df, x_col=\"week\")\n",
    "\n",
    "print(\"ufc winnings\")\n",
    "pm = MultiKellyPM(preds_df.query(\"is_ufc == 1\"), **kwargs)\n",
    "event_return_df = pm.get_all_returns()\n",
    "pm.plot_diagnostics(event_return_df, x_col=\"week\")\n",
    "\n",
    "print(\"non-ufc winnings\")\n",
    "pm = MultiKellyPM(preds_df.query(\"is_ufc == 0\"), **kwargs)\n",
    "event_return_df = pm.get_all_returns()\n",
    "pm.plot_diagnostics(event_return_df, x_col=\"week\")"
   ]
  },
  {
   "attachments": {},
   "cell_type": "markdown",
   "metadata": {},
   "source": [
    "# Model evaluation - BetMGM, DraftKings, BetFair\n",
    "\n",
    "I think something's fishy here, this can't be right"
   ]
  },
  {
   "cell_type": "code",
   "execution_count": null,
   "metadata": {},
   "outputs": [
    {
     "ename": "",
     "evalue": "",
     "output_type": "error",
     "traceback": [
      "\u001b[1;31mRunning cells with '/Users/jai/.pyenv/shims/python' requires the ipykernel package.\n",
      "\u001b[1;31mRun the following command to install 'ipykernel' into the Python environment. \n",
      "\u001b[1;31mCommand: '/Users/jai/.pyenv/shims/python -m pip install ipykernel -U --force-reinstall'"
     ]
    }
   ],
   "source": [
    "close_df = base_db_interface.read(\"clean_bfo_close_data\")\n",
    "# double the data\n",
    "fighter_cols = [c for c in close_df.columns if c.endswith(\"_fighter\")]\n",
    "opponent_cols = [c[:-len(\"_fighter\")] + \"_opponent\" for c in fighter_cols]\n",
    "for col in fighter_cols + opponent_cols:\n",
    "    close_df[col] = close_df[col].str.replace(\"▲\", \"\")\\\n",
    "        .str.replace(\"▼\", \"\")\\\n",
    "        .astype(float)\n",
    "    \n",
    "close_df_complement = close_df.rename(columns={\n",
    "    \"FighterID\": \"OpponentID\",\n",
    "    \"OpponentID\": \"FighterID\",\n",
    "    **{f: o for f, o in zip(fighter_cols, opponent_cols)},\n",
    "    **{o: f for f, o in zip(fighter_cols, opponent_cols)},\n",
    "})\n",
    "close_df = pd.concat([close_df, close_df_complement], axis=0)\\\n",
    "    .drop_duplicates(subset=[\"FighterID\", \"OpponentID\", \"EventHref\"])\\\n",
    "    .dropna(subset=[\"FighterID\", \"OpponentID\", \"EventHref\"])\\\n",
    "    .rename(columns={\"FighterID\": \"FighterID_bfo\", \"OpponentID\": \"OpponentID_bfo\"})\\\n",
    "    .drop(columns=[\"FighterName\", \"OpponentName\"])\\\n",
    "    .reset_index(drop=True)\n",
    "\n",
    "print(close_df.shape)\n",
    "close_df.isnull().mean()"
   ]
  },
  {
   "cell_type": "code",
   "execution_count": null,
   "metadata": {},
   "outputs": [
    {
     "ename": "",
     "evalue": "",
     "output_type": "error",
     "traceback": [
      "\u001b[1;31mRunning cells with '/Users/jai/.pyenv/shims/python' requires the ipykernel package.\n",
      "\u001b[1;31mRun the following command to install 'ipykernel' into the Python environment. \n",
      "\u001b[1;31mCommand: '/Users/jai/.pyenv/shims/python -m pip install ipykernel -U --force-reinstall'"
     ]
    }
   ],
   "source": [
    "preds_df[\"FighterID_bfo\"]"
   ]
  },
  {
   "cell_type": "code",
   "execution_count": null,
   "metadata": {},
   "outputs": [
    {
     "ename": "",
     "evalue": "",
     "output_type": "error",
     "traceback": [
      "\u001b[1;31mRunning cells with '/Users/jai/.pyenv/shims/python' requires the ipykernel package.\n",
      "\u001b[1;31mRun the following command to install 'ipykernel' into the Python environment. \n",
      "\u001b[1;31mCommand: '/Users/jai/.pyenv/shims/python -m pip install ipykernel -U --force-reinstall'"
     ]
    }
   ],
   "source": [
    "aug_preds_df = preds_df.merge(\n",
    "    close_df,\n",
    "    how=\"left\",\n",
    "    on=[\"FighterID_bfo\", \"OpponentID_bfo\", \"EventHref\"],\n",
    ")\n",
    "aug_preds_df.isnull().mean()"
   ]
  },
  {
   "cell_type": "code",
   "execution_count": null,
   "metadata": {},
   "outputs": [
    {
     "ename": "",
     "evalue": "",
     "output_type": "error",
     "traceback": [
      "\u001b[1;31mRunning cells with '/Users/jai/.pyenv/shims/python' requires the ipykernel package.\n",
      "\u001b[1;31mRun the following command to install 'ipykernel' into the Python environment. \n",
      "\u001b[1;31mCommand: '/Users/jai/.pyenv/shims/python -m pip install ipykernel -U --force-reinstall'"
     ]
    }
   ],
   "source": [
    "close_df[[\"DraftKings_fighter\", \"BetMGM_fighter\"]]"
   ]
  },
  {
   "cell_type": "code",
   "execution_count": null,
   "metadata": {},
   "outputs": [
    {
     "ename": "",
     "evalue": "",
     "output_type": "error",
     "traceback": [
      "\u001b[1;31mRunning cells with '/Users/jai/.pyenv/shims/python' requires the ipykernel package.\n",
      "\u001b[1;31mRun the following command to install 'ipykernel' into the Python environment. \n",
      "\u001b[1;31mCommand: '/Users/jai/.pyenv/shims/python -m pip install ipykernel -U --force-reinstall'"
     ]
    }
   ],
   "source": [
    "preds_df[fighter_ml_col]"
   ]
  },
  {
   "cell_type": "code",
   "execution_count": null,
   "metadata": {},
   "outputs": [
    {
     "ename": "",
     "evalue": "",
     "output_type": "error",
     "traceback": [
      "\u001b[1;31mRunning cells with '/Users/jai/.pyenv/shims/python' requires the ipykernel package.\n",
      "\u001b[1;31mRun the following command to install 'ipykernel' into the Python environment. \n",
      "\u001b[1;31mCommand: '/Users/jai/.pyenv/shims/python -m pip install ipykernel -U --force-reinstall'"
     ]
    }
   ],
   "source": [
    "market = \"DraftKings\"\n",
    "# market = \"BetMGM\"\n",
    "\n",
    "kwargs = {\n",
    "    \"max_bankroll_fraction\": 1,\n",
    "    \"groupby_col\": \"week\",\n",
    "    \"fighter_ml_col\": f\"{market}_fighter\",\n",
    "    \"opponent_ml_col\": f\"{market}_opponent\",\n",
    "}\n",
    "\n",
    "temp_preds_df = aug_preds_df.dropna(subset=[\n",
    "    f\"{market}_fighter\", f\"{market}_opponent\"\n",
    "])\n",
    "temp_preds_df\n",
    "\n",
    "print(\"overall winnings\")\n",
    "pm = MultiKellyPM(temp_preds_df, **kwargs)\n",
    "event_return_df = pm.get_all_returns()\n",
    "pm.plot_diagnostics(event_return_df, x_col=\"week\")\n",
    "\n",
    "print(\"ufc winnings\")\n",
    "pm = MultiKellyPM(temp_preds_df.query(\"is_ufc == 1\"), **kwargs)\n",
    "event_return_df = pm.get_all_returns()\n",
    "pm.plot_diagnostics(event_return_df, x_col=\"week\")\n",
    "\n",
    "print(\"non-ufc winnings\")\n",
    "pm = MultiKellyPM(temp_preds_df.query(\"is_ufc == 0\"), **kwargs)\n",
    "event_return_df = pm.get_all_returns()\n",
    "pm.plot_diagnostics(event_return_df, x_col=\"week\")"
   ]
  },
  {
   "attachments": {},
   "cell_type": "markdown",
   "metadata": {},
   "source": [
    "# Predictions for upcoming fights"
   ]
  },
  {
   "cell_type": "code",
   "execution_count": null,
   "metadata": {},
   "outputs": [
    {
     "ename": "",
     "evalue": "",
     "output_type": "error",
     "traceback": [
      "\u001b[1;31mRunning cells with '/Users/jai/.pyenv/shims/python' requires the ipykernel package.\n",
      "\u001b[1;31mRun the following command to install 'ipykernel' into the Python environment. \n",
      "\u001b[1;31mCommand: '/Users/jai/.pyenv/shims/python -m pip install ipykernel -U --force-reinstall'"
     ]
    }
   ],
   "source": [
    "mod = SimpleSymmetricModel(\n",
    "    feat_cols=feat_cols, target_col=\"win_target\", \n",
    "    p_fighter_implied_col=p_fighter_implied_col,\n",
    "    beta_prior_std=1.0, mcmc=False\n",
    ")\n",
    "preds_df = tscv.get_cross_val_preds(\n",
    "    mod, \n",
    "    feat_ml_df.dropna(subset=[\n",
    "        *feat_cols, \"win_target\", p_fighter_implied_col,\n",
    "    ])\n",
    ")"
   ]
  },
  {
   "cell_type": "code",
   "execution_count": null,
   "metadata": {},
   "outputs": [
    {
     "ename": "",
     "evalue": "",
     "output_type": "error",
     "traceback": [
      "\u001b[1;31mRunning cells with '/Users/jai/.pyenv/shims/python' requires the ipykernel package.\n",
      "\u001b[1;31mRun the following command to install 'ipykernel' into the Python environment. \n",
      "\u001b[1;31mCommand: '/Users/jai/.pyenv/shims/python -m pip install ipykernel -U --force-reinstall'"
     ]
    }
   ],
   "source": [
    "from wrangle.clean_bfo_data import parse_american_odds\n",
    "\n",
    "main_card_df = [\n",
    "    (\"Israel Adesanya\", \"Alex Pereira\", \"-150\", \"+130\"),\n",
    "    (\"Gilbert Burns\", \"Jorge Masvidal\", \"-500\", \"+400\"),\n",
    "    (\"Adrian Yanez\", \"Rob Font\", \"-185\", \"+160\"),\n",
    "    (\"Kevin Holland\", \"Santiago Ponzinibbio\", \"-200\", \"+170\"),\n",
    "    (\"Christian Rodriguez\", \"Raul Rosas Jr.\", \"+210\", \"-250\"),\n",
    "]\n",
    "main_card_df = pd.DataFrame(\n",
    "    main_card_df, \n",
    "    columns=[\"FighterName_ufc\", \"OpponentName_ufc\", \n",
    "             \"FighterOpen\", \"OpponentOpen\"],\n",
    ")\n",
    "main_card_df_complement = main_card_df.rename(columns={\n",
    "    \"FighterName_ufc\": \"OpponentName_ufc\",\n",
    "    \"OpponentName_ufc\": \"FighterName_ufc\",\n",
    "    \"FighterOpen\": \"OpponentOpen\",\n",
    "    \"OpponentOpen\": \"FighterOpen\",\n",
    "})\n",
    "main_card_df = pd.concat([\n",
    "    main_card_df,\n",
    "    main_card_df_complement,\n",
    "]).reset_index(drop=True)\n",
    "main_card_df"
   ]
  },
  {
   "cell_type": "code",
   "execution_count": null,
   "metadata": {},
   "outputs": [
    {
     "ename": "",
     "evalue": "",
     "output_type": "error",
     "traceback": [
      "\u001b[1;31mRunning cells with '/Users/jai/.pyenv/shims/python' requires the ipykernel package.\n",
      "\u001b[1;31mRun the following command to install 'ipykernel' into the Python environment. \n",
      "\u001b[1;31mCommand: '/Users/jai/.pyenv/shims/python -m pip install ipykernel -U --force-reinstall'"
     ]
    }
   ],
   "source": [
    "train_df = feat_ml_df.query(\"is_ufc == 1 & is_upcoming == 0\")\\\n",
    "    .dropna(subset=[\n",
    "        *feat_cols, \"win_target\", p_fighter_implied_col\n",
    "    ])\n",
    "test_df = feat_ml_df.query(\"is_upcoming == 1 & Date == '2023-04-08'\").copy()\n",
    "test_df = test_df.drop(columns=[\"FighterOpen\", \"OpponentOpen\"]).merge(\n",
    "    main_card_df,\n",
    "    how=\"inner\",\n",
    "    on=[\"FighterName_ufc\", \"OpponentName_ufc\"],\n",
    ")\n",
    "p_fighter = parse_american_odds(test_df[\"FighterOpen\"])\n",
    "p_opponent = parse_american_odds(test_df[\"OpponentOpen\"])\n",
    "test_df[\"p_fighter_open_implied\"] = p_fighter / (p_fighter + p_opponent)\n",
    "test_df\n",
    "# test_df[p_fighter_implied_col] = test_df[p_fighter_implied_col].fillna(0.5)\n",
    "train_df.shape, test_df.shape"
   ]
  },
  {
   "cell_type": "code",
   "execution_count": null,
   "metadata": {},
   "outputs": [
    {
     "ename": "",
     "evalue": "",
     "output_type": "error",
     "traceback": [
      "\u001b[1;31mRunning cells with '/Users/jai/.pyenv/shims/python' requires the ipykernel package.\n",
      "\u001b[1;31mRun the following command to install 'ipykernel' into the Python environment. \n",
      "\u001b[1;31mCommand: '/Users/jai/.pyenv/shims/python -m pip install ipykernel -U --force-reinstall'"
     ]
    }
   ],
   "source": [
    "test_df[[\"FighterName_ufc\", \"OpponentName_ufc\"]]"
   ]
  },
  {
   "cell_type": "code",
   "execution_count": null,
   "metadata": {},
   "outputs": [
    {
     "ename": "",
     "evalue": "",
     "output_type": "error",
     "traceback": [
      "\u001b[1;31mRunning cells with '/Users/jai/.pyenv/shims/python' requires the ipykernel package.\n",
      "\u001b[1;31mRun the following command to install 'ipykernel' into the Python environment. \n",
      "\u001b[1;31mCommand: '/Users/jai/.pyenv/shims/python -m pip install ipykernel -U --force-reinstall'"
     ]
    }
   ],
   "source": [
    "bfo_to_ufc_map = base_db_interface.read(\"bfo_to_ufc_map\")\n",
    "bfo_to_ufc_map"
   ]
  },
  {
   "cell_type": "code",
   "execution_count": null,
   "metadata": {},
   "outputs": [
    {
     "ename": "",
     "evalue": "",
     "output_type": "error",
     "traceback": [
      "\u001b[1;31mRunning cells with '/Users/jai/.pyenv/shims/python' requires the ipykernel package.\n",
      "\u001b[1;31mRun the following command to install 'ipykernel' into the Python environment. \n",
      "\u001b[1;31mCommand: '/Users/jai/.pyenv/shims/python -m pip install ipykernel -U --force-reinstall'"
     ]
    }
   ],
   "source": [
    "ufc_df = close_df.query(\"EventHref == '/events/ufc-287-2760'\")\n",
    "print(ufc_df.shape)\n",
    "ufc_df = ufc_df.merge(\n",
    "    bfo_to_ufc_map[[\"FighterID_bfo\", \"FighterID_ufc\"]].drop_duplicates(), \n",
    "    how=\"left\", \n",
    "    on=[\"FighterID_bfo\"]\n",
    ").merge(\n",
    "    bfo_to_ufc_map[[\"OpponentID_bfo\", \"OpponentID_ufc\"]].drop_duplicates(),\n",
    "    how=\"left\",\n",
    "    on=[\"OpponentID_bfo\"]\n",
    ")\n",
    "print(ufc_df.shape)\n",
    "ufc_df"
   ]
  },
  {
   "cell_type": "code",
   "execution_count": null,
   "metadata": {},
   "outputs": [
    {
     "ename": "",
     "evalue": "",
     "output_type": "error",
     "traceback": [
      "\u001b[1;31mRunning cells with '/Users/jai/.pyenv/shims/python' requires the ipykernel package.\n",
      "\u001b[1;31mRun the following command to install 'ipykernel' into the Python environment. \n",
      "\u001b[1;31mCommand: '/Users/jai/.pyenv/shims/python -m pip install ipykernel -U --force-reinstall'"
     ]
    }
   ],
   "source": [
    "aug_test_df = test_df.merge(\n",
    "    ufc_df,\n",
    "    how=\"left\",\n",
    "    on=[\"FighterID_ufc\", \"OpponentID_ufc\"],\n",
    ")\n",
    "aug_test_df"
   ]
  },
  {
   "cell_type": "code",
   "execution_count": null,
   "metadata": {},
   "outputs": [
    {
     "ename": "",
     "evalue": "",
     "output_type": "error",
     "traceback": [
      "\u001b[1;31mRunning cells with '/Users/jai/.pyenv/shims/python' requires the ipykernel package.\n",
      "\u001b[1;31mRun the following command to install 'ipykernel' into the Python environment. \n",
      "\u001b[1;31mCommand: '/Users/jai/.pyenv/shims/python -m pip install ipykernel -U --force-reinstall'"
     ]
    }
   ],
   "source": [
    "# aug_test_df[\"p_fighter_open_implied\"]# = aug_test_df[\"p_fighter_open_implied\"].fillna(0.5)\n",
    "aug_test_df.columns[aug_test_df.columns.str.contains(\"p_fighter_open_implied\")]"
   ]
  },
  {
   "cell_type": "code",
   "execution_count": null,
   "metadata": {},
   "outputs": [
    {
     "ename": "",
     "evalue": "",
     "output_type": "error",
     "traceback": [
      "\u001b[1;31mRunning cells with '/Users/jai/.pyenv/shims/python' requires the ipykernel package.\n",
      "\u001b[1;31mRun the following command to install 'ipykernel' into the Python environment. \n",
      "\u001b[1;31mCommand: '/Users/jai/.pyenv/shims/python -m pip install ipykernel -U --force-reinstall'"
     ]
    }
   ],
   "source": [
    "mod = SimpleSymmetricModel(\n",
    "    feat_cols=feat_cols, target_col=\"win_target\", \n",
    "    p_fighter_implied_col=p_fighter_implied_col,\n",
    "    beta_prior_std=1.0, mcmc=False\n",
    ")\n",
    "\n",
    "y_pred = mod.fit_predict(train_df, aug_test_df, feat_cols)\n",
    "y_pred"
   ]
  },
  {
   "cell_type": "code",
   "execution_count": null,
   "metadata": {},
   "outputs": [
    {
     "ename": "",
     "evalue": "",
     "output_type": "error",
     "traceback": [
      "\u001b[1;31mRunning cells with '/Users/jai/.pyenv/shims/python' requires the ipykernel package.\n",
      "\u001b[1;31mRun the following command to install 'ipykernel' into the Python environment. \n",
      "\u001b[1;31mCommand: '/Users/jai/.pyenv/shims/python -m pip install ipykernel -U --force-reinstall'"
     ]
    }
   ],
   "source": [
    "from scipy.special import logit, expit\n",
    "preds_df = aug_test_df.assign(\n",
    "    y_pred = y_pred,\n",
    "    # bet_dir = logit(y_pred) - logit(0.5)\n",
    ")\n",
    "preds_df[[\n",
    "    \"FighterName_ufc\", \"OpponentName_ufc\", \n",
    "    p_fighter_implied_col, \n",
    "    \"y_pred\", \"Date\",\n",
    "    # \"DraftKings_fighter\", \"DraftKings_opponent\",\n",
    "    \"BetMGM_fighter\", \"BetMGM_opponent\",\n",
    "    \"Caesars_fighter\", \"Caesars_opponent\",\n",
    "    \"FanDuel_fighter\", \"FanDuel_opponent\",\n",
    "]]\n",
    "\n",
    "for col in [\n",
    "        \"BetMGM_fighter\", \"BetMGM_opponent\",\n",
    "    \"Caesars_fighter\", \"Caesars_opponent\",\n",
    "    \"FanDuel_fighter\", \"FanDuel_opponent\",\n",
    "    # \"FighterOpen\", \"Opponent\"\n",
    "    ]:\n",
    "    preds_df[col] = preds_df[col].astype(float)\n",
    "preds_df"
   ]
  },
  {
   "cell_type": "code",
   "execution_count": null,
   "metadata": {},
   "outputs": [
    {
     "ename": "",
     "evalue": "",
     "output_type": "error",
     "traceback": [
      "\u001b[1;31mRunning cells with '/Users/jai/.pyenv/shims/python' requires the ipykernel package.\n",
      "\u001b[1;31mRun the following command to install 'ipykernel' into the Python environment. \n",
      "\u001b[1;31mCommand: '/Users/jai/.pyenv/shims/python -m pip install ipykernel -U --force-reinstall'"
     ]
    }
   ],
   "source": [
    "preds_df[[\"FighterName_ufc\", \"OpponentName_ufc\", \"y_pred\", p_fighter_implied_col, \"Date\"]]"
   ]
  },
  {
   "cell_type": "code",
   "execution_count": null,
   "metadata": {},
   "outputs": [
    {
     "ename": "",
     "evalue": "",
     "output_type": "error",
     "traceback": [
      "\u001b[1;31mRunning cells with '/Users/jai/.pyenv/shims/python' requires the ipykernel package.\n",
      "\u001b[1;31mRun the following command to install 'ipykernel' into the Python environment. \n",
      "\u001b[1;31mCommand: '/Users/jai/.pyenv/shims/python -m pip install ipykernel -U --force-reinstall'"
     ]
    }
   ],
   "source": [
    "from model_selection.metrics import MultiKellyPM\n",
    "\n",
    "pm = MultiKellyPM(preds_df,\n",
    "                  fighter_ml_col=\"FanDuel_fighter\",\n",
    "                    opponent_ml_col=\"FanDuel_opponent\",\n",
    "                  parse_ml=True)\n",
    "pm.get_portfolio_weights()"
   ]
  },
  {
   "cell_type": "code",
   "execution_count": null,
   "metadata": {},
   "outputs": [
    {
     "ename": "",
     "evalue": "",
     "output_type": "error",
     "traceback": [
      "\u001b[1;31mRunning cells with '/Users/jai/.pyenv/shims/python' requires the ipykernel package.\n",
      "\u001b[1;31mRun the following command to install 'ipykernel' into the Python environment. \n",
      "\u001b[1;31mCommand: '/Users/jai/.pyenv/shims/python -m pip install ipykernel -U --force-reinstall'"
     ]
    }
   ],
   "source": []
  }
 ],
 "metadata": {
  "kernelspec": {
   "display_name": "sports_pystan2",
   "language": "python",
   "name": "python3"
  },
  "language_info": {
   "codemirror_mode": {
    "name": "ipython",
    "version": 3
   },
   "file_extension": ".py",
   "mimetype": "text/x-python",
   "name": "python",
   "nbconvert_exporter": "python",
   "pygments_lexer": "ipython3",
   "version": "3.7.4"
  },
  "orig_nbformat": 4,
  "vscode": {
   "interpreter": {
    "hash": "2a237f2fbfa4eeeaf420965c4b3f40ac3440be1ed8d868d43cc135fc4be38fee"
   }
  }
 },
 "nbformat": 4,
 "nbformat_minor": 2
}
